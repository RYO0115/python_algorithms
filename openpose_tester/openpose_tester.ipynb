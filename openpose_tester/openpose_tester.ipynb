{
 "cells": [
  {
   "cell_type": "markdown",
   "metadata": {},
   "source": [
    "# How to Use OpenPose\n",
    "\n",
    "## Install OpenPose\n",
    "\n",
    "    mkdir openpose\n",
    "\n",
    "    git clone openpose\n",
    "\n",
    "    mkdir build; cd build\n",
    "\n",
    "    cmake -DBUILD_PYTHON=true ..\n",
    "\n",
    "\n",
    "### Error:: Boost\n",
    "\n",
    "Download Boost from [website](https://www.boost.org/users/download/#live)\n",
    "\n",
    "How to install boost [website](https://boostjp.github.io/howtobuild.html)\n",
    "\n",
    "it is better not to use --prefix option. because, you need to edit CMakeList.txt of OpenPose ( and I couldn't make it )\n",
    "\n",
    "### Error:: ProtoBuf\n",
    "\n",
    "    brew install protobuf\n",
    "\n",
    "### Error:: OpenCV\n",
    "\n",
    "    brew install opencv\n",
    "\n",
    "今後もPythonで使うかもしれないので\n",
    "\n",
    "    pip install opencv-python\n",
    "\n"
   ]
  }
 ],
 "metadata": {
  "language_info": {
   "codemirror_mode": {
    "name": "ipython",
    "version": 3
   },
   "file_extension": ".py",
   "mimetype": "text/x-python",
   "name": "python",
   "nbconvert_exporter": "python",
   "pygments_lexer": "ipython3",
   "version": 3
  },
  "orig_nbformat": 2
 },
 "nbformat": 4,
 "nbformat_minor": 2
}