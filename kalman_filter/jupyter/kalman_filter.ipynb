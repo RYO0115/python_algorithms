{
 "cells": [
  {
   "cell_type": "code",
   "execution_count": 1,
   "metadata": {
    "collapsed": true
   },
   "outputs": [],
   "source": [
    "import math\n",
    "\n",
    "import matplotlib.cm as cm"
   ]
  },
  {
   "cell_type": "code",
   "execution_count": 2,
   "metadata": {
    "collapsed": true
   },
   "outputs": [],
   "source": [
    "myu = 10\n",
    "sigma = 2\n",
    "x = 8"
   ]
  },
  {
   "cell_type": "code",
   "execution_count": 3,
   "metadata": {
    "collapsed": true
   },
   "outputs": [],
   "source": [
    "fx = math.exp((1/-2) * ((x-myu)*(x-myu))/(sigma*sigma) ) * (1 / (math.sqrt(2 * math.pi * sigma*sigma)))\n"
   ]
  },
  {
   "cell_type": "code",
   "execution_count": 4,
   "metadata": {
    "collapsed": false,
    "scrolled": true
   },
   "outputs": [
    {
     "data": {
      "text/plain": [
       "0.12098536225957168"
      ]
     },
     "execution_count": 4,
     "metadata": {},
     "output_type": "execute_result"
    }
   ],
   "source": [
    "fx"
   ]
  },
  {
   "attachments": {},
   "cell_type": "markdown",
   "metadata": {},
   "source": [
    "((x-myu)**2/(sigma**2))\n"
   ]
  },
  {
   "cell_type": "code",
   "execution_count": 5,
   "metadata": {
    "collapsed": false
   },
   "outputs": [
    {
     "data": {
      "text/plain": [
       "1.0"
      ]
     },
     "execution_count": 5,
     "metadata": {},
     "output_type": "execute_result"
    }
   ],
   "source": [
    "((x-myu)**2)/(sigma**2)\n"
   ]
  },
  {
   "attachments": {},
   "cell_type": "markdown",
   "metadata": {},
   "source": [
    "$$f(x)=\\frac{1}{\\sqrt{2 * \\pi * \\sigma^2}} * \\mathrm{exp}^{-\\frac{1}{2}\\frac{(x-\\mu)^2}{\\sigma^2}}$$"
   ]
  },
  {
   "cell_type": "code",
   "execution_count": 6,
   "metadata": {
    "collapsed": true
   },
   "outputs": [],
   "source": [
    "def gaussian_function( mu, sigma_sq, x):\n",
    "    fx = math.exp((-.5 * ((x-mu)*(x-mu))/(sigma_sq) )) * (1 / (math.sqrt(2 * math.pi * sigma_sq)))\n",
    "    return(fx)"
   ]
  },
  {
   "cell_type": "code",
   "execution_count": 7,
   "metadata": {
    "collapsed": false
   },
   "outputs": [
    {
     "data": {
      "text/plain": [
       "0.19947114020071635"
      ]
     },
     "execution_count": 7,
     "metadata": {},
     "output_type": "execute_result"
    }
   ],
   "source": [
    "gaussian_function( 10, 4, 10)"
   ]
  },
  {
   "cell_type": "code",
   "execution_count": 8,
   "metadata": {
    "collapsed": false
   },
   "outputs": [
    {
     "data": {
      "text/plain": [
       "0.12098536225957168"
      ]
     },
     "execution_count": 8,
     "metadata": {},
     "output_type": "execute_result"
    }
   ],
   "source": [
    "fx"
   ]
  },
  {
   "cell_type": "code",
   "execution_count": 9,
   "metadata": {
    "collapsed": true
   },
   "outputs": [],
   "source": [
    "mu = 10\n",
    "sigma_sq = 4"
   ]
  },
  {
   "attachments": {},
   "cell_type": "markdown",
   "metadata": {},
   "source": [
    "Measurement Update\n",
    "$$ \\mu = \\frac{\\sigma^2 * \\mu + \\gamma^2 * \\nu}{\\sigma^2 + \\gamma^2 } $$\n",
    "$$ \\sigma = \\frac{1}{\\frac{1}{\\sigma^2} + \\frac{1}{\\gamma^2}} $$"
   ]
  },
  {
   "cell_type": "code",
   "execution_count": 10,
   "metadata": {
    "collapsed": true
   },
   "outputs": [],
   "source": [
    "m_mu = 12\n",
    "m_sigma_sq = 4"
   ]
  },
  {
   "cell_type": "code",
   "execution_count": 11,
   "metadata": {
    "collapsed": true
   },
   "outputs": [],
   "source": [
    "def new_measurement_mu( p_mu, p_sigma_sq, m_mu, m_sigma_sq):\n",
    "    new_mu = (m_sigma_sq * p_mu + p_sigma_sq *m_mu)/(p_sigma_sq + m_sigma_sq)\n",
    "    return(new_mu)"
   ]
  },
  {
   "cell_type": "code",
   "execution_count": 12,
   "metadata": {
    "collapsed": true
   },
   "outputs": [],
   "source": [
    "def new_measurement_sigmasq( p_mu, p_sigma_sq, m_mu, m_sigma_sq):\n",
    "    new_sigma_sq = 1/(1/p_sigma_sq + 1/m_sigma_sq)\n",
    "    return(new_sigma_sq)"
   ]
  },
  {
   "cell_type": "code",
   "execution_count": 14,
   "metadata": {
    "collapsed": false
   },
   "outputs": [
    {
     "data": {
      "text/plain": [
       "11.0"
      ]
     },
     "execution_count": 14,
     "metadata": {},
     "output_type": "execute_result"
    }
   ],
   "source": [
    "new_measurement_mu(mu,sigma_sq,m_mu, m_sigma_sq)"
   ]
  },
  {
   "cell_type": "code",
   "execution_count": 15,
   "metadata": {
    "collapsed": true
   },
   "outputs": [],
   "source": [
    "def measurement_update( p_mu, p_sigma_sq, m_mu, m_sigma_sq):\n",
    "    new_mu    = new_measurement_mu(p_mu, p_sigma_sq, m_mu, m_sigma_sq)\n",
    "    new_sigma = new_measurement_sigmasq(p_mu, p_sigma_sq, m_mu, m_sigma_sq)\n",
    "    return([new_mu, new_sigma])"
   ]
  },
  {
   "cell_type": "code",
   "execution_count": 16,
   "metadata": {
    "collapsed": false
   },
   "outputs": [
    {
     "name": "stdout",
     "output_type": "stream",
     "text": [
      "[12.4, 1.6]\n"
     ]
    }
   ],
   "source": [
    "print(measurement_update(10,8,13,2))\n"
   ]
  },
  {
   "cell_type": "code",
   "execution_count": 17,
   "metadata": {
    "collapsed": true
   },
   "outputs": [],
   "source": [
    "def new_motion_mu( p_mu, mu):\n",
    "    new_mu = p_mu + mu\n",
    "    return(new_mu)"
   ]
  },
  {
   "cell_type": "code",
   "execution_count": 18,
   "metadata": {
    "collapsed": true
   },
   "outputs": [],
   "source": [
    "def new_motion_sigmasq( p_sigma_sq, sigma_sq):\n",
    "    new_sigma_sq = p_sigma_sq + sigma_sq\n",
    "    return(new_sigma_sq)"
   ]
  },
  {
   "cell_type": "code",
   "execution_count": 19,
   "metadata": {
    "collapsed": true
   },
   "outputs": [],
   "source": [
    "def motion_update(p_mu, p_sigma_sq, mu, sigma_sq):\n",
    "    new_mu = new_motion_mu(p_mu, mu)\n",
    "    new_sigma_sq = new_motion_sigmasq(p_sigma_sq, sigma_sq)\n",
    "    return([new_mu, new_sigma_sq])"
   ]
  },
  {
   "cell_type": "code",
   "execution_count": 20,
   "metadata": {
    "collapsed": false
   },
   "outputs": [
    {
     "data": {
      "text/plain": [
       "[18, 10]"
      ]
     },
     "execution_count": 20,
     "metadata": {},
     "output_type": "execute_result"
    }
   ],
   "source": [
    "motion_update(8,4,10,6)"
   ]
  }
 ],
 "metadata": {
  "kernelspec": {
   "display_name": "Python 3.10.5 64-bit ('3.10.5')",
   "language": "python",
   "name": "python3"
  },
  "language_info": {
   "codemirror_mode": {
    "name": "ipython",
    "version": 3
   },
   "file_extension": ".py",
   "mimetype": "text/x-python",
   "name": "python",
   "nbconvert_exporter": "python",
   "pygments_lexer": "ipython3",
   "version": "3.8.10"
  },
  "vscode": {
   "interpreter": {
    "hash": "3179f89956a94b87ab3f2bd89a54073c7185ac722f8ca4764c60851b1b34a510"
   }
  }
 },
 "nbformat": 4,
 "nbformat_minor": 2
}
