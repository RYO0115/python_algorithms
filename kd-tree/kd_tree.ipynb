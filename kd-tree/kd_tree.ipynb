{
 "cells": [
  {
   "cell_type": "code",
   "execution_count": 1,
   "metadata": {
    "collapsed": true
   },
   "outputs": [],
   "source": [
    "import math\n",
    "import xml.etree.ElementTree as etree\n",
    "import random\n",
    "import pprint"
   ]
  },
  {
   "cell_type": "code",
   "execution_count": 2,
   "metadata": {
    "collapsed": true
   },
   "outputs": [],
   "source": [
    "import matplotlib.pyplot as plt\n",
    "import matplotlib.patches as patches"
   ]
  },
  {
   "cell_type": "code",
   "execution_count": 3,
   "metadata": {
    "collapsed": true
   },
   "outputs": [],
   "source": [
    "class Point:\n",
    "    def __init__(self):\n",
    "        self.x = None\n",
    "        self.y = None\n",
    "        self.z = None\n",
    "\n",
    "        self.id = None"
   ]
  },
  {
   "cell_type": "code",
   "execution_count": 4,
   "metadata": {
    "collapsed": true
   },
   "outputs": [],
   "source": [
    "\n",
    "\n",
    "pp = pprint.PrettyPrinter(indent=4)\n",
    "\n",
    "def Distance(point1, point2):\n",
    "    x1, y1 = point1\n",
    "    x2, y2 = point2\n",
    "\n",
    "    dx = x1 - x2\n",
    "    dy = y1 - y2\n",
    "    \n",
    "    return(math.sqrt(dx * dx + dy * dy))\n",
    "\n",
    "def ClosestPoint(all_points, new_point):\n",
    "    best_point = None\n",
    "    best_distance = None\n",
    "\n",
    "    for current_point in all_points:\n",
    "        current_distance = Distance(new_point, current_point)\n",
    "        if best_distance == None or current_distance < best_distance:\n",
    "            best_distance = current_distance\n",
    "            best_point = current_point\n",
    "    \n",
    "    return best_point\n",
    "\n",
    "k = 2 \n",
    "def BuildKdtree(points, depth=0):\n",
    "    n = len(points)\n",
    "\n",
    "    if n<= 0:\n",
    "        return None\n",
    "    \n",
    "    axis = depth % k\n",
    "\n",
    "    sorted_points = sorted(points, key= lambda point: point[axis])\n",
    "\n",
    "    return({\n",
    "        \"point\": sorted_points[ (int)(n / 2)][:k],\n",
    "        \"left\":  BuildKdtree(sorted_points[:(int)(n/2)], depth+1),\n",
    "        \"right\": BuildKdtree(sorted_points[(int)(n/2) + 1:], depth+1),\n",
    "        \"classified\": -1\n",
    "    })\n",
    "\n",
    "def KdtreeNaiveClosestPoint( root, point, depth=0, best=None):\n",
    "    if root is None:\n",
    "        return best\n",
    "    \n",
    "    axis = depth % k\n",
    " \n",
    "    next_best = None\n",
    "    next_branch = None\n",
    "    if best is None or Distance(point, best) > Distance(point, root[\"point\"]):\n",
    "        next_best = root[\"point\"]\n",
    "    else:\n",
    "        next_best = best\n",
    "    \n",
    "    if point[axis] < root[\"point\"][axis]:\n",
    "        next_branch = root[\"left\"]\n",
    "    else:\n",
    "        next_branch = root[\"right\"]\n",
    "    \n",
    "    return(KdtreeNaiveClosestPoint(next_branch, point, depth+1, best = next_best))\n",
    "\n",
    "def CloserDistance( pivot, p1, p2):\n",
    "    if p1 is None:\n",
    "        return(p2)\n",
    "    if p2 is None:\n",
    "        return(p1)\n",
    "    \n",
    "    d1 = Distance(p1, pivot)\n",
    "    d2 = Distance(p2, pivot)\n",
    "    \n",
    "    if d1 < d2:\n",
    "        return(p1)\n",
    "    else:\n",
    "        return(p2)\n",
    "\n",
    "def KdtreeClosestPoint( root, point, depth=0):\n",
    "    if root is None:\n",
    "        return (None)\n",
    "    \n",
    "    axis = depth % k \n",
    "    next_branch = None\n",
    "    opposite_branch = None\n",
    "\n",
    "    if point[axis] < root[\"point\"][axis]:\n",
    "        next_branch = root[\"left\"]\n",
    "        opposite_branch = root[\"right\"]\n",
    "    else:\n",
    "        next_branch = root[\"right\"]\n",
    "        opposite_branch = root[\"left\"]\n",
    "    \n",
    "    #print(\"depth:\",depth, \" p1:\", point)\n",
    "    \n",
    "    best = CloserDistance(point,\n",
    "                        KdtreeClosestPoint(next_branch, point, depth + 1),\n",
    "                        root[\"point\"])\n",
    "\n",
    "    if Distance(point, best) > abs(point[axis] - root[\"point\"][axis]):\n",
    "        best = CloserDistance(point,\n",
    "                                KdtreeClosestPoint(opposite_branch, point, depth+1),\n",
    "                                best)\n",
    "\n",
    "    return(best)\n",
    "\n",
    "\n",
    "def KdtreeRangeSearch( root, point, depth=0, epsilon=1.0):\n",
    "\n",
    "    #fig,ax = plt.subplots()\n",
    "\n",
    "    if root is None:\n",
    "        return(None)\n",
    "    \n",
    "    \n",
    "    axis = depth % k\n",
    "    next_branch = None\n",
    "    opposite_branch = None\n",
    "    \n",
    "    points = []\n",
    "    \n",
    "    if root[\"classified\"] == -1 and Distance(point, root[\"point\"]) <= epsilon:\n",
    "        #print(\"Member\")\n",
    "        points.append(root[\"point\"])\n",
    "    \n",
    "    if point[axis] < root[\"point\"][axis]:\n",
    "        next_branch = root[\"left\"]\n",
    "        opposite_branch = root[\"right\"]\n",
    "    else:\n",
    "        next_branch = root[\"right\"]\n",
    "        opposite_branch = root[\"left\"]\n",
    "\n",
    "\n",
    "    #print(\"Depth>>\", depth)\n",
    "    #if root[\"right\"] is not None:\n",
    "    ##    print(\"right>>\", root[\"right\"][\"point\"])\n",
    "    #if root[\"left\"] is not None:\n",
    "    #    print(\"left>>\", root[\"left\"][\"point\"])\n",
    "    #if next_branch is not None:\n",
    "    #    print(\"Next>>\", next_branch[\"point\"])\n",
    "\n",
    "\n",
    "    \n",
    "    # 近い側のブランチの探索\n",
    "    #print(\"Near Branch\")\n",
    "    new_points = KdtreeRangeSearch( next_branch, point, depth + 1, epsilon)\n",
    "    #for p in points:\n",
    "    #    ax.scatter(p[0], p[1], c= \"black\", s=5)\n",
    "\n",
    "    if new_points is not None:\n",
    "        #for p in new_points:\n",
    "        #    ax.scatter(p[0], p[1], c= \"blue\", s=5)\n",
    "        points.extend(new_points)\n",
    "\n",
    "    # 遠い側のブランチの探索\n",
    "    #print(\"Opposite Branch\")\n",
    "    if opposite_branch is not None:\n",
    "        if math.fabs(point[axis] - root[\"point\"][axis]) <= epsilon:\n",
    "            new_points = KdtreeRangeSearch( opposite_branch, point, depth + 1, epsilon)\n",
    "\n",
    "            if new_points is not None:\n",
    "                #for p in new_points:\n",
    "                #    ax.scatter(p[0], p[1], c= \"red\", s=5)\n",
    "                points.extend(new_points)\n",
    "    \n",
    "\n",
    "    return(points)\n",
    "    \n"
   ]
  },
  {
   "cell_type": "code",
   "execution_count": 5,
   "metadata": {
    "collapsed": true
   },
   "outputs": [],
   "source": [
    "class RayCasting:\n",
    "    def __init__(self, range_min_th, range_max_th, range_resolution, angle_min, angle_max, angle_resolution):\n",
    "\n",
    "                         \n",
    "        self.__lookuptable  =   None\n",
    "        self.ray_line_num     =   None\n",
    "        self.single_ray_point_num     = None\n",
    "\n",
    "        self.__range_max_th = None\n",
    "        self.__range_min_th = None\n",
    "        self.__range_res    = None\n",
    "\n",
    "        self.__angle_max    = None\n",
    "        self.__angle_min    = None\n",
    "        self.__angle_res    = None\n",
    "        \n",
    "        self.ChangeRangeParam( range_min_th, range_max_th, range_resolution)\n",
    "        self.ChangeAngleParam( angle_min, angle_max, angle_resolution)\n",
    "        \n",
    "        self.CreateLookUpTable()\n",
    "        \n",
    "\n",
    "    def ChangeRangeParam(self, range_min_th, range_max_th, range_resolution):\n",
    "        self.__range_min_th = range_min_th\n",
    "        self.__range_max_th = range_max_th\n",
    "        self.__range_res    = range_resolution\n",
    "\n",
    "        print(\"Range Param\")\n",
    "        print(self.__range_min_th, self.__range_max_th, self.__range_res)\n",
    "        \n",
    "    def ChangeAngleParam(self, angle_min, angle_max, angle_resolution):\n",
    "        deg2rad = 1.0\n",
    "        if angle_min > 1.57 or angle_max > 1.57:\n",
    "            deg2rad = math.pi / 180.0\n",
    "\n",
    "        self.__angle_min    = deg2rad * angle_min\n",
    "        self.__angle_max    = deg2rad * angle_max\n",
    "        self.__angle_res    = deg2rad * angle_resolution\n",
    "        print(\"Angle Param\")\n",
    "        print(self.__angle_min, self.__angle_max, self.__angle_res)\n",
    "        \n",
    "        \n",
    "    def CreateLookUpTable(self):\n",
    "        print(\"Angle Param\")\n",
    "        print(self.__angle_min, self.__angle_max, self.__angle_res)\n",
    "        print(\"Range Param\")\n",
    "        print(self.__range_min_th, self.__range_max_th, self.__range_res)\n",
    "        \n",
    "        self.ray_line_num            = (int) ( (self.__angle_max - self.__angle_min) / self.__angle_res )\n",
    "        self.single_ray_point_num    = (int) ( (self.__range_max_th - self.__range_min_th) / self.__range_res)\n",
    "\n",
    "        #line = [[ 0.0, 0.0, 0.0] for i in range(self.single_ray_point_num)]\n",
    "        point_range = self.__range_min_th\n",
    "        p = [ 0.0, 0.0, 0.0]\n",
    "        \n",
    "        range_list = []\n",
    "        self.single_ray_point_num = 0\n",
    "        while point_range < self.__range_max_th:\n",
    "            #p[0] = point_range \n",
    "            #p[2] = point_range * math.tan(self.__angle_res * 0.5)\n",
    "            range_list.append([point_range, point_range * math.tan(self.__angle_res * 0.5)])\n",
    "            point_range += point_range * math.tan( self.__angle_res)\n",
    "            self.single_ray_point_num += 1\n",
    "        \n",
    "        #for i in range(self.single_ray_point_num):\n",
    "        #    point_range = self.__range_min_th + self.__range_res * i\n",
    "        #    line[i][2] = point_range * math.tan(self.__angle_res * 0.5)\n",
    "\n",
    "        #self.__lookuptable = [line for i in range(self.ray_line_num)]\n",
    "\n",
    "\n",
    "        point_range = None\n",
    "        self.__lookuptable = []\n",
    "        for i in range(self.ray_line_num):\n",
    "            ang = self.__angle_min + self.__angle_res * i\n",
    "            line = []\n",
    "            #for j in range(self.single_ray_point_num):\n",
    "            for j in range(len(range_list)):\n",
    "                #point_range = self.__range_min_th + self.__range_res * j\n",
    "                #point_range = l[j][0]\n",
    "                #l[j][0] = point_range * math.cos(ang)\n",
    "                #l[j][1] = point_range * math.sin(ang)\n",
    "                p = []\n",
    "                x = range_list[j][0] * math.cos(ang)\n",
    "                y = range_list[j][0] * math.sin(ang)\n",
    "                p = [ x, y, range_list[j][1]]\n",
    "                line.append( p )\n",
    "                #self.__lookuptable[i][j][0] = point_range * math.cos(ang)\n",
    "                #self.__lookuptable[i][j][1] = point_range * math.sin(ang)\n",
    "                #self.__lookuptable[i][j][2] = point_range * math.tan(self.__angle_res * 0.5)\n",
    "                #print( point_range, \":\", self.__lookuptable[i][j][2])\n",
    "            self.__lookuptable.append(line)\n",
    "\n",
    "        #for i in range(self.ray_line_num):\n",
    "        #    for j in range(len(self.__lookuptable[i])):\n",
    "        #        print(self.__lookuptable[i][j])\n",
    "        \n",
    "    def Run( self, kdtree):\n",
    "        nearest_points = []\n",
    "        for i in range(self.ray_line_num):\n",
    "            p = None\n",
    "            for j in range(self.single_ray_point_num):\n",
    "                p = KdtreeClosestPoint( kdtree,  self.__lookuptable[i][j][:2], 0)\n",
    "                dist = Distance( self.__lookuptable[i][j][:2], p)\n",
    "                #print(i,\",\",j,\",\",self.__lookuptable[i][j], \":::: dist=\",dist)\n",
    "                \n",
    "                if dist < self.__lookuptable[i][j][2]:\n",
    "                    nearest_points.append(p)\n",
    "            if p == None:\n",
    "                nearest_points.append(self.__lookuptable[i][self.range_ray_point_num - 1][:2])\n",
    "        return(nearest_points)"
   ]
  },
  {
   "cell_type": "code",
   "execution_count": 6,
   "metadata": {
    "collapsed": true
   },
   "outputs": [],
   "source": [
    "\n",
    "\n",
    "points = [[random.uniform(0,100), random.uniform(-50,50), i] for i in range(100)]\n",
    "\n",
    "#points[5][0] = points[6][0]\n",
    "#points[7][1] = points[8][1]\n"
   ]
  },
  {
   "cell_type": "code",
   "execution_count": 7,
   "metadata": {
    "collapsed": true
   },
   "outputs": [],
   "source": [
    "kdtree = BuildKdtree(points, 0)"
   ]
  },
  {
   "cell_type": "code",
   "execution_count": 8,
   "metadata": {
    "collapsed": false
   },
   "outputs": [
    {
     "data": {
      "text/plain": [
       "0.43634338953793944"
      ]
     },
     "execution_count": 8,
     "metadata": {},
     "output_type": "execute_result"
    }
   ],
   "source": [
    "math.tan(0.5 * math.pi / 180.0) * 50"
   ]
  },
  {
   "cell_type": "code",
   "execution_count": 9,
   "metadata": {
    "collapsed": false
   },
   "outputs": [
    {
     "name": "stdout",
     "output_type": "stream",
     "text": [
      "Range Param\n",
      "5 100 1\n",
      "Angle Param\n",
      "-1.5707963267948966 1.5707963267948966 0.008726646259971648\n",
      "Angle Param\n",
      "-1.5707963267948966 1.5707963267948966 0.008726646259971648\n",
      "Range Param\n",
      "5 100 1\n"
     ]
    }
   ],
   "source": [
    "ray_cast = RayCasting( 5, 100, 1, -90, 90, 0.5)"
   ]
  },
  {
   "cell_type": "code",
   "execution_count": 10,
   "metadata": {
    "collapsed": false
   },
   "outputs": [],
   "source": [
    "nn_points = ray_cast.Run(kdtree)"
   ]
  },
  {
   "cell_type": "code",
   "execution_count": 11,
   "metadata": {
    "collapsed": false
   },
   "outputs": [
    {
     "data": {
      "text/plain": [
       "[[0.889682152970761, -26.940799243625978],\n",
       " [0.880191111609574, -13.695746726617344],\n",
       " [10.389658037984816, -33.97547133305214],\n",
       " [8.39803643702821, -23.006926563603315],\n",
       " [8.03234104936854, -17.246659776393727],\n",
       " [16.933898605330157, -30.63855910680473],\n",
       " [25.25022630918592, -44.65123963418576],\n",
       " [47.75157669000366, -45.63625946407244],\n",
       " [50.057858963459104, -44.77928547028189],\n",
       " [35.93271956185864, -31.10841795530408],\n",
       " [47.61955725571219, -37.97957025009897],\n",
       " [64.56215683031054, -49.80701646410628],\n",
       " [65.0873954852918, -48.935966570992484],\n",
       " [30.634623066600774, -19.059064632823876],\n",
       " [48.050223332002915, -29.89790134607919],\n",
       " [72.66799661364186, -34.96484445021879],\n",
       " [75.498443727376, -31.367402777264353],\n",
       " [91.48408086583802, -37.95265399312765],\n",
       " [82.55811027069686, -30.430881183251536],\n",
       " [26.59660380426727, -8.327917125049602],\n",
       " [61.64507050601529, -18.391692289146977],\n",
       " [88.65879605423399, -21.922284682640083],\n",
       " [67.82668391388142, -15.812121379682019],\n",
       " [96.1024255301056, -18.89201567835237],\n",
       " [81.48187477350962, -10.58218604619389],\n",
       " [50.57327734760278, -5.318230123256662],\n",
       " [96.98218131218145, -7.679962060053434],\n",
       " [77.1884104772013, -3.4570282786122064],\n",
       " [89.67847827222705, 0.3428637179948453],\n",
       " [88.04899425147946, 2.115259694351309],\n",
       " [28.600178539391308, 1.2528810508779884],\n",
       " [70.93976840019128, 6.7526404438550856],\n",
       " [72.49287864488075, 6.934144885113213],\n",
       " [78.40153946356524, 8.065312141435008],\n",
       " [95.28007190000608, 12.012601817434899],\n",
       " [75.62702846565382, 11.960340571733695],\n",
       " [68.50719809409159, 15.333203574567435],\n",
       " [59.963885459304564, 13.599810214456234],\n",
       " [72.14937868478495, 19.004418633121418],\n",
       " [81.21661551605779, 21.933405766703856],\n",
       " [82.70735272251564, 22.93841839361656],\n",
       " [50.99799494151854, 15.115171383094022],\n",
       " [60.22192893562467, 19.168305463959797],\n",
       " [37.84661330535711, 14.239402998979813],\n",
       " [35.99698289493104, 14.18993806034048],\n",
       " [54.54363615055458, 23.294966756509695],\n",
       " [11.751377527074558, 5.1960571421762936],\n",
       " [28.920726994801793, 13.749982328923693],\n",
       " [24.813882809827714, 12.166196786460802],\n",
       " [52.163795447746466, 26.53364983552234],\n",
       " [87.08818277731352, 46.41581956035242],\n",
       " [80.62979360107857, 43.570002459023954],\n",
       " [64.91607607567623, 37.8441826207695],\n",
       " [73.96480441266652, 42.782936830542525],\n",
       " [82.29845054910875, 47.23363369239476],\n",
       " [57.61688409648937, 34.029974832033375],\n",
       " [25.434425695170848, 15.223520372185746],\n",
       " [26.923626067742102, 16.08793934465284],\n",
       " [42.68870387466714, 27.559735188214475],\n",
       " [43.193030187143336, 30.12335165019273],\n",
       " [29.2588297702724, 24.59214588250383],\n",
       " [28.717743847177335, 25.04135954196539],\n",
       " [38.51265753139046, 33.34384044667526],\n",
       " [24.804223605707353, 27.352572849451775],\n",
       " [42.22182083149967, 48.38231238884981],\n",
       " [37.06195812761376, 45.602137626094546],\n",
       " [32.626689726959725, 41.39187779020894],\n",
       " [14.45651503528893, 19.195913067837893],\n",
       " [16.95882476736016, 23.6394174407303],\n",
       " [25.76370167127443, 41.176828459770775],\n",
       " [27.246897610154296, 48.46158759938042],\n",
       " [12.81573943087958, 26.83583164083494],\n",
       " [18.39378420617693, 41.153876966945376],\n",
       " [16.01211403645546, 43.988401215615326],\n",
       " [6.57700425137927, 32.857730648159304],\n",
       " [5.87744531966613, 31.680618351711715],\n",
       " [2.320434708195618, 47.4170787215195]]"
      ]
     },
     "execution_count": 11,
     "metadata": {},
     "output_type": "execute_result"
    }
   ],
   "source": [
    "nn_points"
   ]
  },
  {
   "cell_type": "code",
   "execution_count": 12,
   "metadata": {
    "collapsed": true
   },
   "outputs": [],
   "source": [
    "import time"
   ]
  },
  {
   "cell_type": "code",
   "execution_count": 13,
   "metadata": {
    "collapsed": false,
    "tags": [
     "outputPrepend"
    ]
   },
   "outputs": [
    {
     "name": "stdout",
     "output_type": "stream",
     "text": [
      "0.0\n"
     ]
    }
   ],
   "source": [
    "#pp.pprint(kdtree)\n",
    "p = [ 25, 25]\n",
    "#nearest = kdtree_naive_closest_point(kdtree, p)\n",
    "\n",
    "#nearest = KdTreeClosestPoint(kdtree, p)\n",
    "#nearest\n",
    "epsilon = 10\n",
    "t1 = time.time()\n",
    "cluster_points = KdtreeRangeSearch(kdtree, p, 0, epsilon=epsilon)\n",
    "t2 = time.time()\n",
    "print(t2-t1)"
   ]
  },
  {
   "cell_type": "code",
   "execution_count": 14,
   "metadata": {
    "collapsed": false
   },
   "outputs": [
    {
     "data": {
      "text/plain": [
       "8"
      ]
     },
     "execution_count": 14,
     "metadata": {},
     "output_type": "execute_result"
    }
   ],
   "source": [
    "len(cluster_points)"
   ]
  },
  {
   "cell_type": "code",
   "execution_count": 15,
   "metadata": {
    "collapsed": false
   },
   "outputs": [
    {
     "data": {
      "image/png": "[encoded data removed]",
      "text/plain": [
       "<Figure size 432x288 with 1 Axes>"
      ]
     },
     "metadata": {
      "needs_background": "light"
     },
     "output_type": "display_data"
    }
   ],
   "source": [
    "fig = plt.figure()\n",
    "ax = plt.axes()\n",
    "\n",
    "for point in points:\n",
    "    ax.scatter(point[0], point[1], c= \"blue\", s=5)\n",
    "\n",
    "for point in nn_points:\n",
    "    ax.scatter(point[0], point[1], c=\"red\", s=2)\n"
   ]
  },
  {
   "cell_type": "code",
   "execution_count": 16,
   "metadata": {
    "collapsed": false
   },
   "outputs": [
    {
     "data": {
      "text/plain": [
       "<matplotlib.patches.Ellipse at 0x1626044bc40>"
      ]
     },
     "execution_count": 16,
     "metadata": {},
     "output_type": "execute_result"
    },
    {
     "data": {
      "image/png": "[encoded data removed]",
      "text/plain": [
       "<Figure size 432x288 with 1 Axes>"
      ]
     },
     "metadata": {
      "needs_background": "light"
     },
     "output_type": "display_data"
    }
   ],
   "source": [
    "\n",
    "nearest = KdtreeClosestPoint(kdtree, p)\n",
    "nearest\n",
    "\n",
    "fig = plt.figure()\n",
    "ax = plt.axes()\n",
    "ax.set_aspect(\"equal\")\n",
    "for point in points:\n",
    "    ax.scatter(point[0], point[1], c=\"green\", s=2)\n",
    "ax.scatter(p[0], p[1], c=\"red\")\n",
    "ax.scatter(nearest[0], nearest[1], c=\"blue\", s=2)\n",
    "\n",
    "for member in cluster_points:\n",
    "    ax.scatter(member[0],member[1], c=\"red\", s=2)\n",
    "    #circle = patches.Ellipse(xy=(member[0], member[1]), width=5, height=5, ec=\"blue\", fill=False)\n",
    "    #ax.add_patch(circle)\n",
    "\n",
    "eps = patches.Ellipse(xy=(p[0], p[1]), width = 2*epsilon, height=2*epsilon, ec=\"red\", fill=False, linewidth=1)\n",
    "ax.add_patch(eps)"
   ]
  },
  {
   "cell_type": "code",
   "execution_count": null,
   "metadata": {},
   "outputs": [],
   "source": []
  }
 ],
 "metadata": {
  "kernelspec": {
   "display_name": "Python 3.10.5 64-bit ('3.10.5')",
   "language": "python",
   "name": "python3"
  },
  "language_info": {
   "codemirror_mode": {
    "name": "ipython",
    "version": 3
   },
   "file_extension": ".py",
   "mimetype": "text/x-python",
   "name": "python",
   "nbconvert_exporter": "python",
   "pygments_lexer": "ipython3",
   "version": "3.10.5"
  },
  "vscode": {
   "interpreter": {
    "hash": "3179f89956a94b87ab3f2bd89a54073c7185ac722f8ca4764c60851b1b34a510"
   }
  }
 },
 "nbformat": 4,
 "nbformat_minor": 2
}
