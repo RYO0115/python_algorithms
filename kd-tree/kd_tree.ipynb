{
 "cells": [
  {
   "cell_type": "code",
   "execution_count": 1,
   "metadata": {},
   "outputs": [],
   "source": [
    "import math\n",
    "import xml.etree.ElementTree as etree\n",
    "import random\n",
    "import pprint"
   ]
  },
  {
   "cell_type": "code",
   "execution_count": 2,
   "metadata": {},
   "outputs": [],
   "source": [
    "class Point:\n",
    "    def __init__(self):\n",
    "        self.x = None\n",
    "        self.y = None\n",
    "        self.z = None\n",
    "\n",
    "        self.id = None"
   ]
  },
  {
   "cell_type": "code",
   "execution_count": 3,
   "metadata": {},
   "outputs": [],
   "source": [
    "\n",
    "\n",
    "pp = pprint.PrettyPrinter(indent=4)\n",
    "\n",
    "def Distance(point1, point2):\n",
    "    x1, y1 = point1\n",
    "    x2, y2 = point2\n",
    "\n",
    "    dx = x1 - x2\n",
    "    dy = y1 - y2\n",
    "    \n",
    "    return(math.sqrt(dx * dx + dy * dy))\n",
    "\n",
    "def ClosestPoint(all_points, new_points):\n",
    "    best_point = None\n",
    "    best_distance = None\n",
    "\n",
    "    for current_point in all_points:\n",
    "        current_distance = Distance(new_point, current_point)\n",
    "        if best_distance == None or current_distance < best_distance:\n",
    "            best_distance = current_distance\n",
    "            best_point = current_point\n",
    "    \n",
    "    return best_point\n",
    "\n",
    "k = 2 \n",
    "def BuildKdtree(points, depth=0):\n",
    "    n = len(points)\n",
    "\n",
    "    if n<= 0:\n",
    "        return None\n",
    "    \n",
    "    axis = depth % k\n",
    "\n",
    "    sorted_points = sorted(points, key= lambda point: point[axis])\n",
    "\n",
    "    return({\n",
    "        \"point\": sorted_points[ (int)(n / 2)][:k],\n",
    "        \"left\":  BuildKdtree(sorted_points[:(int)(n/2)], depth+1),\n",
    "        \"right\": BuildKdtree(sorted_points[(int)(n/2) + 1:], depth+1),\n",
    "        \"classified\": -1\n",
    "    })\n",
    "\n",
    "def KdtreeNaiveClosestPoint( root, point, depth=0, best=None):\n",
    "    if root is None:\n",
    "        return best\n",
    "    \n",
    "    axis = depth % k\n",
    " \n",
    "    next_best = None\n",
    "    next_branch = None\n",
    "    if best is None or Distance(point, best) > distance(point, root[\"point\"]):\n",
    "        next_best = root[\"point\"]\n",
    "    else:\n",
    "        next_best = best\n",
    "    \n",
    "    if point[axis] < root[\"point\"][axis]:\n",
    "        next_branch = root[\"left\"]\n",
    "    else:\n",
    "        next_branch = root[\"right\"]\n",
    "    \n",
    "    return(KdtreeNaiveClosestPoint(next_branch, point, depth+1, best = next_best))\n",
    "\n",
    "def CloserDistance( pivot, p1, p2):\n",
    "    if p1 is None:\n",
    "        return(p2)\n",
    "    if p2 is None:\n",
    "        return(p1)\n",
    "    \n",
    "    d1 = Distance(p1, pivot)\n",
    "    d2 = Distance(p2, pivot)\n",
    "    \n",
    "    if d1 < d2:\n",
    "        return(p1, d1)\n",
    "    else:\n",
    "        return(p2, d2)\n",
    "\n",
    "def KdtreeClosestPoint( root, point, depth=0):\n",
    "    if root is None:\n",
    "        return (None)\n",
    "    \n",
    "    axis = depth % k \n",
    "    next_branch = None\n",
    "    opposite_branch = None\n",
    "\n",
    "    if point[axis] < root[\"point\"][axis]:\n",
    "        next_branch = root[\"left\"]\n",
    "        opposite_branch = root[\"right\"]\n",
    "    else:\n",
    "        next_branch = root[\"right\"]\n",
    "        opposite_branch = root[\"left\"]\n",
    "    \n",
    "    \n",
    "    best = CloserDistance(point,\n",
    "                        KdtreeClosestPoint(next_branch, point, depth + 1),\n",
    "                        root[\"point\"])\n",
    "\n",
    "    if Distance(point, best) > abs(point[axis] - root[\"point\"][axis]):\n",
    "        best = CloserDistance(point,\n",
    "                                KdtreeClosestPoint(opposite_branch, point, depth+1),\n",
    "                                best)\n",
    "\n",
    "    return(best)\n",
    "\n",
    "\n",
    "def KdtreeRangeSearch( root, point, depth=0, epsilon=1.0):\n",
    "    if root is None:\n",
    "        return(None)\n",
    "    \n",
    "    \n",
    "    axis = depth % k\n",
    "    next_branch = None\n",
    "    opposite_branch = None\n",
    "    \n",
    "    points = []\n",
    "    \n",
    "    if root[\"classified\"] == -1 and Distance(point, root[\"point\"]) <= epsilon:\n",
    "        #print(\"Member\")\n",
    "        points.append(root[\"point\"])\n",
    "    \n",
    "    if point[axis] < root[\"point\"][axis]:\n",
    "        next_branch = root[\"left\"]\n",
    "        opposite_branch = root[\"right\"]\n",
    "    else:\n",
    "        next_branch = root[\"right\"]\n",
    "        opposite_branch = root[\"left\"]\n",
    "\n",
    "\n",
    "    #print(\"Depth>>\", depth)\n",
    "    #if root[\"right\"] is not None:\n",
    "    ##    print(\"right>>\", root[\"right\"][\"point\"])\n",
    "    #if root[\"left\"] is not None:\n",
    "    #    print(\"left>>\", root[\"left\"][\"point\"])\n",
    "    #if next_branch is not None:\n",
    "    #    print(\"Next>>\", next_branch[\"point\"])\n",
    "\n",
    "\n",
    "    \n",
    "    # 近い側のブランチの探索\n",
    "    #print(\"Near Branch\")\n",
    "    new_points = KdtreeRangeSearch( next_branch, point, depth + 1, epsilon)\n",
    "    if new_points is not None:\n",
    "        points.extend(new_points)\n",
    "    \n",
    "    # 遠い側のブランチの探索\n",
    "    #print(\"Opposite Branch\")\n",
    "    if opposite_branch is not None:\n",
    "        #print(opposite_branch[\"point\"])\n",
    "        #print(point[axis] - opposite_branch[\"point\"][axis])\n",
    "        if math.fabs(point[axis] - root[\"point\"][axis]) <= epsilon:\n",
    "            new_points = KdtreeRangeSearch( opposite_branch, point, depth + 1, epsilon)\n",
    "            if new_points is not None:\n",
    "                points.extend(new_points)\n",
    "    \n",
    "\n",
    "    return(points)\n",
    "    \n"
   ]
  },
  {
   "cell_type": "code",
   "execution_count": 50,
   "metadata": {},
   "outputs": [],
   "source": [
    "class RayCasting:\n",
    "    def __init__(self, range_min_th, range_max_th, range_resolution, angle_min, angle_max, angle_resolution):\n",
    "\n",
    "                         \n",
    "        self.__lookuptable  =   None\n",
    "        self.ray_line_num     =   None\n",
    "        self.single_ray_point_num     = None\n",
    "\n",
    "        self.__range_max_th = None\n",
    "        self.__range_min_th = None\n",
    "        self.__range_res    = None\n",
    "\n",
    "        self.__angle_max    = None\n",
    "        self.__angle_min    = None\n",
    "        self.__angle_res    = None\n",
    "        \n",
    "        self.ChangeRangeParam( range_min_th, range_max_th, range_resolution)\n",
    "        self.ChangeAngleParam( angle_min, angle_max, angle_resolution)\n",
    "        \n",
    "        self.CreateLookUpTable()\n",
    "        \n",
    "\n",
    "    def ChangeRangeParam(self, range_min_th, range_max_th, range_resolution):\n",
    "        self.__range_min_th = range_min_th\n",
    "        self.__range_max_th = range_max_th\n",
    "        self.__range_res    = range_resolution\n",
    "\n",
    "        print(\"Range Param\")\n",
    "        print(self.__range_min_th, self.__range_max_th, self.__range_res)\n",
    "        \n",
    "    def ChangeAngleParam(self, angle_min, angle_max, angle_resolution):\n",
    "        deg2rad = 1.0\n",
    "        if angle_min > 1.57 or angle_max > 1.57:\n",
    "            deg2rad = math.pi / 180.0\n",
    "\n",
    "        self.__angle_min    = deg2rad * angle_min\n",
    "        self.__angle_max    = deg2rad * angle_max\n",
    "        self.__angle_res    = deg2rad * angle_resolution\n",
    "        print(\"Angle Param\")\n",
    "        print(self.__angle_min, self.__angle_max, self.__angle_res)\n",
    "        \n",
    "        \n",
    "    def CreateLookUpTable(self):\n",
    "        print(\"Angle Param\")\n",
    "        print(self.__angle_min, self.__angle_max, self.__angle_res)\n",
    "        print(\"Range Param\")\n",
    "        print(self.__range_min_th, self.__range_max_th, self.__range_res)\n",
    "        \n",
    "        self.ray_line_num            = (int) ( (self.__angle_max - self.__angle_min) / self.__angle_res )\n",
    "        self.single_ray_point_num    = (int) ( (self.__range_max_th - self.__range_min_th) / self.__range_res)\n",
    "\n",
    "        #line = [[ 0.0, 0.0, 0.0] for i in range(self.single_ray_point_num)]\n",
    "        point_range = self.__range_min_th\n",
    "        p = [ 0.0, 0.0, 0.0]\n",
    "        \n",
    "        range_list = []\n",
    "        self.single_ray_point_num = 0\n",
    "        while point_range < self.__range_max_th:\n",
    "            #p[0] = point_range \n",
    "            #p[2] = point_range * math.tan(self.__angle_res * 0.5)\n",
    "            range_list.append([point_range, point_range * math.tan(self.__angle_res * 0.5)])\n",
    "            point_range += point_range * math.tan( self.__angle_res)\n",
    "            self.single_ray_point_num += 1\n",
    "        \n",
    "        #for i in range(self.single_ray_point_num):\n",
    "        #    point_range = self.__range_min_th + self.__range_res * i\n",
    "        #    line[i][2] = point_range * math.tan(self.__angle_res * 0.5)\n",
    "\n",
    "        #self.__lookuptable = [line for i in range(self.ray_line_num)]\n",
    "\n",
    "\n",
    "        point_range = None\n",
    "        self.__lookuptable = []\n",
    "        for i in range(self.ray_line_num):\n",
    "            ang = self.__angle_min + self.__angle_res * i\n",
    "            line = []\n",
    "            #for j in range(self.single_ray_point_num):\n",
    "            for j in range(len(range_list)):\n",
    "                #point_range = self.__range_min_th + self.__range_res * j\n",
    "                #point_range = l[j][0]\n",
    "                #l[j][0] = point_range * math.cos(ang)\n",
    "                #l[j][1] = point_range * math.sin(ang)\n",
    "                p = []\n",
    "                x = range_list[j][0] * math.cos(ang)\n",
    "                y = range_list[j][0] * math.sin(ang)\n",
    "                p = [ x, y, range_list[j][1]]\n",
    "                line.append( p )\n",
    "                #self.__lookuptable[i][j][0] = point_range * math.cos(ang)\n",
    "                #self.__lookuptable[i][j][1] = point_range * math.sin(ang)\n",
    "                #self.__lookuptable[i][j][2] = point_range * math.tan(self.__angle_res * 0.5)\n",
    "                #print( point_range, \":\", self.__lookuptable[i][j][2])\n",
    "            self.__lookuptable.append(line)\n",
    "\n",
    "        #for i in range(self.ray_line_num):\n",
    "        #    for j in range(len(self.__lookuptable[i])):\n",
    "        #        print(self.__lookuptable[i][j])\n",
    "        \n",
    "    def Run( self, kdtree):\n",
    "        nearest_points = []\n",
    "        for i in range(self.ray_line_num):\n",
    "            p = None\n",
    "            for j in range(self.single_ray_point_num):\n",
    "                p = KdtreeClosestPoint( kdtree,  self.__lookuptable[i][j][:2], 0)\n",
    "                dist = Distance( self.__lookuptable[i][j][:2], p)\n",
    "                #print(i,\",\",j,\",\",self.__lookuptable[i][j], \":::: dist=\",dist)\n",
    "                \n",
    "                if dist < self.__lookuptable[i][j][2]:\n",
    "                    nearest_points.append(p)\n",
    "            if p == None:\n",
    "                nearest_points.append(self.__lookuptable[i][self.range_ray_point_num - 1][:2])\n",
    "        return(nearest_points)"
   ]
  },
  {
   "cell_type": "code",
   "execution_count": 51,
   "metadata": {},
   "outputs": [],
   "source": [
    "\n",
    "\n",
    "points = [[random.uniform(0,100), random.uniform(-50,50), i] for i in range(100)]\n",
    "\n",
    "#points[5][0] = points[6][0]\n",
    "#points[7][1] = points[8][1]\n"
   ]
  },
  {
   "cell_type": "code",
   "execution_count": 52,
   "metadata": {},
   "outputs": [],
   "source": [
    "kdtree = BuildKdtree(points, 0)"
   ]
  },
  {
   "cell_type": "code",
   "execution_count": 58,
   "metadata": {},
   "outputs": [
    {
     "output_type": "execute_result",
     "data": {
      "text/plain": "0.43634338953793944"
     },
     "metadata": {},
     "execution_count": 58
    }
   ],
   "source": [
    "math.tan(0.5 * math.pi / 180.0) * 50"
   ]
  },
  {
   "cell_type": "code",
   "execution_count": 53,
   "metadata": {},
   "outputs": [
    {
     "output_type": "stream",
     "name": "stdout",
     "text": "Range Param\n5 100 1\nAngle Param\n-1.5707963267948966 1.5707963267948966 0.008726646259971648\nAngle Param\n-1.5707963267948966 1.5707963267948966 0.008726646259971648\nRange Param\n5 100 1\n"
    }
   ],
   "source": [
    "ray_cast = RayCasting( 5, 100, 1, -90, 90, 0.5)"
   ]
  },
  {
   "cell_type": "code",
   "execution_count": 54,
   "metadata": {},
   "outputs": [
    {
     "output_type": "error",
     "ename": "TypeError",
     "evalue": "unsupported operand type(s) for -: 'float' and 'list'",
     "traceback": [
      "\u001b[0;31m---------------------------------------------------------------------------\u001b[0m",
      "\u001b[0;31mTypeError\u001b[0m                                 Traceback (most recent call last)",
      "\u001b[0;32m<ipython-input-54-13754fce12d6>\u001b[0m in \u001b[0;36m<module>\u001b[0;34m\u001b[0m\n\u001b[0;32m----> 1\u001b[0;31m \u001b[0mnn_points\u001b[0m \u001b[0;34m=\u001b[0m \u001b[0mray_cast\u001b[0m\u001b[0;34m.\u001b[0m\u001b[0mRun\u001b[0m\u001b[0;34m(\u001b[0m\u001b[0mkdtree\u001b[0m\u001b[0;34m)\u001b[0m\u001b[0;34m\u001b[0m\u001b[0;34m\u001b[0m\u001b[0m\n\u001b[0m",
      "\u001b[0;32m<ipython-input-50-fe05cc76458d>\u001b[0m in \u001b[0;36mRun\u001b[0;34m(self, kdtree)\u001b[0m\n\u001b[1;32m    101\u001b[0m             \u001b[0mp\u001b[0m \u001b[0;34m=\u001b[0m \u001b[0;32mNone\u001b[0m\u001b[0;34m\u001b[0m\u001b[0;34m\u001b[0m\u001b[0m\n\u001b[1;32m    102\u001b[0m             \u001b[0;32mfor\u001b[0m \u001b[0mj\u001b[0m \u001b[0;32min\u001b[0m \u001b[0mrange\u001b[0m\u001b[0;34m(\u001b[0m\u001b[0mself\u001b[0m\u001b[0;34m.\u001b[0m\u001b[0msingle_ray_point_num\u001b[0m\u001b[0;34m)\u001b[0m\u001b[0;34m:\u001b[0m\u001b[0;34m\u001b[0m\u001b[0;34m\u001b[0m\u001b[0m\n\u001b[0;32m--> 103\u001b[0;31m                 \u001b[0mp\u001b[0m \u001b[0;34m=\u001b[0m \u001b[0mKdtreeClosestPoint\u001b[0m\u001b[0;34m(\u001b[0m \u001b[0mkdtree\u001b[0m\u001b[0;34m,\u001b[0m  \u001b[0mself\u001b[0m\u001b[0;34m.\u001b[0m\u001b[0m__lookuptable\u001b[0m\u001b[0;34m[\u001b[0m\u001b[0mi\u001b[0m\u001b[0;34m]\u001b[0m\u001b[0;34m[\u001b[0m\u001b[0mj\u001b[0m\u001b[0;34m]\u001b[0m\u001b[0;34m[\u001b[0m\u001b[0;34m:\u001b[0m\u001b[0;36m2\u001b[0m\u001b[0;34m]\u001b[0m\u001b[0;34m,\u001b[0m \u001b[0;36m0\u001b[0m\u001b[0;34m)\u001b[0m\u001b[0;34m\u001b[0m\u001b[0;34m\u001b[0m\u001b[0m\n\u001b[0m\u001b[1;32m    104\u001b[0m                 \u001b[0mdist\u001b[0m \u001b[0;34m=\u001b[0m \u001b[0mDistance\u001b[0m\u001b[0;34m(\u001b[0m \u001b[0mself\u001b[0m\u001b[0;34m.\u001b[0m\u001b[0m__lookuptable\u001b[0m\u001b[0;34m[\u001b[0m\u001b[0mi\u001b[0m\u001b[0;34m]\u001b[0m\u001b[0;34m[\u001b[0m\u001b[0mj\u001b[0m\u001b[0;34m]\u001b[0m\u001b[0;34m[\u001b[0m\u001b[0;34m:\u001b[0m\u001b[0;36m2\u001b[0m\u001b[0;34m]\u001b[0m\u001b[0;34m,\u001b[0m \u001b[0mp\u001b[0m\u001b[0;34m)\u001b[0m\u001b[0;34m\u001b[0m\u001b[0;34m\u001b[0m\u001b[0m\n\u001b[1;32m    105\u001b[0m                 \u001b[0;31m#print(i,\",\",j,\",\",self.__lookuptable[i][j], \":::: dist=\",dist)\u001b[0m\u001b[0;34m\u001b[0m\u001b[0;34m\u001b[0m\u001b[0;34m\u001b[0m\u001b[0m\n",
      "\u001b[0;32m<ipython-input-3-deb4592ddb56>\u001b[0m in \u001b[0;36mKdtreeClosestPoint\u001b[0;34m(root, point, depth)\u001b[0m\n\u001b[1;32m     93\u001b[0m \u001b[0;34m\u001b[0m\u001b[0m\n\u001b[1;32m     94\u001b[0m     best = CloserDistance(point,\n\u001b[0;32m---> 95\u001b[0;31m                         \u001b[0mKdtreeClosestPoint\u001b[0m\u001b[0;34m(\u001b[0m\u001b[0mnext_branch\u001b[0m\u001b[0;34m,\u001b[0m \u001b[0mpoint\u001b[0m\u001b[0;34m,\u001b[0m \u001b[0mdepth\u001b[0m \u001b[0;34m+\u001b[0m \u001b[0;36m1\u001b[0m\u001b[0;34m)\u001b[0m\u001b[0;34m,\u001b[0m\u001b[0;34m\u001b[0m\u001b[0;34m\u001b[0m\u001b[0m\n\u001b[0m\u001b[1;32m     96\u001b[0m                         root[\"point\"])\n\u001b[1;32m     97\u001b[0m \u001b[0;34m\u001b[0m\u001b[0m\n",
      "\u001b[0;32m<ipython-input-3-deb4592ddb56>\u001b[0m in \u001b[0;36mKdtreeClosestPoint\u001b[0;34m(root, point, depth)\u001b[0m\n\u001b[1;32m     93\u001b[0m \u001b[0;34m\u001b[0m\u001b[0m\n\u001b[1;32m     94\u001b[0m     best = CloserDistance(point,\n\u001b[0;32m---> 95\u001b[0;31m                         \u001b[0mKdtreeClosestPoint\u001b[0m\u001b[0;34m(\u001b[0m\u001b[0mnext_branch\u001b[0m\u001b[0;34m,\u001b[0m \u001b[0mpoint\u001b[0m\u001b[0;34m,\u001b[0m \u001b[0mdepth\u001b[0m \u001b[0;34m+\u001b[0m \u001b[0;36m1\u001b[0m\u001b[0;34m)\u001b[0m\u001b[0;34m,\u001b[0m\u001b[0;34m\u001b[0m\u001b[0;34m\u001b[0m\u001b[0m\n\u001b[0m\u001b[1;32m     96\u001b[0m                         root[\"point\"])\n\u001b[1;32m     97\u001b[0m \u001b[0;34m\u001b[0m\u001b[0m\n",
      "\u001b[0;32m<ipython-input-3-deb4592ddb56>\u001b[0m in \u001b[0;36mKdtreeClosestPoint\u001b[0;34m(root, point, depth)\u001b[0m\n\u001b[1;32m     93\u001b[0m \u001b[0;34m\u001b[0m\u001b[0m\n\u001b[1;32m     94\u001b[0m     best = CloserDistance(point,\n\u001b[0;32m---> 95\u001b[0;31m                         \u001b[0mKdtreeClosestPoint\u001b[0m\u001b[0;34m(\u001b[0m\u001b[0mnext_branch\u001b[0m\u001b[0;34m,\u001b[0m \u001b[0mpoint\u001b[0m\u001b[0;34m,\u001b[0m \u001b[0mdepth\u001b[0m \u001b[0;34m+\u001b[0m \u001b[0;36m1\u001b[0m\u001b[0;34m)\u001b[0m\u001b[0;34m,\u001b[0m\u001b[0;34m\u001b[0m\u001b[0;34m\u001b[0m\u001b[0m\n\u001b[0m\u001b[1;32m     96\u001b[0m                         root[\"point\"])\n\u001b[1;32m     97\u001b[0m \u001b[0;34m\u001b[0m\u001b[0m\n",
      "\u001b[0;32m<ipython-input-3-deb4592ddb56>\u001b[0m in \u001b[0;36mKdtreeClosestPoint\u001b[0;34m(root, point, depth)\u001b[0m\n\u001b[1;32m     93\u001b[0m \u001b[0;34m\u001b[0m\u001b[0m\n\u001b[1;32m     94\u001b[0m     best = CloserDistance(point,\n\u001b[0;32m---> 95\u001b[0;31m                         \u001b[0mKdtreeClosestPoint\u001b[0m\u001b[0;34m(\u001b[0m\u001b[0mnext_branch\u001b[0m\u001b[0;34m,\u001b[0m \u001b[0mpoint\u001b[0m\u001b[0;34m,\u001b[0m \u001b[0mdepth\u001b[0m \u001b[0;34m+\u001b[0m \u001b[0;36m1\u001b[0m\u001b[0;34m)\u001b[0m\u001b[0;34m,\u001b[0m\u001b[0;34m\u001b[0m\u001b[0;34m\u001b[0m\u001b[0m\n\u001b[0m\u001b[1;32m     96\u001b[0m                         root[\"point\"])\n\u001b[1;32m     97\u001b[0m \u001b[0;34m\u001b[0m\u001b[0m\n",
      "\u001b[0;32m<ipython-input-3-deb4592ddb56>\u001b[0m in \u001b[0;36mKdtreeClosestPoint\u001b[0;34m(root, point, depth)\u001b[0m\n\u001b[1;32m     93\u001b[0m \u001b[0;34m\u001b[0m\u001b[0m\n\u001b[1;32m     94\u001b[0m     best = CloserDistance(point,\n\u001b[0;32m---> 95\u001b[0;31m                         \u001b[0mKdtreeClosestPoint\u001b[0m\u001b[0;34m(\u001b[0m\u001b[0mnext_branch\u001b[0m\u001b[0;34m,\u001b[0m \u001b[0mpoint\u001b[0m\u001b[0;34m,\u001b[0m \u001b[0mdepth\u001b[0m \u001b[0;34m+\u001b[0m \u001b[0;36m1\u001b[0m\u001b[0;34m)\u001b[0m\u001b[0;34m,\u001b[0m\u001b[0;34m\u001b[0m\u001b[0;34m\u001b[0m\u001b[0m\n\u001b[0m\u001b[1;32m     96\u001b[0m                         root[\"point\"])\n\u001b[1;32m     97\u001b[0m \u001b[0;34m\u001b[0m\u001b[0m\n",
      "\u001b[0;32m<ipython-input-3-deb4592ddb56>\u001b[0m in \u001b[0;36mKdtreeClosestPoint\u001b[0;34m(root, point, depth)\u001b[0m\n\u001b[1;32m     96\u001b[0m                         root[\"point\"])\n\u001b[1;32m     97\u001b[0m \u001b[0;34m\u001b[0m\u001b[0m\n\u001b[0;32m---> 98\u001b[0;31m     \u001b[0;32mif\u001b[0m \u001b[0mDistance\u001b[0m\u001b[0;34m(\u001b[0m\u001b[0mpoint\u001b[0m\u001b[0;34m,\u001b[0m \u001b[0mbest\u001b[0m\u001b[0;34m)\u001b[0m \u001b[0;34m>\u001b[0m \u001b[0mabs\u001b[0m\u001b[0;34m(\u001b[0m\u001b[0mpoint\u001b[0m\u001b[0;34m[\u001b[0m\u001b[0maxis\u001b[0m\u001b[0;34m]\u001b[0m \u001b[0;34m-\u001b[0m \u001b[0mroot\u001b[0m\u001b[0;34m[\u001b[0m\u001b[0;34m\"point\"\u001b[0m\u001b[0;34m]\u001b[0m\u001b[0;34m[\u001b[0m\u001b[0maxis\u001b[0m\u001b[0;34m]\u001b[0m\u001b[0;34m)\u001b[0m\u001b[0;34m:\u001b[0m\u001b[0;34m\u001b[0m\u001b[0;34m\u001b[0m\u001b[0m\n\u001b[0m\u001b[1;32m     99\u001b[0m         best = CloserDistance(point,\n\u001b[1;32m    100\u001b[0m                                 \u001b[0mKdtreeClosestPoint\u001b[0m\u001b[0;34m(\u001b[0m\u001b[0mopposite_branch\u001b[0m\u001b[0;34m,\u001b[0m \u001b[0mpoint\u001b[0m\u001b[0;34m,\u001b[0m \u001b[0mdepth\u001b[0m\u001b[0;34m+\u001b[0m\u001b[0;36m1\u001b[0m\u001b[0;34m)\u001b[0m\u001b[0;34m,\u001b[0m\u001b[0;34m\u001b[0m\u001b[0;34m\u001b[0m\u001b[0m\n",
      "\u001b[0;32m<ipython-input-3-deb4592ddb56>\u001b[0m in \u001b[0;36mDistance\u001b[0;34m(point1, point2)\u001b[0m\n\u001b[1;32m      7\u001b[0m     \u001b[0mx2\u001b[0m\u001b[0;34m,\u001b[0m \u001b[0my2\u001b[0m \u001b[0;34m=\u001b[0m \u001b[0mpoint2\u001b[0m\u001b[0;34m\u001b[0m\u001b[0;34m\u001b[0m\u001b[0m\n\u001b[1;32m      8\u001b[0m \u001b[0;34m\u001b[0m\u001b[0m\n\u001b[0;32m----> 9\u001b[0;31m     \u001b[0mdx\u001b[0m \u001b[0;34m=\u001b[0m \u001b[0mx1\u001b[0m \u001b[0;34m-\u001b[0m \u001b[0mx2\u001b[0m\u001b[0;34m\u001b[0m\u001b[0;34m\u001b[0m\u001b[0m\n\u001b[0m\u001b[1;32m     10\u001b[0m     \u001b[0mdy\u001b[0m \u001b[0;34m=\u001b[0m \u001b[0my1\u001b[0m \u001b[0;34m-\u001b[0m \u001b[0my2\u001b[0m\u001b[0;34m\u001b[0m\u001b[0;34m\u001b[0m\u001b[0m\n\u001b[1;32m     11\u001b[0m \u001b[0;34m\u001b[0m\u001b[0m\n",
      "\u001b[0;31mTypeError\u001b[0m: unsupported operand type(s) for -: 'float' and 'list'"
     ]
    }
   ],
   "source": [
    "nn_points = ray_cast.Run(kdtree)"
   ]
  },
  {
   "cell_type": "code",
   "execution_count": null,
   "metadata": {},
   "outputs": [],
   "source": [
    "i"
   ]
  },
  {
   "cell_type": "code",
   "execution_count": 49,
   "metadata": {},
   "outputs": [
    {
     "output_type": "error",
     "ename": "NameError",
     "evalue": "name 'nn_points' is not defined",
     "traceback": [
      "\u001b[0;31m---------------------------------------------------------------------------\u001b[0m",
      "\u001b[0;31mNameError\u001b[0m                                 Traceback (most recent call last)",
      "\u001b[0;32m<ipython-input-49-52079fd5c7f9>\u001b[0m in \u001b[0;36m<module>\u001b[0;34m\u001b[0m\n\u001b[0;32m----> 1\u001b[0;31m \u001b[0mnn_points\u001b[0m\u001b[0;34m\u001b[0m\u001b[0;34m\u001b[0m\u001b[0m\n\u001b[0m",
      "\u001b[0;31mNameError\u001b[0m: name 'nn_points' is not defined"
     ]
    }
   ],
   "source": [
    "nn_points"
   ]
  },
  {
   "cell_type": "code",
   "execution_count": 223,
   "metadata": {},
   "outputs": [],
   "source": [
    "import time"
   ]
  },
  {
   "cell_type": "code",
   "execution_count": 224,
   "metadata": {
    "tags": [
     "outputPrepend"
    ]
   },
   "outputs": [
    {
     "output_type": "stream",
     "name": "stdout",
     "text": "9.250640869140625e-05\n"
    }
   ],
   "source": [
    "#pp.pprint(kdtree)\n",
    "p = [ 25, 25]\n",
    "#nearest = kdtree_naive_closest_point(kdtree, p)\n",
    "\n",
    "#nearest = KdTreeClosestPoint(kdtree, p)\n",
    "#nearest\n",
    "epsilon = 10\n",
    "t1 = time.time()\n",
    "cluster_points = KdtreeRangeSearch(kdtree, p, 0, epsilon=epsilon)\n",
    "t2 = time.time()\n",
    "print(t2-t1)"
   ]
  },
  {
   "cell_type": "code",
   "execution_count": 225,
   "metadata": {},
   "outputs": [
    {
     "output_type": "execute_result",
     "data": {
      "text/plain": "3"
     },
     "metadata": {},
     "execution_count": 225
    }
   ],
   "source": [
    "len(cluster_points)"
   ]
  },
  {
   "cell_type": "code",
   "execution_count": 227,
   "metadata": {},
   "outputs": [],
   "source": [
    "import matplotlib.pyplot as plt\n",
    "import matplotlib.patches as patches"
   ]
  },
  {
   "cell_type": "code",
   "execution_count": 229,
   "metadata": {},
   "outputs": [
    {
     "output_type": "display_data",
     "data": {
      "text/plain": "<Figure size 432x288 with 1 Axes>",
      "image/svg+xml": "<?xml version=\"1.0\" encoding=\"utf-8\" standalone=\"no\"?>\n<!DOCTYPE svg PUBLIC \"-//W3C//DTD SVG 1.1//EN\"\n  \"http://www.w3.org/Graphics/SVG/1.1/DTD/svg11.dtd\">\n<!-- Created with matplotlib (https://matplotlib.org/) -->\n<svg height=\"252.018125pt\" version=\"1.1\" viewBox=\"0 0 380.804688 252.018125\" width=\"380.804688pt\" xmlns=\"http://www.w3.org/2000/svg\" xmlns:xlink=\"http://www.w3.org/1999/xlink\">\n <defs>\n  <style type=\"text/css\">\n*{stroke-linecap:butt;stroke-linejoin:round;}\n  </style>\n </defs>\n <g id=\"figure_1\">\n  <g id=\"patch_1\">\n   <path d=\"M 0 252.018125 \nL 380.804688 252.018125 \nL 380.804688 0 \nL 0 0 \nz\n\" style=\"fill:none;\"/>\n  </g>\n  <g id=\"axes_1\">\n   <g id=\"patch_2\">\n    <path d=\"M 35.304688 228.14 \nL 370.104688 228.14 \nL 370.104688 10.7 \nL 35.304688 10.7 \nz\n\" style=\"fill:#ffffff;\"/>\n   </g>\n   <g id=\"PathCollection_1\">\n    <defs>\n     <path d=\"M 0 0.707107 \nC 0.187527 0.707107 0.367398 0.632602 0.5 0.5 \nC 0.632602 0.367398 0.707107 0.187527 0.707107 0 \nC 0.707107 -0.187527 0.632602 -0.367398 0.5 -0.5 \nC 0.367398 -0.632602 0.187527 -0.707107 0 -0.707107 \nC -0.187527 -0.707107 -0.367398 -0.632602 -0.5 -0.5 \nC -0.632602 -0.367398 -0.707107 -0.187527 -0.707107 0 \nC -0.707107 0.187527 -0.632602 0.367398 -0.5 0.5 \nC -0.367398 0.632602 -0.187527 0.707107 0 0.707107 \nz\n\" id=\"m9f84d42b97\" style=\"stroke:#0000ff;\"/>\n    </defs>\n    <g clip-path=\"url(#p90cbbed79b)\">\n     <use style=\"fill:#0000ff;stroke:#0000ff;\" x=\"66.177537\" xlink:href=\"#m9f84d42b97\" y=\"196.337952\"/>\n    </g>\n   </g>\n   <g id=\"PathCollection_2\">\n    <g clip-path=\"url(#p90cbbed79b)\">\n     <use style=\"fill:#0000ff;stroke:#0000ff;\" x=\"58.368326\" xlink:href=\"#m9f84d42b97\" y=\"74.456265\"/>\n    </g>\n   </g>\n   <g id=\"PathCollection_3\">\n    <g clip-path=\"url(#p90cbbed79b)\">\n     <use style=\"fill:#0000ff;stroke:#0000ff;\" x=\"310.452632\" xlink:href=\"#m9f84d42b97\" y=\"133.130443\"/>\n    </g>\n   </g>\n   <g id=\"PathCollection_4\">\n    <g clip-path=\"url(#p90cbbed79b)\">\n     <use style=\"fill:#0000ff;stroke:#0000ff;\" x=\"244.651237\" xlink:href=\"#m9f84d42b97\" y=\"40.881367\"/>\n    </g>\n   </g>\n   <g id=\"PathCollection_5\">\n    <g clip-path=\"url(#p90cbbed79b)\">\n     <use style=\"fill:#0000ff;stroke:#0000ff;\" x=\"109.307621\" xlink:href=\"#m9f84d42b97\" y=\"170.336177\"/>\n    </g>\n   </g>\n   <g id=\"PathCollection_6\">\n    <g clip-path=\"url(#p90cbbed79b)\">\n     <use style=\"fill:#0000ff;stroke:#0000ff;\" x=\"126.329093\" xlink:href=\"#m9f84d42b97\" y=\"172.370439\"/>\n    </g>\n   </g>\n   <g id=\"PathCollection_7\">\n    <g clip-path=\"url(#p90cbbed79b)\">\n     <use style=\"fill:#0000ff;stroke:#0000ff;\" x=\"182.711186\" xlink:href=\"#m9f84d42b97\" y=\"197.978588\"/>\n    </g>\n   </g>\n   <g id=\"PathCollection_8\">\n    <g clip-path=\"url(#p90cbbed79b)\">\n     <use style=\"fill:#0000ff;stroke:#0000ff;\" x=\"75.773826\" xlink:href=\"#m9f84d42b97\" y=\"84.28019\"/>\n    </g>\n   </g>\n   <g id=\"PathCollection_9\">\n    <g clip-path=\"url(#p90cbbed79b)\">\n     <use style=\"fill:#0000ff;stroke:#0000ff;\" x=\"120.66764\" xlink:href=\"#m9f84d42b97\" y=\"113.656556\"/>\n    </g>\n   </g>\n   <g id=\"PathCollection_10\">\n    <g clip-path=\"url(#p90cbbed79b)\">\n     <use style=\"fill:#0000ff;stroke:#0000ff;\" x=\"76.505024\" xlink:href=\"#m9f84d42b97\" y=\"94.860413\"/>\n    </g>\n   </g>\n   <g id=\"PathCollection_11\">\n    <g clip-path=\"url(#p90cbbed79b)\">\n     <use style=\"fill:#0000ff;stroke:#0000ff;\" x=\"280.50352\" xlink:href=\"#m9f84d42b97\" y=\"30.193559\"/>\n    </g>\n   </g>\n   <g id=\"PathCollection_12\">\n    <g clip-path=\"url(#p90cbbed79b)\">\n     <use style=\"fill:#0000ff;stroke:#0000ff;\" x=\"230.771017\" xlink:href=\"#m9f84d42b97\" y=\"57.425368\"/>\n    </g>\n   </g>\n   <g id=\"PathCollection_13\">\n    <g clip-path=\"url(#p90cbbed79b)\">\n     <use style=\"fill:#0000ff;stroke:#0000ff;\" x=\"214.777377\" xlink:href=\"#m9f84d42b97\" y=\"68.400376\"/>\n    </g>\n   </g>\n   <g id=\"PathCollection_14\">\n    <g clip-path=\"url(#p90cbbed79b)\">\n     <use style=\"fill:#0000ff;stroke:#0000ff;\" x=\"132.587495\" xlink:href=\"#m9f84d42b97\" y=\"65.675332\"/>\n    </g>\n   </g>\n   <g id=\"PathCollection_15\">\n    <g clip-path=\"url(#p90cbbed79b)\">\n     <use style=\"fill:#0000ff;stroke:#0000ff;\" x=\"225.609063\" xlink:href=\"#m9f84d42b97\" y=\"114.368129\"/>\n    </g>\n   </g>\n   <g id=\"PathCollection_16\">\n    <g clip-path=\"url(#p90cbbed79b)\">\n     <use style=\"fill:#0000ff;stroke:#0000ff;\" x=\"306.546358\" xlink:href=\"#m9f84d42b97\" y=\"45.084508\"/>\n    </g>\n   </g>\n   <g id=\"PathCollection_17\">\n    <g clip-path=\"url(#p90cbbed79b)\">\n     <use style=\"fill:#0000ff;stroke:#0000ff;\" x=\"51.388099\" xlink:href=\"#m9f84d42b97\" y=\"177.905127\"/>\n    </g>\n   </g>\n   <g id=\"PathCollection_18\">\n    <g clip-path=\"url(#p90cbbed79b)\">\n     <use style=\"fill:#0000ff;stroke:#0000ff;\" x=\"236.363947\" xlink:href=\"#m9f84d42b97\" y=\"161.751999\"/>\n    </g>\n   </g>\n   <g id=\"PathCollection_19\">\n    <g clip-path=\"url(#p90cbbed79b)\">\n     <use style=\"fill:#0000ff;stroke:#0000ff;\" x=\"88.48547\" xlink:href=\"#m9f84d42b97\" y=\"142.033865\"/>\n    </g>\n   </g>\n   <g id=\"PathCollection_20\">\n    <g clip-path=\"url(#p90cbbed79b)\">\n     <use style=\"fill:#0000ff;stroke:#0000ff;\" x=\"324.695427\" xlink:href=\"#m9f84d42b97\" y=\"61.195108\"/>\n    </g>\n   </g>\n   <g id=\"PathCollection_21\">\n    <g clip-path=\"url(#p90cbbed79b)\">\n     <use style=\"fill:#0000ff;stroke:#0000ff;\" x=\"101.557265\" xlink:href=\"#m9f84d42b97\" y=\"66.381499\"/>\n    </g>\n   </g>\n   <g id=\"PathCollection_22\">\n    <g clip-path=\"url(#p90cbbed79b)\">\n     <use style=\"fill:#0000ff;stroke:#0000ff;\" x=\"233.506216\" xlink:href=\"#m9f84d42b97\" y=\"94.541118\"/>\n    </g>\n   </g>\n   <g id=\"PathCollection_23\">\n    <g clip-path=\"url(#p90cbbed79b)\">\n     <use style=\"fill:#0000ff;stroke:#0000ff;\" x=\"297.316409\" xlink:href=\"#m9f84d42b97\" y=\"153.740732\"/>\n    </g>\n   </g>\n   <g id=\"PathCollection_24\">\n    <g clip-path=\"url(#p90cbbed79b)\">\n     <use style=\"fill:#0000ff;stroke:#0000ff;\" x=\"98.185529\" xlink:href=\"#m9f84d42b97\" y=\"102.697444\"/>\n    </g>\n   </g>\n   <g id=\"PathCollection_25\">\n    <g clip-path=\"url(#p90cbbed79b)\">\n     <use style=\"fill:#0000ff;stroke:#0000ff;\" x=\"135.72809\" xlink:href=\"#m9f84d42b97\" y=\"158.488144\"/>\n    </g>\n   </g>\n   <g id=\"PathCollection_26\">\n    <g clip-path=\"url(#p90cbbed79b)\">\n     <use style=\"fill:#0000ff;stroke:#0000ff;\" x=\"349.629021\" xlink:href=\"#m9f84d42b97\" y=\"123.715792\"/>\n    </g>\n   </g>\n   <g id=\"PathCollection_27\">\n    <g clip-path=\"url(#p90cbbed79b)\">\n     <use style=\"fill:#0000ff;stroke:#0000ff;\" x=\"188.445408\" xlink:href=\"#m9f84d42b97\" y=\"199.314746\"/>\n    </g>\n   </g>\n   <g id=\"PathCollection_28\">\n    <g clip-path=\"url(#p90cbbed79b)\">\n     <use style=\"fill:#0000ff;stroke:#0000ff;\" x=\"198.897058\" xlink:href=\"#m9f84d42b97\" y=\"178.865554\"/>\n    </g>\n   </g>\n   <g id=\"PathCollection_29\">\n    <g clip-path=\"url(#p90cbbed79b)\">\n     <use style=\"fill:#0000ff;stroke:#0000ff;\" x=\"290.890757\" xlink:href=\"#m9f84d42b97\" y=\"105.812019\"/>\n    </g>\n   </g>\n   <g id=\"PathCollection_30\">\n    <g clip-path=\"url(#p90cbbed79b)\">\n     <use style=\"fill:#0000ff;stroke:#0000ff;\" x=\"52.231133\" xlink:href=\"#m9f84d42b97\" y=\"64.921142\"/>\n    </g>\n   </g>\n   <g id=\"PathCollection_31\">\n    <g clip-path=\"url(#p90cbbed79b)\">\n     <use style=\"fill:#0000ff;stroke:#0000ff;\" x=\"249.407757\" xlink:href=\"#m9f84d42b97\" y=\"199.483036\"/>\n    </g>\n   </g>\n   <g id=\"PathCollection_32\">\n    <g clip-path=\"url(#p90cbbed79b)\">\n     <use style=\"fill:#0000ff;stroke:#0000ff;\" x=\"99.060119\" xlink:href=\"#m9f84d42b97\" y=\"53.351207\"/>\n    </g>\n   </g>\n   <g id=\"PathCollection_33\">\n    <g clip-path=\"url(#p90cbbed79b)\">\n     <use style=\"fill:#0000ff;stroke:#0000ff;\" x=\"225.534412\" xlink:href=\"#m9f84d42b97\" y=\"192.88494\"/>\n    </g>\n   </g>\n   <g id=\"PathCollection_34\">\n    <g clip-path=\"url(#p90cbbed79b)\">\n     <use style=\"fill:#0000ff;stroke:#0000ff;\" x=\"182.297117\" xlink:href=\"#m9f84d42b97\" y=\"140.299718\"/>\n    </g>\n   </g>\n   <g id=\"PathCollection_35\">\n    <g clip-path=\"url(#p90cbbed79b)\">\n     <use style=\"fill:#0000ff;stroke:#0000ff;\" x=\"243.702877\" xlink:href=\"#m9f84d42b97\" y=\"61.708541\"/>\n    </g>\n   </g>\n   <g id=\"PathCollection_36\">\n    <g clip-path=\"url(#p90cbbed79b)\">\n     <use style=\"fill:#0000ff;stroke:#0000ff;\" x=\"149.264606\" xlink:href=\"#m9f84d42b97\" y=\"191.275788\"/>\n    </g>\n   </g>\n   <g id=\"PathCollection_37\">\n    <g clip-path=\"url(#p90cbbed79b)\">\n     <use style=\"fill:#0000ff;stroke:#0000ff;\" x=\"246.956655\" xlink:href=\"#m9f84d42b97\" y=\"217.391707\"/>\n    </g>\n   </g>\n   <g id=\"PathCollection_38\">\n    <g clip-path=\"url(#p90cbbed79b)\">\n     <use style=\"fill:#0000ff;stroke:#0000ff;\" x=\"302.541363\" xlink:href=\"#m9f84d42b97\" y=\"159.365616\"/>\n    </g>\n   </g>\n   <g id=\"PathCollection_39\">\n    <g clip-path=\"url(#p90cbbed79b)\">\n     <use style=\"fill:#0000ff;stroke:#0000ff;\" x=\"226.356316\" xlink:href=\"#m9f84d42b97\" y=\"208.131149\"/>\n    </g>\n   </g>\n   <g id=\"PathCollection_40\">\n    <g clip-path=\"url(#p90cbbed79b)\">\n     <use style=\"fill:#0000ff;stroke:#0000ff;\" x=\"265.684418\" xlink:href=\"#m9f84d42b97\" y=\"66.866356\"/>\n    </g>\n   </g>\n   <g id=\"PathCollection_41\">\n    <g clip-path=\"url(#p90cbbed79b)\">\n     <use style=\"fill:#0000ff;stroke:#0000ff;\" x=\"103.087582\" xlink:href=\"#m9f84d42b97\" y=\"109.68393\"/>\n    </g>\n   </g>\n   <g id=\"PathCollection_42\">\n    <g clip-path=\"url(#p90cbbed79b)\">\n     <use style=\"fill:#0000ff;stroke:#0000ff;\" x=\"94.442314\" xlink:href=\"#m9f84d42b97\" y=\"163.314229\"/>\n    </g>\n   </g>\n   <g id=\"PathCollection_43\">\n    <g clip-path=\"url(#p90cbbed79b)\">\n     <use style=\"fill:#0000ff;stroke:#0000ff;\" x=\"172.13942\" xlink:href=\"#m9f84d42b97\" y=\"132.809722\"/>\n    </g>\n   </g>\n   <g id=\"PathCollection_44\">\n    <g clip-path=\"url(#p90cbbed79b)\">\n     <use style=\"fill:#0000ff;stroke:#0000ff;\" x=\"72.219959\" xlink:href=\"#m9f84d42b97\" y=\"210.436169\"/>\n    </g>\n   </g>\n   <g id=\"PathCollection_45\">\n    <g clip-path=\"url(#p90cbbed79b)\">\n     <use style=\"fill:#0000ff;stroke:#0000ff;\" x=\"280.744698\" xlink:href=\"#m9f84d42b97\" y=\"86.420953\"/>\n    </g>\n   </g>\n   <g id=\"PathCollection_46\">\n    <g clip-path=\"url(#p90cbbed79b)\">\n     <use style=\"fill:#0000ff;stroke:#0000ff;\" x=\"269.410985\" xlink:href=\"#m9f84d42b97\" y=\"87.470628\"/>\n    </g>\n   </g>\n   <g id=\"PathCollection_47\">\n    <g clip-path=\"url(#p90cbbed79b)\">\n     <use style=\"fill:#0000ff;stroke:#0000ff;\" x=\"86.752787\" xlink:href=\"#m9f84d42b97\" y=\"206.252443\"/>\n    </g>\n   </g>\n   <g id=\"PathCollection_48\">\n    <g clip-path=\"url(#p90cbbed79b)\">\n     <use style=\"fill:#0000ff;stroke:#0000ff;\" x=\"354.190781\" xlink:href=\"#m9f84d42b97\" y=\"53.828724\"/>\n    </g>\n   </g>\n   <g id=\"PathCollection_49\">\n    <g clip-path=\"url(#p90cbbed79b)\">\n     <use style=\"fill:#0000ff;stroke:#0000ff;\" x=\"299.823043\" xlink:href=\"#m9f84d42b97\" y=\"92.080233\"/>\n    </g>\n   </g>\n   <g id=\"PathCollection_50\">\n    <g clip-path=\"url(#p90cbbed79b)\">\n     <use style=\"fill:#0000ff;stroke:#0000ff;\" x=\"197.558787\" xlink:href=\"#m9f84d42b97\" y=\"113.155105\"/>\n    </g>\n   </g>\n   <g id=\"PathCollection_51\">\n    <g clip-path=\"url(#p90cbbed79b)\">\n     <use style=\"fill:#0000ff;stroke:#0000ff;\" x=\"266.616354\" xlink:href=\"#m9f84d42b97\" y=\"168.06575\"/>\n    </g>\n   </g>\n   <g id=\"PathCollection_52\">\n    <g clip-path=\"url(#p90cbbed79b)\">\n     <use style=\"fill:#0000ff;stroke:#0000ff;\" x=\"299.724193\" xlink:href=\"#m9f84d42b97\" y=\"109.497617\"/>\n    </g>\n   </g>\n   <g id=\"PathCollection_53\">\n    <g clip-path=\"url(#p90cbbed79b)\">\n     <use style=\"fill:#0000ff;stroke:#0000ff;\" x=\"332.102955\" xlink:href=\"#m9f84d42b97\" y=\"184.09796\"/>\n    </g>\n   </g>\n   <g id=\"PathCollection_54\">\n    <g clip-path=\"url(#p90cbbed79b)\">\n     <use style=\"fill:#0000ff;stroke:#0000ff;\" x=\"118.752351\" xlink:href=\"#m9f84d42b97\" y=\"42.315798\"/>\n    </g>\n   </g>\n   <g id=\"PathCollection_55\">\n    <g clip-path=\"url(#p90cbbed79b)\">\n     <use style=\"fill:#0000ff;stroke:#0000ff;\" x=\"238.776941\" xlink:href=\"#m9f84d42b97\" y=\"217.27116\"/>\n    </g>\n   </g>\n   <g id=\"PathCollection_56\">\n    <g clip-path=\"url(#p90cbbed79b)\">\n     <use style=\"fill:#0000ff;stroke:#0000ff;\" x=\"128.373641\" xlink:href=\"#m9f84d42b97\" y=\"200.339992\"/>\n    </g>\n   </g>\n   <g id=\"PathCollection_57\">\n    <g clip-path=\"url(#p90cbbed79b)\">\n     <use style=\"fill:#0000ff;stroke:#0000ff;\" x=\"182.36885\" xlink:href=\"#m9f84d42b97\" y=\"88.901419\"/>\n    </g>\n   </g>\n   <g id=\"PathCollection_58\">\n    <g clip-path=\"url(#p90cbbed79b)\">\n     <use style=\"fill:#0000ff;stroke:#0000ff;\" x=\"223.396915\" xlink:href=\"#m9f84d42b97\" y=\"76.730591\"/>\n    </g>\n   </g>\n   <g id=\"PathCollection_59\">\n    <g clip-path=\"url(#p90cbbed79b)\">\n     <use style=\"fill:#0000ff;stroke:#0000ff;\" x=\"181.794969\" xlink:href=\"#m9f84d42b97\" y=\"140.900752\"/>\n    </g>\n   </g>\n   <g id=\"PathCollection_60\">\n    <g clip-path=\"url(#p90cbbed79b)\">\n     <use style=\"fill:#0000ff;stroke:#0000ff;\" x=\"211.943548\" xlink:href=\"#m9f84d42b97\" y=\"95.846572\"/>\n    </g>\n   </g>\n   <g id=\"PathCollection_61\">\n    <g clip-path=\"url(#p90cbbed79b)\">\n     <use style=\"fill:#0000ff;stroke:#0000ff;\" x=\"187.97433\" xlink:href=\"#m9f84d42b97\" y=\"131.911829\"/>\n    </g>\n   </g>\n   <g id=\"PathCollection_62\">\n    <g clip-path=\"url(#p90cbbed79b)\">\n     <use style=\"fill:#0000ff;stroke:#0000ff;\" x=\"188.338289\" xlink:href=\"#m9f84d42b97\" y=\"80.451329\"/>\n    </g>\n   </g>\n   <g id=\"PathCollection_63\">\n    <g clip-path=\"url(#p90cbbed79b)\">\n     <use style=\"fill:#0000ff;stroke:#0000ff;\" x=\"290.560422\" xlink:href=\"#m9f84d42b97\" y=\"46.994805\"/>\n    </g>\n   </g>\n   <g id=\"PathCollection_64\">\n    <g clip-path=\"url(#p90cbbed79b)\">\n     <use style=\"fill:#0000ff;stroke:#0000ff;\" x=\"66.086226\" xlink:href=\"#m9f84d42b97\" y=\"182.73671\"/>\n    </g>\n   </g>\n   <g id=\"PathCollection_65\">\n    <g clip-path=\"url(#p90cbbed79b)\">\n     <use style=\"fill:#0000ff;stroke:#0000ff;\" x=\"266.41029\" xlink:href=\"#m9f84d42b97\" y=\"21.448823\"/>\n    </g>\n   </g>\n   <g id=\"PathCollection_66\">\n    <g clip-path=\"url(#p90cbbed79b)\">\n     <use style=\"fill:#0000ff;stroke:#0000ff;\" x=\"57.084364\" xlink:href=\"#m9f84d42b97\" y=\"74.151386\"/>\n    </g>\n   </g>\n   <g id=\"PathCollection_67\">\n    <g clip-path=\"url(#p90cbbed79b)\">\n     <use style=\"fill:#0000ff;stroke:#0000ff;\" x=\"233.167797\" xlink:href=\"#m9f84d42b97\" y=\"153.856636\"/>\n    </g>\n   </g>\n   <g id=\"PathCollection_68\">\n    <g clip-path=\"url(#p90cbbed79b)\">\n     <use style=\"fill:#0000ff;stroke:#0000ff;\" x=\"225.633517\" xlink:href=\"#m9f84d42b97\" y=\"49.253415\"/>\n    </g>\n   </g>\n   <g id=\"PathCollection_69\">\n    <g clip-path=\"url(#p90cbbed79b)\">\n     <use style=\"fill:#0000ff;stroke:#0000ff;\" x=\"229.664508\" xlink:href=\"#m9f84d42b97\" y=\"116.163283\"/>\n    </g>\n   </g>\n   <g id=\"PathCollection_70\">\n    <g clip-path=\"url(#p90cbbed79b)\">\n     <use style=\"fill:#0000ff;stroke:#0000ff;\" x=\"66.046472\" xlink:href=\"#m9f84d42b97\" y=\"29.246942\"/>\n    </g>\n   </g>\n   <g id=\"PathCollection_71\">\n    <g clip-path=\"url(#p90cbbed79b)\">\n     <use style=\"fill:#0000ff;stroke:#0000ff;\" x=\"186.022414\" xlink:href=\"#m9f84d42b97\" y=\"170.938706\"/>\n    </g>\n   </g>\n   <g id=\"PathCollection_72\">\n    <g clip-path=\"url(#p90cbbed79b)\">\n     <use style=\"fill:#0000ff;stroke:#0000ff;\" x=\"218.876531\" xlink:href=\"#m9f84d42b97\" y=\"39.128938\"/>\n    </g>\n   </g>\n   <g id=\"PathCollection_73\">\n    <g clip-path=\"url(#p90cbbed79b)\">\n     <use style=\"fill:#0000ff;stroke:#0000ff;\" x=\"288.407735\" xlink:href=\"#m9f84d42b97\" y=\"150.825908\"/>\n    </g>\n   </g>\n   <g id=\"PathCollection_74\">\n    <g clip-path=\"url(#p90cbbed79b)\">\n     <use style=\"fill:#0000ff;stroke:#0000ff;\" x=\"171.171849\" xlink:href=\"#m9f84d42b97\" y=\"123.177039\"/>\n    </g>\n   </g>\n   <g id=\"PathCollection_75\">\n    <g clip-path=\"url(#p90cbbed79b)\">\n     <use style=\"fill:#0000ff;stroke:#0000ff;\" x=\"83.142903\" xlink:href=\"#m9f84d42b97\" y=\"136.437785\"/>\n    </g>\n   </g>\n   <g id=\"PathCollection_76\">\n    <g clip-path=\"url(#p90cbbed79b)\">\n     <use style=\"fill:#0000ff;stroke:#0000ff;\" x=\"181.579543\" xlink:href=\"#m9f84d42b97\" y=\"184.358475\"/>\n    </g>\n   </g>\n   <g id=\"PathCollection_77\">\n    <g clip-path=\"url(#p90cbbed79b)\">\n     <use style=\"fill:#0000ff;stroke:#0000ff;\" x=\"201.35543\" xlink:href=\"#m9f84d42b97\" y=\"57.549467\"/>\n    </g>\n   </g>\n   <g id=\"PathCollection_78\">\n    <g clip-path=\"url(#p90cbbed79b)\">\n     <use style=\"fill:#0000ff;stroke:#0000ff;\" x=\"344.296769\" xlink:href=\"#m9f84d42b97\" y=\"100.71069\"/>\n    </g>\n   </g>\n   <g id=\"PathCollection_79\">\n    <g clip-path=\"url(#p90cbbed79b)\">\n     <use style=\"fill:#0000ff;stroke:#0000ff;\" x=\"156.635402\" xlink:href=\"#m9f84d42b97\" y=\"71.995393\"/>\n    </g>\n   </g>\n   <g id=\"PathCollection_80\">\n    <g clip-path=\"url(#p90cbbed79b)\">\n     <use style=\"fill:#0000ff;stroke:#0000ff;\" x=\"116.275585\" xlink:href=\"#m9f84d42b97\" y=\"60.885552\"/>\n    </g>\n   </g>\n   <g id=\"PathCollection_81\">\n    <g clip-path=\"url(#p90cbbed79b)\">\n     <use style=\"fill:#0000ff;stroke:#0000ff;\" x=\"179.302865\" xlink:href=\"#m9f84d42b97\" y=\"139.082523\"/>\n    </g>\n   </g>\n   <g id=\"PathCollection_82\">\n    <g clip-path=\"url(#p90cbbed79b)\">\n     <use style=\"fill:#0000ff;stroke:#0000ff;\" x=\"221.758443\" xlink:href=\"#m9f84d42b97\" y=\"124.296982\"/>\n    </g>\n   </g>\n   <g id=\"PathCollection_83\">\n    <g clip-path=\"url(#p90cbbed79b)\">\n     <use style=\"fill:#0000ff;stroke:#0000ff;\" x=\"274.239938\" xlink:href=\"#m9f84d42b97\" y=\"45.276602\"/>\n    </g>\n   </g>\n   <g id=\"PathCollection_84\">\n    <g clip-path=\"url(#p90cbbed79b)\">\n     <use style=\"fill:#0000ff;stroke:#0000ff;\" x=\"177.140988\" xlink:href=\"#m9f84d42b97\" y=\"60.530046\"/>\n    </g>\n   </g>\n   <g id=\"PathCollection_85\">\n    <g clip-path=\"url(#p90cbbed79b)\">\n     <use style=\"fill:#0000ff;stroke:#0000ff;\" x=\"268.25008\" xlink:href=\"#m9f84d42b97\" y=\"133.870507\"/>\n    </g>\n   </g>\n   <g id=\"PathCollection_86\">\n    <g clip-path=\"url(#p90cbbed79b)\">\n     <use style=\"fill:#0000ff;stroke:#0000ff;\" x=\"326.694345\" xlink:href=\"#m9f84d42b97\" y=\"110.353949\"/>\n    </g>\n   </g>\n   <g id=\"PathCollection_87\">\n    <g clip-path=\"url(#p90cbbed79b)\">\n     <use style=\"fill:#0000ff;stroke:#0000ff;\" x=\"193.698777\" xlink:href=\"#m9f84d42b97\" y=\"74.542416\"/>\n    </g>\n   </g>\n   <g id=\"PathCollection_88\">\n    <g clip-path=\"url(#p90cbbed79b)\">\n     <use style=\"fill:#0000ff;stroke:#0000ff;\" x=\"176.864227\" xlink:href=\"#m9f84d42b97\" y=\"34.050882\"/>\n    </g>\n   </g>\n   <g id=\"PathCollection_89\">\n    <g clip-path=\"url(#p90cbbed79b)\">\n     <use style=\"fill:#0000ff;stroke:#0000ff;\" x=\"122.173364\" xlink:href=\"#m9f84d42b97\" y=\"148.82217\"/>\n    </g>\n   </g>\n   <g id=\"PathCollection_90\">\n    <g clip-path=\"url(#p90cbbed79b)\">\n     <use style=\"fill:#0000ff;stroke:#0000ff;\" x=\"317.640675\" xlink:href=\"#m9f84d42b97\" y=\"130.124058\"/>\n    </g>\n   </g>\n   <g id=\"PathCollection_91\">\n    <g clip-path=\"url(#p90cbbed79b)\">\n     <use style=\"fill:#0000ff;stroke:#0000ff;\" x=\"174.534268\" xlink:href=\"#m9f84d42b97\" y=\"112.64463\"/>\n    </g>\n   </g>\n   <g id=\"PathCollection_92\">\n    <g clip-path=\"url(#p90cbbed79b)\">\n     <use style=\"fill:#0000ff;stroke:#0000ff;\" x=\"348.96337\" xlink:href=\"#m9f84d42b97\" y=\"157.919776\"/>\n    </g>\n   </g>\n   <g id=\"PathCollection_93\">\n    <g clip-path=\"url(#p90cbbed79b)\">\n     <use style=\"fill:#0000ff;stroke:#0000ff;\" x=\"218.909508\" xlink:href=\"#m9f84d42b97\" y=\"125.785351\"/>\n    </g>\n   </g>\n   <g id=\"PathCollection_94\">\n    <g clip-path=\"url(#p90cbbed79b)\">\n     <use style=\"fill:#0000ff;stroke:#0000ff;\" x=\"116.217022\" xlink:href=\"#m9f84d42b97\" y=\"190.436917\"/>\n    </g>\n   </g>\n   <g id=\"PathCollection_95\">\n    <g clip-path=\"url(#p90cbbed79b)\">\n     <use style=\"fill:#0000ff;stroke:#0000ff;\" x=\"298.15018\" xlink:href=\"#m9f84d42b97\" y=\"191.69148\"/>\n    </g>\n   </g>\n   <g id=\"PathCollection_96\">\n    <g clip-path=\"url(#p90cbbed79b)\">\n     <use style=\"fill:#0000ff;stroke:#0000ff;\" x=\"321.926263\" xlink:href=\"#m9f84d42b97\" y=\"215.431099\"/>\n    </g>\n   </g>\n   <g id=\"PathCollection_97\">\n    <g clip-path=\"url(#p90cbbed79b)\">\n     <use style=\"fill:#0000ff;stroke:#0000ff;\" x=\"292.082653\" xlink:href=\"#m9f84d42b97\" y=\"41.929647\"/>\n    </g>\n   </g>\n   <g id=\"PathCollection_98\">\n    <g clip-path=\"url(#p90cbbed79b)\">\n     <use style=\"fill:#0000ff;stroke:#0000ff;\" x=\"222.670086\" xlink:href=\"#m9f84d42b97\" y=\"35.749327\"/>\n    </g>\n   </g>\n   <g id=\"PathCollection_99\">\n    <g clip-path=\"url(#p90cbbed79b)\">\n     <use style=\"fill:#0000ff;stroke:#0000ff;\" x=\"158.028842\" xlink:href=\"#m9f84d42b97\" y=\"39.739128\"/>\n    </g>\n   </g>\n   <g id=\"PathCollection_100\">\n    <g clip-path=\"url(#p90cbbed79b)\">\n     <use style=\"fill:#0000ff;stroke:#0000ff;\" x=\"269.353454\" xlink:href=\"#m9f84d42b97\" y=\"31.936054\"/>\n    </g>\n   </g>\n   <g id=\"PathCollection_101\">\n    <defs>\n     <path d=\"M 0 0.866025 \nC 0.229673 0.866025 0.449969 0.774776 0.612372 0.612372 \nC 0.774776 0.449969 0.866025 0.229673 0.866025 0 \nC 0.866025 -0.229673 0.774776 -0.449969 0.612372 -0.612372 \nC 0.449969 -0.774776 0.229673 -0.866025 0 -0.866025 \nC -0.229673 -0.866025 -0.449969 -0.774776 -0.612372 -0.612372 \nC -0.774776 -0.449969 -0.866025 -0.229673 -0.866025 0 \nC -0.866025 0.229673 -0.774776 0.449969 -0.612372 0.612372 \nC -0.449969 0.774776 -0.229673 0.866025 0 0.866025 \nz\n\" id=\"mabe088576b\" style=\"stroke:#ff0000;\"/>\n    </defs>\n    <g clip-path=\"url(#p90cbbed79b)\">\n     <use style=\"fill:#ff0000;stroke:#ff0000;\" x=\"51.388099\" xlink:href=\"#mabe088576b\" y=\"177.905127\"/>\n    </g>\n   </g>\n   <g id=\"PathCollection_102\">\n    <g clip-path=\"url(#p90cbbed79b)\">\n     <use style=\"fill:#ff0000;stroke:#ff0000;\" x=\"66.177537\" xlink:href=\"#mabe088576b\" y=\"196.337952\"/>\n    </g>\n   </g>\n   <g id=\"PathCollection_103\">\n    <g clip-path=\"url(#p90cbbed79b)\">\n     <use style=\"fill:#ff0000;stroke:#ff0000;\" x=\"72.219959\" xlink:href=\"#mabe088576b\" y=\"210.436169\"/>\n    </g>\n   </g>\n   <g id=\"PathCollection_104\">\n    <g clip-path=\"url(#p90cbbed79b)\">\n     <use style=\"fill:#ff0000;stroke:#ff0000;\" x=\"86.752787\" xlink:href=\"#mabe088576b\" y=\"206.252443\"/>\n    </g>\n   </g>\n   <g id=\"PathCollection_105\">\n    <g clip-path=\"url(#p90cbbed79b)\">\n     <use style=\"fill:#ff0000;stroke:#ff0000;\" x=\"116.217022\" xlink:href=\"#mabe088576b\" y=\"190.436917\"/>\n    </g>\n   </g>\n   <g id=\"PathCollection_106\">\n    <g clip-path=\"url(#p90cbbed79b)\">\n     <use style=\"fill:#ff0000;stroke:#ff0000;\" x=\"128.373641\" xlink:href=\"#mabe088576b\" y=\"200.339992\"/>\n    </g>\n   </g>\n   <g id=\"PathCollection_107\">\n    <g clip-path=\"url(#p90cbbed79b)\">\n     <use style=\"fill:#ff0000;stroke:#ff0000;\" x=\"94.442314\" xlink:href=\"#mabe088576b\" y=\"163.314229\"/>\n    </g>\n   </g>\n   <g id=\"PathCollection_108\">\n    <g clip-path=\"url(#p90cbbed79b)\">\n     <use style=\"fill:#ff0000;stroke:#ff0000;\" x=\"109.307621\" xlink:href=\"#mabe088576b\" y=\"170.336177\"/>\n    </g>\n   </g>\n   <g id=\"PathCollection_109\">\n    <g clip-path=\"url(#p90cbbed79b)\">\n     <use style=\"fill:#ff0000;stroke:#ff0000;\" x=\"126.329093\" xlink:href=\"#mabe088576b\" y=\"172.370439\"/>\n    </g>\n   </g>\n   <g id=\"PathCollection_110\">\n    <g clip-path=\"url(#p90cbbed79b)\">\n     <use style=\"fill:#ff0000;stroke:#ff0000;\" x=\"188.445408\" xlink:href=\"#mabe088576b\" y=\"199.314746\"/>\n    </g>\n   </g>\n   <g id=\"PathCollection_111\">\n    <g clip-path=\"url(#p90cbbed79b)\">\n     <use style=\"fill:#ff0000;stroke:#ff0000;\" x=\"238.776941\" xlink:href=\"#mabe088576b\" y=\"217.27116\"/>\n    </g>\n   </g>\n   <g id=\"PathCollection_112\">\n    <g clip-path=\"url(#p90cbbed79b)\">\n     <use style=\"fill:#ff0000;stroke:#ff0000;\" x=\"226.356316\" xlink:href=\"#mabe088576b\" y=\"208.131149\"/>\n    </g>\n   </g>\n   <g id=\"PathCollection_113\">\n    <g clip-path=\"url(#p90cbbed79b)\">\n     <use style=\"fill:#ff0000;stroke:#ff0000;\" x=\"246.956655\" xlink:href=\"#mabe088576b\" y=\"217.391707\"/>\n    </g>\n   </g>\n   <g id=\"PathCollection_114\">\n    <g clip-path=\"url(#p90cbbed79b)\">\n     <use style=\"fill:#ff0000;stroke:#ff0000;\" x=\"181.579543\" xlink:href=\"#mabe088576b\" y=\"184.358475\"/>\n    </g>\n   </g>\n   <g id=\"PathCollection_115\">\n    <g clip-path=\"url(#p90cbbed79b)\">\n     <use style=\"fill:#ff0000;stroke:#ff0000;\" x=\"83.142903\" xlink:href=\"#mabe088576b\" y=\"136.437785\"/>\n    </g>\n   </g>\n   <g id=\"PathCollection_116\">\n    <g clip-path=\"url(#p90cbbed79b)\">\n     <use style=\"fill:#ff0000;stroke:#ff0000;\" x=\"225.534412\" xlink:href=\"#mabe088576b\" y=\"192.88494\"/>\n    </g>\n   </g>\n   <g id=\"PathCollection_117\">\n    <g clip-path=\"url(#p90cbbed79b)\">\n     <use style=\"fill:#ff0000;stroke:#ff0000;\" x=\"198.897058\" xlink:href=\"#mabe088576b\" y=\"178.865554\"/>\n    </g>\n   </g>\n   <g id=\"PathCollection_118\">\n    <g clip-path=\"url(#p90cbbed79b)\">\n     <use style=\"fill:#ff0000;stroke:#ff0000;\" x=\"186.022414\" xlink:href=\"#mabe088576b\" y=\"170.938706\"/>\n    </g>\n   </g>\n   <g id=\"PathCollection_119\">\n    <g clip-path=\"url(#p90cbbed79b)\">\n     <use style=\"fill:#ff0000;stroke:#ff0000;\" x=\"321.926263\" xlink:href=\"#mabe088576b\" y=\"215.431099\"/>\n    </g>\n   </g>\n   <g id=\"PathCollection_120\">\n    <g clip-path=\"url(#p90cbbed79b)\">\n     <use style=\"fill:#ff0000;stroke:#ff0000;\" x=\"298.15018\" xlink:href=\"#mabe088576b\" y=\"191.69148\"/>\n    </g>\n   </g>\n   <g id=\"PathCollection_121\">\n    <g clip-path=\"url(#p90cbbed79b)\">\n     <use style=\"fill:#ff0000;stroke:#ff0000;\" x=\"332.102955\" xlink:href=\"#mabe088576b\" y=\"184.09796\"/>\n    </g>\n   </g>\n   <g id=\"PathCollection_122\">\n    <g clip-path=\"url(#p90cbbed79b)\">\n     <use style=\"fill:#ff0000;stroke:#ff0000;\" x=\"236.363947\" xlink:href=\"#mabe088576b\" y=\"161.751999\"/>\n    </g>\n   </g>\n   <g id=\"PathCollection_123\">\n    <g clip-path=\"url(#p90cbbed79b)\">\n     <use style=\"fill:#ff0000;stroke:#ff0000;\" x=\"266.616354\" xlink:href=\"#mabe088576b\" y=\"168.06575\"/>\n    </g>\n   </g>\n   <g id=\"PathCollection_124\">\n    <g clip-path=\"url(#p90cbbed79b)\">\n     <use style=\"fill:#ff0000;stroke:#ff0000;\" x=\"233.167797\" xlink:href=\"#mabe088576b\" y=\"153.856636\"/>\n    </g>\n   </g>\n   <g id=\"PathCollection_125\">\n    <g clip-path=\"url(#p90cbbed79b)\">\n     <use style=\"fill:#ff0000;stroke:#ff0000;\" x=\"181.794969\" xlink:href=\"#mabe088576b\" y=\"140.900752\"/>\n    </g>\n   </g>\n   <g id=\"PathCollection_126\">\n    <g clip-path=\"url(#p90cbbed79b)\">\n     <use style=\"fill:#ff0000;stroke:#ff0000;\" x=\"302.541363\" xlink:href=\"#mabe088576b\" y=\"159.365616\"/>\n    </g>\n   </g>\n   <g id=\"PathCollection_127\">\n    <g clip-path=\"url(#p90cbbed79b)\">\n     <use style=\"fill:#ff0000;stroke:#ff0000;\" x=\"182.297117\" xlink:href=\"#mabe088576b\" y=\"140.299718\"/>\n    </g>\n   </g>\n   <g id=\"PathCollection_128\">\n    <g clip-path=\"url(#p90cbbed79b)\">\n     <use style=\"fill:#ff0000;stroke:#ff0000;\" x=\"179.302865\" xlink:href=\"#mabe088576b\" y=\"139.082523\"/>\n    </g>\n   </g>\n   <g id=\"PathCollection_129\">\n    <g clip-path=\"url(#p90cbbed79b)\">\n     <use style=\"fill:#ff0000;stroke:#ff0000;\" x=\"297.316409\" xlink:href=\"#mabe088576b\" y=\"153.740732\"/>\n    </g>\n   </g>\n   <g id=\"PathCollection_130\">\n    <g clip-path=\"url(#p90cbbed79b)\">\n     <use style=\"fill:#ff0000;stroke:#ff0000;\" x=\"288.407735\" xlink:href=\"#mabe088576b\" y=\"150.825908\"/>\n    </g>\n   </g>\n   <g id=\"PathCollection_131\">\n    <g clip-path=\"url(#p90cbbed79b)\">\n     <use style=\"fill:#ff0000;stroke:#ff0000;\" x=\"348.96337\" xlink:href=\"#mabe088576b\" y=\"157.919776\"/>\n    </g>\n   </g>\n   <g id=\"PathCollection_132\">\n    <g clip-path=\"url(#p90cbbed79b)\">\n     <use style=\"fill:#ff0000;stroke:#ff0000;\" x=\"172.13942\" xlink:href=\"#mabe088576b\" y=\"132.809722\"/>\n    </g>\n   </g>\n   <g id=\"PathCollection_133\">\n    <g clip-path=\"url(#p90cbbed79b)\">\n     <use style=\"fill:#ff0000;stroke:#ff0000;\" x=\"187.97433\" xlink:href=\"#mabe088576b\" y=\"131.911829\"/>\n    </g>\n   </g>\n   <g id=\"PathCollection_134\">\n    <g clip-path=\"url(#p90cbbed79b)\">\n     <use style=\"fill:#ff0000;stroke:#ff0000;\" x=\"268.25008\" xlink:href=\"#mabe088576b\" y=\"133.870507\"/>\n    </g>\n   </g>\n   <g id=\"PathCollection_135\">\n    <g clip-path=\"url(#p90cbbed79b)\">\n     <use style=\"fill:#ff0000;stroke:#ff0000;\" x=\"310.452632\" xlink:href=\"#mabe088576b\" y=\"133.130443\"/>\n    </g>\n   </g>\n   <g id=\"PathCollection_136\">\n    <g clip-path=\"url(#p90cbbed79b)\">\n     <use style=\"fill:#ff0000;stroke:#ff0000;\" x=\"317.640675\" xlink:href=\"#mabe088576b\" y=\"130.124058\"/>\n    </g>\n   </g>\n   <g id=\"PathCollection_137\">\n    <g clip-path=\"url(#p90cbbed79b)\">\n     <use style=\"fill:#ff0000;stroke:#ff0000;\" x=\"218.909508\" xlink:href=\"#mabe088576b\" y=\"125.785351\"/>\n    </g>\n   </g>\n   <g id=\"PathCollection_138\">\n    <g clip-path=\"url(#p90cbbed79b)\">\n     <use style=\"fill:#ff0000;stroke:#ff0000;\" x=\"171.171849\" xlink:href=\"#mabe088576b\" y=\"123.177039\"/>\n    </g>\n   </g>\n   <g id=\"PathCollection_139\">\n    <g clip-path=\"url(#p90cbbed79b)\">\n     <use style=\"fill:#ff0000;stroke:#ff0000;\" x=\"221.758443\" xlink:href=\"#mabe088576b\" y=\"124.296982\"/>\n    </g>\n   </g>\n   <g id=\"PathCollection_140\">\n    <g clip-path=\"url(#p90cbbed79b)\">\n     <use style=\"fill:#ff0000;stroke:#ff0000;\" x=\"349.629021\" xlink:href=\"#mabe088576b\" y=\"123.715792\"/>\n    </g>\n   </g>\n   <g id=\"PathCollection_141\">\n    <g clip-path=\"url(#p90cbbed79b)\">\n     <use style=\"fill:#ff0000;stroke:#ff0000;\" x=\"229.664508\" xlink:href=\"#mabe088576b\" y=\"116.163283\"/>\n    </g>\n   </g>\n   <g id=\"PathCollection_142\">\n    <g clip-path=\"url(#p90cbbed79b)\">\n     <use style=\"fill:#ff0000;stroke:#ff0000;\" x=\"326.694345\" xlink:href=\"#mabe088576b\" y=\"110.353949\"/>\n    </g>\n   </g>\n   <g id=\"PathCollection_143\">\n    <g clip-path=\"url(#p90cbbed79b)\">\n     <use style=\"fill:#ff0000;stroke:#ff0000;\" x=\"299.724193\" xlink:href=\"#mabe088576b\" y=\"109.497617\"/>\n    </g>\n   </g>\n   <g id=\"PathCollection_144\">\n    <g clip-path=\"url(#p90cbbed79b)\">\n     <use style=\"fill:#ff0000;stroke:#ff0000;\" x=\"174.534268\" xlink:href=\"#mabe088576b\" y=\"112.64463\"/>\n    </g>\n   </g>\n   <g id=\"PathCollection_145\">\n    <g clip-path=\"url(#p90cbbed79b)\">\n     <use style=\"fill:#ff0000;stroke:#ff0000;\" x=\"290.890757\" xlink:href=\"#mabe088576b\" y=\"105.812019\"/>\n    </g>\n   </g>\n   <g id=\"PathCollection_146\">\n    <g clip-path=\"url(#p90cbbed79b)\">\n     <use style=\"fill:#ff0000;stroke:#ff0000;\" x=\"344.296769\" xlink:href=\"#mabe088576b\" y=\"100.71069\"/>\n    </g>\n   </g>\n   <g id=\"PathCollection_147\">\n    <g clip-path=\"url(#p90cbbed79b)\">\n     <use style=\"fill:#ff0000;stroke:#ff0000;\" x=\"120.66764\" xlink:href=\"#mabe088576b\" y=\"113.656556\"/>\n    </g>\n   </g>\n   <g id=\"PathCollection_148\">\n    <g clip-path=\"url(#p90cbbed79b)\">\n     <use style=\"fill:#ff0000;stroke:#ff0000;\" x=\"233.506216\" xlink:href=\"#mabe088576b\" y=\"94.541118\"/>\n    </g>\n   </g>\n   <g id=\"PathCollection_149\">\n    <g clip-path=\"url(#p90cbbed79b)\">\n     <use style=\"fill:#ff0000;stroke:#ff0000;\" x=\"280.744698\" xlink:href=\"#mabe088576b\" y=\"86.420953\"/>\n    </g>\n   </g>\n   <g id=\"PathCollection_150\">\n    <g clip-path=\"url(#p90cbbed79b)\">\n     <use style=\"fill:#ff0000;stroke:#ff0000;\" x=\"211.943548\" xlink:href=\"#mabe088576b\" y=\"95.846572\"/>\n    </g>\n   </g>\n   <g id=\"PathCollection_151\">\n    <g clip-path=\"url(#p90cbbed79b)\">\n     <use style=\"fill:#ff0000;stroke:#ff0000;\" x=\"269.410985\" xlink:href=\"#mabe088576b\" y=\"87.470628\"/>\n    </g>\n   </g>\n   <g id=\"PathCollection_152\">\n    <g clip-path=\"url(#p90cbbed79b)\">\n     <use style=\"fill:#ff0000;stroke:#ff0000;\" x=\"103.087582\" xlink:href=\"#mabe088576b\" y=\"109.68393\"/>\n    </g>\n   </g>\n   <g id=\"PathCollection_153\">\n    <g clip-path=\"url(#p90cbbed79b)\">\n     <use style=\"fill:#ff0000;stroke:#ff0000;\" x=\"182.36885\" xlink:href=\"#mabe088576b\" y=\"88.901419\"/>\n    </g>\n   </g>\n   <g id=\"PathCollection_154\">\n    <g clip-path=\"url(#p90cbbed79b)\">\n     <use style=\"fill:#ff0000;stroke:#ff0000;\" x=\"265.684418\" xlink:href=\"#mabe088576b\" y=\"66.866356\"/>\n    </g>\n   </g>\n   <g id=\"PathCollection_155\">\n    <g clip-path=\"url(#p90cbbed79b)\">\n     <use style=\"fill:#ff0000;stroke:#ff0000;\" x=\"223.396915\" xlink:href=\"#mabe088576b\" y=\"76.730591\"/>\n    </g>\n   </g>\n   <g id=\"PathCollection_156\">\n    <g clip-path=\"url(#p90cbbed79b)\">\n     <use style=\"fill:#ff0000;stroke:#ff0000;\" x=\"188.338289\" xlink:href=\"#mabe088576b\" y=\"80.451329\"/>\n    </g>\n   </g>\n   <g id=\"PathCollection_157\">\n    <g clip-path=\"url(#p90cbbed79b)\">\n     <use style=\"fill:#ff0000;stroke:#ff0000;\" x=\"243.702877\" xlink:href=\"#mabe088576b\" y=\"61.708541\"/>\n    </g>\n   </g>\n   <g id=\"PathCollection_158\">\n    <g clip-path=\"url(#p90cbbed79b)\">\n     <use style=\"fill:#ff0000;stroke:#ff0000;\" x=\"214.777377\" xlink:href=\"#mabe088576b\" y=\"68.400376\"/>\n    </g>\n   </g>\n   <g id=\"PathCollection_159\">\n    <g clip-path=\"url(#p90cbbed79b)\">\n     <use style=\"fill:#ff0000;stroke:#ff0000;\" x=\"193.698777\" xlink:href=\"#mabe088576b\" y=\"74.542416\"/>\n    </g>\n   </g>\n   <g id=\"PathCollection_160\">\n    <g clip-path=\"url(#p90cbbed79b)\">\n     <use style=\"fill:#ff0000;stroke:#ff0000;\" x=\"98.185529\" xlink:href=\"#mabe088576b\" y=\"102.697444\"/>\n    </g>\n   </g>\n   <g id=\"PathCollection_161\">\n    <g clip-path=\"url(#p90cbbed79b)\">\n     <use style=\"fill:#ff0000;stroke:#ff0000;\" x=\"274.239938\" xlink:href=\"#mabe088576b\" y=\"45.276602\"/>\n    </g>\n   </g>\n   <g id=\"PathCollection_162\">\n    <g clip-path=\"url(#p90cbbed79b)\">\n     <use style=\"fill:#ff0000;stroke:#ff0000;\" x=\"280.50352\" xlink:href=\"#mabe088576b\" y=\"30.193559\"/>\n    </g>\n   </g>\n   <g id=\"PathCollection_163\">\n    <g clip-path=\"url(#p90cbbed79b)\">\n     <use style=\"fill:#ff0000;stroke:#ff0000;\" x=\"225.633517\" xlink:href=\"#mabe088576b\" y=\"49.253415\"/>\n    </g>\n   </g>\n   <g id=\"PathCollection_164\">\n    <g clip-path=\"url(#p90cbbed79b)\">\n     <use style=\"fill:#ff0000;stroke:#ff0000;\" x=\"269.353454\" xlink:href=\"#mabe088576b\" y=\"31.936054\"/>\n    </g>\n   </g>\n   <g id=\"PathCollection_165\">\n    <g clip-path=\"url(#p90cbbed79b)\">\n     <use style=\"fill:#ff0000;stroke:#ff0000;\" x=\"244.651237\" xlink:href=\"#mabe088576b\" y=\"40.881367\"/>\n    </g>\n   </g>\n   <g id=\"PathCollection_166\">\n    <g clip-path=\"url(#p90cbbed79b)\">\n     <use style=\"fill:#ff0000;stroke:#ff0000;\" x=\"156.635402\" xlink:href=\"#mabe088576b\" y=\"71.995393\"/>\n    </g>\n   </g>\n   <g id=\"PathCollection_167\">\n    <g clip-path=\"url(#p90cbbed79b)\">\n     <use style=\"fill:#ff0000;stroke:#ff0000;\" x=\"266.41029\" xlink:href=\"#mabe088576b\" y=\"21.448823\"/>\n    </g>\n   </g>\n   <g id=\"PathCollection_168\">\n    <g clip-path=\"url(#p90cbbed79b)\">\n     <use style=\"fill:#ff0000;stroke:#ff0000;\" x=\"218.876531\" xlink:href=\"#mabe088576b\" y=\"39.128938\"/>\n    </g>\n   </g>\n   <g id=\"PathCollection_169\">\n    <g clip-path=\"url(#p90cbbed79b)\">\n     <use style=\"fill:#ff0000;stroke:#ff0000;\" x=\"222.670086\" xlink:href=\"#mabe088576b\" y=\"35.749327\"/>\n    </g>\n   </g>\n   <g id=\"PathCollection_170\">\n    <g clip-path=\"url(#p90cbbed79b)\">\n     <use style=\"fill:#ff0000;stroke:#ff0000;\" x=\"132.587495\" xlink:href=\"#mabe088576b\" y=\"65.675332\"/>\n    </g>\n   </g>\n   <g id=\"PathCollection_171\">\n    <g clip-path=\"url(#p90cbbed79b)\">\n     <use style=\"fill:#ff0000;stroke:#ff0000;\" x=\"176.864227\" xlink:href=\"#mabe088576b\" y=\"34.050882\"/>\n    </g>\n   </g>\n   <g id=\"PathCollection_172\">\n    <g clip-path=\"url(#p90cbbed79b)\">\n     <use style=\"fill:#ff0000;stroke:#ff0000;\" x=\"158.028842\" xlink:href=\"#mabe088576b\" y=\"39.739128\"/>\n    </g>\n   </g>\n   <g id=\"PathCollection_173\">\n    <g clip-path=\"url(#p90cbbed79b)\">\n     <use style=\"fill:#ff0000;stroke:#ff0000;\" x=\"76.505024\" xlink:href=\"#mabe088576b\" y=\"94.860413\"/>\n    </g>\n   </g>\n   <g id=\"PathCollection_174\">\n    <g clip-path=\"url(#p90cbbed79b)\">\n     <use style=\"fill:#ff0000;stroke:#ff0000;\" x=\"118.752351\" xlink:href=\"#mabe088576b\" y=\"42.315798\"/>\n    </g>\n   </g>\n   <g id=\"PathCollection_175\">\n    <g clip-path=\"url(#p90cbbed79b)\">\n     <use style=\"fill:#ff0000;stroke:#ff0000;\" x=\"75.773826\" xlink:href=\"#mabe088576b\" y=\"84.28019\"/>\n    </g>\n   </g>\n   <g id=\"PathCollection_176\">\n    <g clip-path=\"url(#p90cbbed79b)\">\n     <use style=\"fill:#ff0000;stroke:#ff0000;\" x=\"58.368326\" xlink:href=\"#mabe088576b\" y=\"74.456265\"/>\n    </g>\n   </g>\n   <g id=\"PathCollection_177\">\n    <g clip-path=\"url(#p90cbbed79b)\">\n     <use style=\"fill:#ff0000;stroke:#ff0000;\" x=\"66.046472\" xlink:href=\"#mabe088576b\" y=\"29.246942\"/>\n    </g>\n   </g>\n   <g id=\"PathCollection_178\">\n    <g clip-path=\"url(#p90cbbed79b)\">\n     <use style=\"fill:#ff0000;stroke:#ff0000;\" x=\"52.231133\" xlink:href=\"#mabe088576b\" y=\"64.921142\"/>\n    </g>\n   </g>\n   <g id=\"matplotlib.axis_1\">\n    <g id=\"xtick_1\">\n     <g id=\"line2d_1\">\n      <defs>\n       <path d=\"M 0 0 \nL 0 3.5 \n\" id=\"me1575c20a8\" style=\"stroke:#000000;stroke-width:0.8;\"/>\n      </defs>\n      <g>\n       <use style=\"stroke:#000000;stroke-width:0.8;\" x=\"43.706628\" xlink:href=\"#me1575c20a8\" y=\"228.14\"/>\n      </g>\n     </g>\n     <g id=\"text_1\">\n      <!-- 0 -->\n      <defs>\n       <path d=\"M 31.78125 66.40625 \nQ 24.171875 66.40625 20.328125 58.90625 \nQ 16.5 51.421875 16.5 36.375 \nQ 16.5 21.390625 20.328125 13.890625 \nQ 24.171875 6.390625 31.78125 6.390625 \nQ 39.453125 6.390625 43.28125 13.890625 \nQ 47.125 21.390625 47.125 36.375 \nQ 47.125 51.421875 43.28125 58.90625 \nQ 39.453125 66.40625 31.78125 66.40625 \nz\nM 31.78125 74.21875 \nQ 44.046875 74.21875 50.515625 64.515625 \nQ 56.984375 54.828125 56.984375 36.375 \nQ 56.984375 17.96875 50.515625 8.265625 \nQ 44.046875 -1.421875 31.78125 -1.421875 \nQ 19.53125 -1.421875 13.0625 8.265625 \nQ 6.59375 17.96875 6.59375 36.375 \nQ 6.59375 54.828125 13.0625 64.515625 \nQ 19.53125 74.21875 31.78125 74.21875 \nz\n\" id=\"DejaVuSans-48\"/>\n      </defs>\n      <g transform=\"translate(40.525378 242.738437)scale(0.1 -0.1)\">\n       <use xlink:href=\"#DejaVuSans-48\"/>\n      </g>\n     </g>\n    </g>\n    <g id=\"xtick_2\">\n     <g id=\"line2d_2\">\n      <g>\n       <use style=\"stroke:#000000;stroke-width:0.8;\" x=\"107.356523\" xlink:href=\"#me1575c20a8\" y=\"228.14\"/>\n      </g>\n     </g>\n     <g id=\"text_2\">\n      <!-- 20 -->\n      <defs>\n       <path d=\"M 19.1875 8.296875 \nL 53.609375 8.296875 \nL 53.609375 0 \nL 7.328125 0 \nL 7.328125 8.296875 \nQ 12.9375 14.109375 22.625 23.890625 \nQ 32.328125 33.6875 34.8125 36.53125 \nQ 39.546875 41.84375 41.421875 45.53125 \nQ 43.3125 49.21875 43.3125 52.78125 \nQ 43.3125 58.59375 39.234375 62.25 \nQ 35.15625 65.921875 28.609375 65.921875 \nQ 23.96875 65.921875 18.8125 64.3125 \nQ 13.671875 62.703125 7.8125 59.421875 \nL 7.8125 69.390625 \nQ 13.765625 71.78125 18.9375 73 \nQ 24.125 74.21875 28.421875 74.21875 \nQ 39.75 74.21875 46.484375 68.546875 \nQ 53.21875 62.890625 53.21875 53.421875 \nQ 53.21875 48.921875 51.53125 44.890625 \nQ 49.859375 40.875 45.40625 35.40625 \nQ 44.1875 33.984375 37.640625 27.21875 \nQ 31.109375 20.453125 19.1875 8.296875 \nz\n\" id=\"DejaVuSans-50\"/>\n      </defs>\n      <g transform=\"translate(100.994023 242.738437)scale(0.1 -0.1)\">\n       <use xlink:href=\"#DejaVuSans-50\"/>\n       <use x=\"63.623047\" xlink:href=\"#DejaVuSans-48\"/>\n      </g>\n     </g>\n    </g>\n    <g id=\"xtick_3\">\n     <g id=\"line2d_3\">\n      <g>\n       <use style=\"stroke:#000000;stroke-width:0.8;\" x=\"171.006419\" xlink:href=\"#me1575c20a8\" y=\"228.14\"/>\n      </g>\n     </g>\n     <g id=\"text_3\">\n      <!-- 40 -->\n      <defs>\n       <path d=\"M 37.796875 64.3125 \nL 12.890625 25.390625 \nL 37.796875 25.390625 \nz\nM 35.203125 72.90625 \nL 47.609375 72.90625 \nL 47.609375 25.390625 \nL 58.015625 25.390625 \nL 58.015625 17.1875 \nL 47.609375 17.1875 \nL 47.609375 0 \nL 37.796875 0 \nL 37.796875 17.1875 \nL 4.890625 17.1875 \nL 4.890625 26.703125 \nz\n\" id=\"DejaVuSans-52\"/>\n      </defs>\n      <g transform=\"translate(164.643919 242.738437)scale(0.1 -0.1)\">\n       <use xlink:href=\"#DejaVuSans-52\"/>\n       <use x=\"63.623047\" xlink:href=\"#DejaVuSans-48\"/>\n      </g>\n     </g>\n    </g>\n    <g id=\"xtick_4\">\n     <g id=\"line2d_4\">\n      <g>\n       <use style=\"stroke:#000000;stroke-width:0.8;\" x=\"234.656314\" xlink:href=\"#me1575c20a8\" y=\"228.14\"/>\n      </g>\n     </g>\n     <g id=\"text_4\">\n      <!-- 60 -->\n      <defs>\n       <path d=\"M 33.015625 40.375 \nQ 26.375 40.375 22.484375 35.828125 \nQ 18.609375 31.296875 18.609375 23.390625 \nQ 18.609375 15.53125 22.484375 10.953125 \nQ 26.375 6.390625 33.015625 6.390625 \nQ 39.65625 6.390625 43.53125 10.953125 \nQ 47.40625 15.53125 47.40625 23.390625 \nQ 47.40625 31.296875 43.53125 35.828125 \nQ 39.65625 40.375 33.015625 40.375 \nz\nM 52.59375 71.296875 \nL 52.59375 62.3125 \nQ 48.875 64.0625 45.09375 64.984375 \nQ 41.3125 65.921875 37.59375 65.921875 \nQ 27.828125 65.921875 22.671875 59.328125 \nQ 17.53125 52.734375 16.796875 39.40625 \nQ 19.671875 43.65625 24.015625 45.921875 \nQ 28.375 48.1875 33.59375 48.1875 \nQ 44.578125 48.1875 50.953125 41.515625 \nQ 57.328125 34.859375 57.328125 23.390625 \nQ 57.328125 12.15625 50.6875 5.359375 \nQ 44.046875 -1.421875 33.015625 -1.421875 \nQ 20.359375 -1.421875 13.671875 8.265625 \nQ 6.984375 17.96875 6.984375 36.375 \nQ 6.984375 53.65625 15.1875 63.9375 \nQ 23.390625 74.21875 37.203125 74.21875 \nQ 40.921875 74.21875 44.703125 73.484375 \nQ 48.484375 72.75 52.59375 71.296875 \nz\n\" id=\"DejaVuSans-54\"/>\n      </defs>\n      <g transform=\"translate(228.293814 242.738437)scale(0.1 -0.1)\">\n       <use xlink:href=\"#DejaVuSans-54\"/>\n       <use x=\"63.623047\" xlink:href=\"#DejaVuSans-48\"/>\n      </g>\n     </g>\n    </g>\n    <g id=\"xtick_5\">\n     <g id=\"line2d_5\">\n      <g>\n       <use style=\"stroke:#000000;stroke-width:0.8;\" x=\"298.30621\" xlink:href=\"#me1575c20a8\" y=\"228.14\"/>\n      </g>\n     </g>\n     <g id=\"text_5\">\n      <!-- 80 -->\n      <defs>\n       <path d=\"M 31.78125 34.625 \nQ 24.75 34.625 20.71875 30.859375 \nQ 16.703125 27.09375 16.703125 20.515625 \nQ 16.703125 13.921875 20.71875 10.15625 \nQ 24.75 6.390625 31.78125 6.390625 \nQ 38.8125 6.390625 42.859375 10.171875 \nQ 46.921875 13.96875 46.921875 20.515625 \nQ 46.921875 27.09375 42.890625 30.859375 \nQ 38.875 34.625 31.78125 34.625 \nz\nM 21.921875 38.8125 \nQ 15.578125 40.375 12.03125 44.71875 \nQ 8.5 49.078125 8.5 55.328125 \nQ 8.5 64.0625 14.71875 69.140625 \nQ 20.953125 74.21875 31.78125 74.21875 \nQ 42.671875 74.21875 48.875 69.140625 \nQ 55.078125 64.0625 55.078125 55.328125 \nQ 55.078125 49.078125 51.53125 44.71875 \nQ 48 40.375 41.703125 38.8125 \nQ 48.828125 37.15625 52.796875 32.3125 \nQ 56.78125 27.484375 56.78125 20.515625 \nQ 56.78125 9.90625 50.3125 4.234375 \nQ 43.84375 -1.421875 31.78125 -1.421875 \nQ 19.734375 -1.421875 13.25 4.234375 \nQ 6.78125 9.90625 6.78125 20.515625 \nQ 6.78125 27.484375 10.78125 32.3125 \nQ 14.796875 37.15625 21.921875 38.8125 \nz\nM 18.3125 54.390625 \nQ 18.3125 48.734375 21.84375 45.5625 \nQ 25.390625 42.390625 31.78125 42.390625 \nQ 38.140625 42.390625 41.71875 45.5625 \nQ 45.3125 48.734375 45.3125 54.390625 \nQ 45.3125 60.0625 41.71875 63.234375 \nQ 38.140625 66.40625 31.78125 66.40625 \nQ 25.390625 66.40625 21.84375 63.234375 \nQ 18.3125 60.0625 18.3125 54.390625 \nz\n\" id=\"DejaVuSans-56\"/>\n      </defs>\n      <g transform=\"translate(291.94371 242.738437)scale(0.1 -0.1)\">\n       <use xlink:href=\"#DejaVuSans-56\"/>\n       <use x=\"63.623047\" xlink:href=\"#DejaVuSans-48\"/>\n      </g>\n     </g>\n    </g>\n    <g id=\"xtick_6\">\n     <g id=\"line2d_6\">\n      <g>\n       <use style=\"stroke:#000000;stroke-width:0.8;\" x=\"361.956105\" xlink:href=\"#me1575c20a8\" y=\"228.14\"/>\n      </g>\n     </g>\n     <g id=\"text_6\">\n      <!-- 100 -->\n      <defs>\n       <path d=\"M 12.40625 8.296875 \nL 28.515625 8.296875 \nL 28.515625 63.921875 \nL 10.984375 60.40625 \nL 10.984375 69.390625 \nL 28.421875 72.90625 \nL 38.28125 72.90625 \nL 38.28125 8.296875 \nL 54.390625 8.296875 \nL 54.390625 0 \nL 12.40625 0 \nz\n\" id=\"DejaVuSans-49\"/>\n      </defs>\n      <g transform=\"translate(352.412355 242.738437)scale(0.1 -0.1)\">\n       <use xlink:href=\"#DejaVuSans-49\"/>\n       <use x=\"63.623047\" xlink:href=\"#DejaVuSans-48\"/>\n       <use x=\"127.246094\" xlink:href=\"#DejaVuSans-48\"/>\n      </g>\n     </g>\n    </g>\n   </g>\n   <g id=\"matplotlib.axis_2\">\n    <g id=\"ytick_1\">\n     <g id=\"line2d_7\">\n      <defs>\n       <path d=\"M 0 0 \nL -3.5 0 \n\" id=\"me54e58fb35\" style=\"stroke:#000000;stroke-width:0.8;\"/>\n      </defs>\n      <g>\n       <use style=\"stroke:#000000;stroke-width:0.8;\" x=\"35.304688\" xlink:href=\"#me54e58fb35\" y=\"199.463498\"/>\n      </g>\n     </g>\n     <g id=\"text_7\">\n      <!-- −40 -->\n      <defs>\n       <path d=\"M 10.59375 35.5 \nL 73.1875 35.5 \nL 73.1875 27.203125 \nL 10.59375 27.203125 \nz\n\" id=\"DejaVuSans-8722\"/>\n      </defs>\n      <g transform=\"translate(7.2 203.262717)scale(0.1 -0.1)\">\n       <use xlink:href=\"#DejaVuSans-8722\"/>\n       <use x=\"83.789062\" xlink:href=\"#DejaVuSans-52\"/>\n       <use x=\"147.412109\" xlink:href=\"#DejaVuSans-48\"/>\n      </g>\n     </g>\n    </g>\n    <g id=\"ytick_2\">\n     <g id=\"line2d_8\">\n      <g>\n       <use style=\"stroke:#000000;stroke-width:0.8;\" x=\"35.304688\" xlink:href=\"#me54e58fb35\" y=\"159.555881\"/>\n      </g>\n     </g>\n     <g id=\"text_8\">\n      <!-- −20 -->\n      <g transform=\"translate(7.2 163.3551)scale(0.1 -0.1)\">\n       <use xlink:href=\"#DejaVuSans-8722\"/>\n       <use x=\"83.789062\" xlink:href=\"#DejaVuSans-50\"/>\n       <use x=\"147.412109\" xlink:href=\"#DejaVuSans-48\"/>\n      </g>\n     </g>\n    </g>\n    <g id=\"ytick_3\">\n     <g id=\"line2d_9\">\n      <g>\n       <use style=\"stroke:#000000;stroke-width:0.8;\" x=\"35.304688\" xlink:href=\"#me54e58fb35\" y=\"119.648264\"/>\n      </g>\n     </g>\n     <g id=\"text_9\">\n      <!-- 0 -->\n      <g transform=\"translate(21.942188 123.447483)scale(0.1 -0.1)\">\n       <use xlink:href=\"#DejaVuSans-48\"/>\n      </g>\n     </g>\n    </g>\n    <g id=\"ytick_4\">\n     <g id=\"line2d_10\">\n      <g>\n       <use style=\"stroke:#000000;stroke-width:0.8;\" x=\"35.304688\" xlink:href=\"#me54e58fb35\" y=\"79.740647\"/>\n      </g>\n     </g>\n     <g id=\"text_10\">\n      <!-- 20 -->\n      <g transform=\"translate(15.579688 83.539866)scale(0.1 -0.1)\">\n       <use xlink:href=\"#DejaVuSans-50\"/>\n       <use x=\"63.623047\" xlink:href=\"#DejaVuSans-48\"/>\n      </g>\n     </g>\n    </g>\n    <g id=\"ytick_5\">\n     <g id=\"line2d_11\">\n      <g>\n       <use style=\"stroke:#000000;stroke-width:0.8;\" x=\"35.304688\" xlink:href=\"#me54e58fb35\" y=\"39.83303\"/>\n      </g>\n     </g>\n     <g id=\"text_11\">\n      <!-- 40 -->\n      <g transform=\"translate(15.579688 43.632249)scale(0.1 -0.1)\">\n       <use xlink:href=\"#DejaVuSans-52\"/>\n       <use x=\"63.623047\" xlink:href=\"#DejaVuSans-48\"/>\n      </g>\n     </g>\n    </g>\n   </g>\n   <g id=\"patch_3\">\n    <path d=\"M 35.304688 228.14 \nL 35.304688 10.7 \n\" style=\"fill:none;stroke:#000000;stroke-linecap:square;stroke-linejoin:miter;stroke-width:0.8;\"/>\n   </g>\n   <g id=\"patch_4\">\n    <path d=\"M 370.104688 228.14 \nL 370.104688 10.7 \n\" style=\"fill:none;stroke:#000000;stroke-linecap:square;stroke-linejoin:miter;stroke-width:0.8;\"/>\n   </g>\n   <g id=\"patch_5\">\n    <path d=\"M 35.304688 228.14 \nL 370.104688 228.14 \n\" style=\"fill:none;stroke:#000000;stroke-linecap:square;stroke-linejoin:miter;stroke-width:0.8;\"/>\n   </g>\n   <g id=\"patch_6\">\n    <path d=\"M 35.304688 10.7 \nL 370.104688 10.7 \n\" style=\"fill:none;stroke:#000000;stroke-linecap:square;stroke-linejoin:miter;stroke-width:0.8;\"/>\n   </g>\n  </g>\n </g>\n <defs>\n  <clipPath id=\"p90cbbed79b\">\n   <rect height=\"217.44\" width=\"334.8\" x=\"35.304688\" y=\"10.7\"/>\n  </clipPath>\n </defs>\n</svg>\n",
      "image/png": "[encoded data removed]"
     },
     "metadata": {
      "needs_background": "light"
     }
    }
   ],
   "source": [
    "fig = plt.figure()\n",
    "ax = plt.axes()\n",
    "\n",
    "for point in points:\n",
    "    ax.scatter(point[0], point[1], c= \"blue\", s=2)\n",
    "\n",
    "for point in nn_points:\n",
    "    ax.scatter(point[0], point[1], c=\"red\", s=3)\n"
   ]
  },
  {
   "cell_type": "code",
   "execution_count": 17,
   "metadata": {},
   "outputs": [
    {
     "output_type": "error",
     "ename": "KeyboardInterrupt",
     "evalue": "",
     "traceback": [
      "\u001b[0;31m---------------------------------------------------------------------------\u001b[0m",
      "\u001b[0;31mKeyboardInterrupt\u001b[0m                         Traceback (most recent call last)",
      "\u001b[0;32m<ipython-input-17-f63c3f78fadd>\u001b[0m in \u001b[0;36m<module>\u001b[0;34m\u001b[0m\n\u001b[1;32m      6\u001b[0m \u001b[0max\u001b[0m\u001b[0;34m.\u001b[0m\u001b[0mset_aspect\u001b[0m\u001b[0;34m(\u001b[0m\u001b[0;34m\"equal\"\u001b[0m\u001b[0;34m)\u001b[0m\u001b[0;34m\u001b[0m\u001b[0;34m\u001b[0m\u001b[0m\n\u001b[1;32m      7\u001b[0m \u001b[0;32mfor\u001b[0m \u001b[0mpoint\u001b[0m \u001b[0;32min\u001b[0m \u001b[0mpoints\u001b[0m\u001b[0;34m:\u001b[0m\u001b[0;34m\u001b[0m\u001b[0;34m\u001b[0m\u001b[0m\n\u001b[0;32m----> 8\u001b[0;31m     \u001b[0max\u001b[0m\u001b[0;34m.\u001b[0m\u001b[0mscatter\u001b[0m\u001b[0;34m(\u001b[0m\u001b[0mpoint\u001b[0m\u001b[0;34m[\u001b[0m\u001b[0;36m0\u001b[0m\u001b[0;34m]\u001b[0m\u001b[0;34m,\u001b[0m \u001b[0mpoint\u001b[0m\u001b[0;34m[\u001b[0m\u001b[0;36m1\u001b[0m\u001b[0;34m]\u001b[0m\u001b[0;34m,\u001b[0m \u001b[0mc\u001b[0m\u001b[0;34m=\u001b[0m\u001b[0;34m\"green\"\u001b[0m\u001b[0;34m,\u001b[0m \u001b[0ms\u001b[0m\u001b[0;34m=\u001b[0m\u001b[0;36m2\u001b[0m\u001b[0;34m)\u001b[0m\u001b[0;34m\u001b[0m\u001b[0;34m\u001b[0m\u001b[0m\n\u001b[0m\u001b[1;32m      9\u001b[0m \u001b[0max\u001b[0m\u001b[0;34m.\u001b[0m\u001b[0mscatter\u001b[0m\u001b[0;34m(\u001b[0m\u001b[0mp\u001b[0m\u001b[0;34m[\u001b[0m\u001b[0;36m0\u001b[0m\u001b[0;34m]\u001b[0m\u001b[0;34m,\u001b[0m \u001b[0mp\u001b[0m\u001b[0;34m[\u001b[0m\u001b[0;36m1\u001b[0m\u001b[0;34m]\u001b[0m\u001b[0;34m,\u001b[0m \u001b[0mc\u001b[0m\u001b[0;34m=\u001b[0m\u001b[0;34m\"red\"\u001b[0m\u001b[0;34m)\u001b[0m\u001b[0;34m\u001b[0m\u001b[0;34m\u001b[0m\u001b[0m\n\u001b[1;32m     10\u001b[0m \u001b[0max\u001b[0m\u001b[0;34m.\u001b[0m\u001b[0mscatter\u001b[0m\u001b[0;34m(\u001b[0m\u001b[0mnearest\u001b[0m\u001b[0;34m[\u001b[0m\u001b[0;36m0\u001b[0m\u001b[0;34m]\u001b[0m\u001b[0;34m,\u001b[0m \u001b[0mnearest\u001b[0m\u001b[0;34m[\u001b[0m\u001b[0;36m1\u001b[0m\u001b[0;34m]\u001b[0m\u001b[0;34m,\u001b[0m \u001b[0mc\u001b[0m\u001b[0;34m=\u001b[0m\u001b[0;34m\"blue\"\u001b[0m\u001b[0;34m,\u001b[0m \u001b[0ms\u001b[0m\u001b[0;34m=\u001b[0m\u001b[0;36m2\u001b[0m\u001b[0;34m)\u001b[0m\u001b[0;34m\u001b[0m\u001b[0;34m\u001b[0m\u001b[0m\n",
      "\u001b[0;32m~/.pyenv/versions/anaconda3-5.3.1/envs/py37/lib/python3.7/site-packages/matplotlib/__init__.py\u001b[0m in \u001b[0;36minner\u001b[0;34m(ax, data, *args, **kwargs)\u001b[0m\n\u001b[1;32m   1808\u001b[0m                         \u001b[0;34m\"the Matplotlib list!)\"\u001b[0m \u001b[0;34m%\u001b[0m \u001b[0;34m(\u001b[0m\u001b[0mlabel_namer\u001b[0m\u001b[0;34m,\u001b[0m \u001b[0mfunc\u001b[0m\u001b[0;34m.\u001b[0m\u001b[0m__name__\u001b[0m\u001b[0;34m)\u001b[0m\u001b[0;34m,\u001b[0m\u001b[0;34m\u001b[0m\u001b[0;34m\u001b[0m\u001b[0m\n\u001b[1;32m   1809\u001b[0m                         RuntimeWarning, stacklevel=2)\n\u001b[0;32m-> 1810\u001b[0;31m             \u001b[0;32mreturn\u001b[0m \u001b[0mfunc\u001b[0m\u001b[0;34m(\u001b[0m\u001b[0max\u001b[0m\u001b[0;34m,\u001b[0m \u001b[0;34m*\u001b[0m\u001b[0margs\u001b[0m\u001b[0;34m,\u001b[0m \u001b[0;34m**\u001b[0m\u001b[0mkwargs\u001b[0m\u001b[0;34m)\u001b[0m\u001b[0;34m\u001b[0m\u001b[0;34m\u001b[0m\u001b[0m\n\u001b[0m\u001b[1;32m   1811\u001b[0m \u001b[0;34m\u001b[0m\u001b[0m\n\u001b[1;32m   1812\u001b[0m         inner.__doc__ = _add_data_doc(inner.__doc__,\n",
      "\u001b[0;32m~/.pyenv/versions/anaconda3-5.3.1/envs/py37/lib/python3.7/site-packages/matplotlib/axes/_axes.py\u001b[0m in \u001b[0;36mscatter\u001b[0;34m(self, x, y, s, c, marker, cmap, norm, vmin, vmax, alpha, linewidths, verts, edgecolors, **kwargs)\u001b[0m\n\u001b[1;32m   4325\u001b[0m \u001b[0;34m\u001b[0m\u001b[0m\n\u001b[1;32m   4326\u001b[0m         \u001b[0mself\u001b[0m\u001b[0;34m.\u001b[0m\u001b[0madd_collection\u001b[0m\u001b[0;34m(\u001b[0m\u001b[0mcollection\u001b[0m\u001b[0;34m)\u001b[0m\u001b[0;34m\u001b[0m\u001b[0;34m\u001b[0m\u001b[0m\n\u001b[0;32m-> 4327\u001b[0;31m         \u001b[0mself\u001b[0m\u001b[0;34m.\u001b[0m\u001b[0mautoscale_view\u001b[0m\u001b[0;34m(\u001b[0m\u001b[0;34m)\u001b[0m\u001b[0;34m\u001b[0m\u001b[0;34m\u001b[0m\u001b[0m\n\u001b[0m\u001b[1;32m   4328\u001b[0m \u001b[0;34m\u001b[0m\u001b[0m\n\u001b[1;32m   4329\u001b[0m         \u001b[0;32mreturn\u001b[0m \u001b[0mcollection\u001b[0m\u001b[0;34m\u001b[0m\u001b[0;34m\u001b[0m\u001b[0m\n",
      "\u001b[0;32m~/.pyenv/versions/anaconda3-5.3.1/envs/py37/lib/python3.7/site-packages/matplotlib/axes/_base.py\u001b[0m in \u001b[0;36mautoscale_view\u001b[0;34m(self, tight, scalex, scaley)\u001b[0m\n\u001b[1;32m   2425\u001b[0m         \u001b[0;32mif\u001b[0m \u001b[0mself\u001b[0m\u001b[0;34m.\u001b[0m\u001b[0muse_sticky_edges\u001b[0m \u001b[0;32mand\u001b[0m \u001b[0;34m(\u001b[0m\u001b[0mself\u001b[0m\u001b[0;34m.\u001b[0m\u001b[0m_xmargin\u001b[0m \u001b[0;32mor\u001b[0m \u001b[0mself\u001b[0m\u001b[0;34m.\u001b[0m\u001b[0m_ymargin\u001b[0m\u001b[0;34m)\u001b[0m\u001b[0;34m:\u001b[0m\u001b[0;34m\u001b[0m\u001b[0;34m\u001b[0m\u001b[0m\n\u001b[1;32m   2426\u001b[0m             \u001b[0mstickies\u001b[0m \u001b[0;34m=\u001b[0m \u001b[0;34m[\u001b[0m\u001b[0martist\u001b[0m\u001b[0;34m.\u001b[0m\u001b[0msticky_edges\u001b[0m \u001b[0;32mfor\u001b[0m \u001b[0martist\u001b[0m \u001b[0;32min\u001b[0m \u001b[0mself\u001b[0m\u001b[0;34m.\u001b[0m\u001b[0mget_children\u001b[0m\u001b[0;34m(\u001b[0m\u001b[0;34m)\u001b[0m\u001b[0;34m]\u001b[0m\u001b[0;34m\u001b[0m\u001b[0;34m\u001b[0m\u001b[0m\n\u001b[0;32m-> 2427\u001b[0;31m             \u001b[0mx_stickies\u001b[0m \u001b[0;34m=\u001b[0m \u001b[0msum\u001b[0m\u001b[0;34m(\u001b[0m\u001b[0;34m[\u001b[0m\u001b[0msticky\u001b[0m\u001b[0;34m.\u001b[0m\u001b[0mx\u001b[0m \u001b[0;32mfor\u001b[0m \u001b[0msticky\u001b[0m \u001b[0;32min\u001b[0m \u001b[0mstickies\u001b[0m\u001b[0;34m]\u001b[0m\u001b[0;34m,\u001b[0m \u001b[0;34m[\u001b[0m\u001b[0;34m]\u001b[0m\u001b[0;34m)\u001b[0m\u001b[0;34m\u001b[0m\u001b[0;34m\u001b[0m\u001b[0m\n\u001b[0m\u001b[1;32m   2428\u001b[0m             \u001b[0my_stickies\u001b[0m \u001b[0;34m=\u001b[0m \u001b[0msum\u001b[0m\u001b[0;34m(\u001b[0m\u001b[0;34m[\u001b[0m\u001b[0msticky\u001b[0m\u001b[0;34m.\u001b[0m\u001b[0my\u001b[0m \u001b[0;32mfor\u001b[0m \u001b[0msticky\u001b[0m \u001b[0;32min\u001b[0m \u001b[0mstickies\u001b[0m\u001b[0;34m]\u001b[0m\u001b[0;34m,\u001b[0m \u001b[0;34m[\u001b[0m\u001b[0;34m]\u001b[0m\u001b[0;34m)\u001b[0m\u001b[0;34m\u001b[0m\u001b[0;34m\u001b[0m\u001b[0m\n\u001b[1;32m   2429\u001b[0m             \u001b[0;32mif\u001b[0m \u001b[0mself\u001b[0m\u001b[0;34m.\u001b[0m\u001b[0mget_xscale\u001b[0m\u001b[0;34m(\u001b[0m\u001b[0;34m)\u001b[0m\u001b[0;34m.\u001b[0m\u001b[0mlower\u001b[0m\u001b[0;34m(\u001b[0m\u001b[0;34m)\u001b[0m \u001b[0;34m==\u001b[0m \u001b[0;34m'log'\u001b[0m\u001b[0;34m:\u001b[0m\u001b[0;34m\u001b[0m\u001b[0;34m\u001b[0m\u001b[0m\n",
      "\u001b[0;32m~/.pyenv/versions/anaconda3-5.3.1/envs/py37/lib/python3.7/site-packages/matplotlib/axes/_base.py\u001b[0m in \u001b[0;36m<listcomp>\u001b[0;34m(.0)\u001b[0m\n\u001b[1;32m   2425\u001b[0m         \u001b[0;32mif\u001b[0m \u001b[0mself\u001b[0m\u001b[0;34m.\u001b[0m\u001b[0muse_sticky_edges\u001b[0m \u001b[0;32mand\u001b[0m \u001b[0;34m(\u001b[0m\u001b[0mself\u001b[0m\u001b[0;34m.\u001b[0m\u001b[0m_xmargin\u001b[0m \u001b[0;32mor\u001b[0m \u001b[0mself\u001b[0m\u001b[0;34m.\u001b[0m\u001b[0m_ymargin\u001b[0m\u001b[0;34m)\u001b[0m\u001b[0;34m:\u001b[0m\u001b[0;34m\u001b[0m\u001b[0;34m\u001b[0m\u001b[0m\n\u001b[1;32m   2426\u001b[0m             \u001b[0mstickies\u001b[0m \u001b[0;34m=\u001b[0m \u001b[0;34m[\u001b[0m\u001b[0martist\u001b[0m\u001b[0;34m.\u001b[0m\u001b[0msticky_edges\u001b[0m \u001b[0;32mfor\u001b[0m \u001b[0martist\u001b[0m \u001b[0;32min\u001b[0m \u001b[0mself\u001b[0m\u001b[0;34m.\u001b[0m\u001b[0mget_children\u001b[0m\u001b[0;34m(\u001b[0m\u001b[0;34m)\u001b[0m\u001b[0;34m]\u001b[0m\u001b[0;34m\u001b[0m\u001b[0;34m\u001b[0m\u001b[0m\n\u001b[0;32m-> 2427\u001b[0;31m             \u001b[0mx_stickies\u001b[0m \u001b[0;34m=\u001b[0m \u001b[0msum\u001b[0m\u001b[0;34m(\u001b[0m\u001b[0;34m[\u001b[0m\u001b[0msticky\u001b[0m\u001b[0;34m.\u001b[0m\u001b[0mx\u001b[0m \u001b[0;32mfor\u001b[0m \u001b[0msticky\u001b[0m \u001b[0;32min\u001b[0m \u001b[0mstickies\u001b[0m\u001b[0;34m]\u001b[0m\u001b[0;34m,\u001b[0m \u001b[0;34m[\u001b[0m\u001b[0;34m]\u001b[0m\u001b[0;34m)\u001b[0m\u001b[0;34m\u001b[0m\u001b[0;34m\u001b[0m\u001b[0m\n\u001b[0m\u001b[1;32m   2428\u001b[0m             \u001b[0my_stickies\u001b[0m \u001b[0;34m=\u001b[0m \u001b[0msum\u001b[0m\u001b[0;34m(\u001b[0m\u001b[0;34m[\u001b[0m\u001b[0msticky\u001b[0m\u001b[0;34m.\u001b[0m\u001b[0my\u001b[0m \u001b[0;32mfor\u001b[0m \u001b[0msticky\u001b[0m \u001b[0;32min\u001b[0m \u001b[0mstickies\u001b[0m\u001b[0;34m]\u001b[0m\u001b[0;34m,\u001b[0m \u001b[0;34m[\u001b[0m\u001b[0;34m]\u001b[0m\u001b[0;34m)\u001b[0m\u001b[0;34m\u001b[0m\u001b[0;34m\u001b[0m\u001b[0m\n\u001b[1;32m   2429\u001b[0m             \u001b[0;32mif\u001b[0m \u001b[0mself\u001b[0m\u001b[0;34m.\u001b[0m\u001b[0mget_xscale\u001b[0m\u001b[0;34m(\u001b[0m\u001b[0;34m)\u001b[0m\u001b[0;34m.\u001b[0m\u001b[0mlower\u001b[0m\u001b[0;34m(\u001b[0m\u001b[0;34m)\u001b[0m \u001b[0;34m==\u001b[0m \u001b[0;34m'log'\u001b[0m\u001b[0;34m:\u001b[0m\u001b[0;34m\u001b[0m\u001b[0;34m\u001b[0m\u001b[0m\n",
      "\u001b[0;31mKeyboardInterrupt\u001b[0m: "
     ]
    }
   ],
   "source": [
    "\n",
    "\n",
    "fig = plt.figure()\n",
    "ax = plt.axes()\n",
    "ax.set_aspect(\"equal\")\n",
    "for point in points:\n",
    "    ax.scatter(point[0], point[1], c=\"green\", s=2)\n",
    "ax.scatter(p[0], p[1], c=\"red\")\n",
    "ax.scatter(nearest[0], nearest[1], c=\"blue\", s=2)\n",
    "\n",
    "for member in cluster_points:\n",
    "    ax.scatter(member[0],member[1], c=\"red\", s=2)\n",
    "    #circle = patches.Ellipse(xy=(member[0], member[1]), width=5, height=5, ec=\"blue\", fill=False)\n",
    "    #ax.add_patch(circle)\n",
    "\n",
    "eps = patches.Ellipse(xy=(p[0], p[1]), width = 2*epsilon, height=2*epsilon, ec=\"red\", fill=False, linewidth=1)\n",
    "ax.add_patch(eps)"
   ]
  },
  {
   "cell_type": "code",
   "execution_count": 226,
   "metadata": {},
   "outputs": [
    {
     "output_type": "execute_result",
     "data": {
      "text/plain": "[27.92804823666647, 27.048937766633614]"
     },
     "metadata": {},
     "execution_count": 226
    }
   ],
   "source": [
    "nearest = KdtreeClosestPoint(kdtree, p)\n",
    "nearest"
   ]
  },
  {
   "cell_type": "code",
   "execution_count": null,
   "metadata": {
    "scrolled": true
   },
   "outputs": [],
   "source": [
    "fig"
   ]
  },
  {
   "cell_type": "code",
   "execution_count": 191,
   "metadata": {},
   "outputs": [],
   "source": [
    "plt.show()"
   ]
  },
  {
   "cell_type": "code",
   "execution_count": 220,
   "metadata": {},
   "outputs": [
    {
     "output_type": "execute_result",
     "data": {
      "text/plain": "150751.68975196988"
     },
     "metadata": {},
     "execution_count": 220
    }
   ],
   "source": [
    "\n",
    "start = 150000\n",
    "result = start\n",
    "def ri( start, riri):\n",
    "    return(start * (1 + riri))\n",
    "\n",
    "for i in range(10):\n",
    "    result = ri(result, 0.0005)\n",
    "result"
   ]
  },
  {
   "cell_type": "code",
   "execution_count": 59,
   "metadata": {},
   "outputs": [
    {
     "output_type": "execute_result",
     "data": {
      "text/plain": "0.017453292519943295"
     },
     "metadata": {},
     "execution_count": 59
    }
   ],
   "source": [
    "math.pi / 180"
   ]
  },
  {
   "cell_type": "code",
   "execution_count": 60,
   "metadata": {},
   "outputs": [],
   "source": [
    "ang = 0.1 * math.pi / 180 "
   ]
  },
  {
   "cell_type": "code",
   "execution_count": 61,
   "metadata": {},
   "outputs": [
    {
     "output_type": "execute_result",
     "data": {
      "text/plain": "0.10471986145132803"
     },
     "metadata": {},
     "execution_count": 61
    }
   ],
   "source": [
    "60 * math.tan(ang)"
   ]
  },
  {
   "cell_type": "code",
   "execution_count": null,
   "metadata": {},
   "outputs": [],
   "source": []
  }
 ],
 "metadata": {
  "kernelspec": {
   "display_name": "Python 3",
   "language": "python",
   "name": "python3"
  },
  "language_info": {
   "codemirror_mode": {
    "name": "ipython",
    "version": 3
   },
   "file_extension": ".py",
   "mimetype": "text/x-python",
   "name": "python",
   "nbconvert_exporter": "python",
   "pygments_lexer": "ipython3",
   "version": "3.7.3-final"
  }
 },
 "nbformat": 4,
 "nbformat_minor": 2
}