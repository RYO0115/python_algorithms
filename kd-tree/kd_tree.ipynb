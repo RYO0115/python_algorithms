{
 "cells": [
  {
   "cell_type": "code",
   "execution_count": 21,
   "metadata": {
    "collapsed": true
   },
   "outputs": [],
   "source": [
    "import math\n",
    "import xml.etree.ElementTree as etree\n",
    "import random\n",
    "import pprint"
   ]
  },
  {
   "cell_type": "code",
   "execution_count": 22,
   "metadata": {
    "collapsed": true
   },
   "outputs": [],
   "source": [
    "class Point:\n",
    "    def __init__(self):\n",
    "        self.x = None\n",
    "        self.y = None\n",
    "        self.z = None\n",
    "\n",
    "        self.id = None"
   ]
  },
  {
   "cell_type": "code",
   "execution_count": 23,
   "metadata": {
    "collapsed": true
   },
   "outputs": [],
   "source": [
    "\n",
    "\n",
    "pp = pprint.PrettyPrinter(indent=4)\n",
    "\n",
    "def Distance(point1, point2):\n",
    "    x1, y1 = point1\n",
    "    x2, y2 = point2\n",
    "\n",
    "    dx = x1 - x2\n",
    "    dy = y1 - y2\n",
    "    \n",
    "    return(math.sqrt(dx * dx + dy * dy))\n",
    "\n",
    "def ClosestPoint(all_points, new_point):\n",
    "    best_point = None\n",
    "    best_distance = None\n",
    "\n",
    "    for current_point in all_points:\n",
    "        current_distance = Distance(new_point, current_point)\n",
    "        if best_distance == None or current_distance < best_distance:\n",
    "            best_distance = current_distance\n",
    "            best_point = current_point\n",
    "    \n",
    "    return best_point\n",
    "\n",
    "k = 2 \n",
    "def BuildKdtree(points, depth=0):\n",
    "    n = len(points)\n",
    "\n",
    "    if n<= 0:\n",
    "        return None\n",
    "    \n",
    "    axis = depth % k\n",
    "\n",
    "    sorted_points = sorted(points, key= lambda point: point[axis])\n",
    "\n",
    "    return({\n",
    "        \"point\": sorted_points[ (int)(n / 2)][:k],\n",
    "        \"left\":  BuildKdtree(sorted_points[:(int)(n/2)], depth+1),\n",
    "        \"right\": BuildKdtree(sorted_points[(int)(n/2) + 1:], depth+1),\n",
    "        \"classified\": -1\n",
    "    })\n",
    "\n",
    "def KdtreeNaiveClosestPoint( root, point, depth=0, best=None):\n",
    "    if root is None:\n",
    "        return best\n",
    "    \n",
    "    axis = depth % k\n",
    " \n",
    "    next_best = None\n",
    "    next_branch = None\n",
    "    if best is None or Distance(point, best) > Distance(point, root[\"point\"]):\n",
    "        next_best = root[\"point\"]\n",
    "    else:\n",
    "        next_best = best\n",
    "    \n",
    "    if point[axis] < root[\"point\"][axis]:\n",
    "        next_branch = root[\"left\"]\n",
    "    else:\n",
    "        next_branch = root[\"right\"]\n",
    "    \n",
    "    return(KdtreeNaiveClosestPoint(next_branch, point, depth+1, best = next_best))\n",
    "\n",
    "def CloserDistance( pivot, p1, p2):\n",
    "    if p1 is None:\n",
    "        return(p2)\n",
    "    if p2 is None:\n",
    "        return(p1)\n",
    "    \n",
    "    d1 = Distance(p1, pivot)\n",
    "    d2 = Distance(p2, pivot)\n",
    "    \n",
    "    if d1 < d2:\n",
    "        return(p1)\n",
    "    else:\n",
    "        return(p2)\n",
    "\n",
    "def KdtreeClosestPoint( root, point, depth=0):\n",
    "    if root is None:\n",
    "        return (None)\n",
    "    \n",
    "    axis = depth % k \n",
    "    next_branch = None\n",
    "    opposite_branch = None\n",
    "\n",
    "    if point[axis] < root[\"point\"][axis]:\n",
    "        next_branch = root[\"left\"]\n",
    "        opposite_branch = root[\"right\"]\n",
    "    else:\n",
    "        next_branch = root[\"right\"]\n",
    "        opposite_branch = root[\"left\"]\n",
    "    \n",
    "    #print(\"depth:\",depth, \" p1:\", point)\n",
    "    \n",
    "    best = CloserDistance(point,\n",
    "                        KdtreeClosestPoint(next_branch, point, depth + 1),\n",
    "                        root[\"point\"])\n",
    "\n",
    "    if Distance(point, best) > abs(point[axis] - root[\"point\"][axis]):\n",
    "        best = CloserDistance(point,\n",
    "                                KdtreeClosestPoint(opposite_branch, point, depth+1),\n",
    "                                best)\n",
    "\n",
    "    return(best)\n",
    "\n",
    "\n",
    "def KdtreeRangeSearch( root, point, depth=0, epsilon=1.0):\n",
    "    if root is None:\n",
    "        return(None)\n",
    "    \n",
    "    \n",
    "    axis = depth % k\n",
    "    next_branch = None\n",
    "    opposite_branch = None\n",
    "    \n",
    "    points = []\n",
    "    \n",
    "    if root[\"classified\"] == -1 and Distance(point, root[\"point\"]) <= epsilon:\n",
    "        #print(\"Member\")\n",
    "        points.append(root[\"point\"])\n",
    "    \n",
    "    if point[axis] < root[\"point\"][axis]:\n",
    "        next_branch = root[\"left\"]\n",
    "        opposite_branch = root[\"right\"]\n",
    "    else:\n",
    "        next_branch = root[\"right\"]\n",
    "        opposite_branch = root[\"left\"]\n",
    "\n",
    "\n",
    "    #print(\"Depth>>\", depth)\n",
    "    #if root[\"right\"] is not None:\n",
    "    ##    print(\"right>>\", root[\"right\"][\"point\"])\n",
    "    #if root[\"left\"] is not None:\n",
    "    #    print(\"left>>\", root[\"left\"][\"point\"])\n",
    "    #if next_branch is not None:\n",
    "    #    print(\"Next>>\", next_branch[\"point\"])\n",
    "\n",
    "\n",
    "    \n",
    "    # 近い側のブランチの探索\n",
    "    #print(\"Near Branch\")\n",
    "    new_points = KdtreeRangeSearch( next_branch, point, depth + 1, epsilon)\n",
    "    if new_points is not None:\n",
    "        points.extend(new_points)\n",
    "    \n",
    "    # 遠い側のブランチの探索\n",
    "    #print(\"Opposite Branch\")\n",
    "    if opposite_branch is not None:\n",
    "        #print(opposite_branch[\"point\"])\n",
    "        #print(point[axis] - opposite_branch[\"point\"][axis])\n",
    "        if math.fabs(point[axis] - root[\"point\"][axis]) <= epsilon:\n",
    "            new_points = KdtreeRangeSearch( opposite_branch, point, depth + 1, epsilon)\n",
    "            if new_points is not None:\n",
    "                points.extend(new_points)\n",
    "    \n",
    "\n",
    "    return(points)\n",
    "    \n"
   ]
  },
  {
   "cell_type": "code",
   "execution_count": 24,
   "metadata": {
    "collapsed": true
   },
   "outputs": [],
   "source": [
    "class RayCasting:\n",
    "    def __init__(self, range_min_th, range_max_th, range_resolution, angle_min, angle_max, angle_resolution):\n",
    "\n",
    "                         \n",
    "        self.__lookuptable  =   None\n",
    "        self.ray_line_num     =   None\n",
    "        self.single_ray_point_num     = None\n",
    "\n",
    "        self.__range_max_th = None\n",
    "        self.__range_min_th = None\n",
    "        self.__range_res    = None\n",
    "\n",
    "        self.__angle_max    = None\n",
    "        self.__angle_min    = None\n",
    "        self.__angle_res    = None\n",
    "        \n",
    "        self.ChangeRangeParam( range_min_th, range_max_th, range_resolution)\n",
    "        self.ChangeAngleParam( angle_min, angle_max, angle_resolution)\n",
    "        \n",
    "        self.CreateLookUpTable()\n",
    "        \n",
    "\n",
    "    def ChangeRangeParam(self, range_min_th, range_max_th, range_resolution):\n",
    "        self.__range_min_th = range_min_th\n",
    "        self.__range_max_th = range_max_th\n",
    "        self.__range_res    = range_resolution\n",
    "\n",
    "        print(\"Range Param\")\n",
    "        print(self.__range_min_th, self.__range_max_th, self.__range_res)\n",
    "        \n",
    "    def ChangeAngleParam(self, angle_min, angle_max, angle_resolution):\n",
    "        deg2rad = 1.0\n",
    "        if angle_min > 1.57 or angle_max > 1.57:\n",
    "            deg2rad = math.pi / 180.0\n",
    "\n",
    "        self.__angle_min    = deg2rad * angle_min\n",
    "        self.__angle_max    = deg2rad * angle_max\n",
    "        self.__angle_res    = deg2rad * angle_resolution\n",
    "        print(\"Angle Param\")\n",
    "        print(self.__angle_min, self.__angle_max, self.__angle_res)\n",
    "        \n",
    "        \n",
    "    def CreateLookUpTable(self):\n",
    "        print(\"Angle Param\")\n",
    "        print(self.__angle_min, self.__angle_max, self.__angle_res)\n",
    "        print(\"Range Param\")\n",
    "        print(self.__range_min_th, self.__range_max_th, self.__range_res)\n",
    "        \n",
    "        self.ray_line_num            = (int) ( (self.__angle_max - self.__angle_min) / self.__angle_res )\n",
    "        self.single_ray_point_num    = (int) ( (self.__range_max_th - self.__range_min_th) / self.__range_res)\n",
    "\n",
    "        #line = [[ 0.0, 0.0, 0.0] for i in range(self.single_ray_point_num)]\n",
    "        point_range = self.__range_min_th\n",
    "        p = [ 0.0, 0.0, 0.0]\n",
    "        \n",
    "        range_list = []\n",
    "        self.single_ray_point_num = 0\n",
    "        while point_range < self.__range_max_th:\n",
    "            #p[0] = point_range \n",
    "            #p[2] = point_range * math.tan(self.__angle_res * 0.5)\n",
    "            range_list.append([point_range, point_range * math.tan(self.__angle_res * 0.5)])\n",
    "            point_range += point_range * math.tan( self.__angle_res)\n",
    "            self.single_ray_point_num += 1\n",
    "        \n",
    "        #for i in range(self.single_ray_point_num):\n",
    "        #    point_range = self.__range_min_th + self.__range_res * i\n",
    "        #    line[i][2] = point_range * math.tan(self.__angle_res * 0.5)\n",
    "\n",
    "        #self.__lookuptable = [line for i in range(self.ray_line_num)]\n",
    "\n",
    "\n",
    "        point_range = None\n",
    "        self.__lookuptable = []\n",
    "        for i in range(self.ray_line_num):\n",
    "            ang = self.__angle_min + self.__angle_res * i\n",
    "            line = []\n",
    "            #for j in range(self.single_ray_point_num):\n",
    "            for j in range(len(range_list)):\n",
    "                #point_range = self.__range_min_th + self.__range_res * j\n",
    "                #point_range = l[j][0]\n",
    "                #l[j][0] = point_range * math.cos(ang)\n",
    "                #l[j][1] = point_range * math.sin(ang)\n",
    "                p = []\n",
    "                x = range_list[j][0] * math.cos(ang)\n",
    "                y = range_list[j][0] * math.sin(ang)\n",
    "                p = [ x, y, range_list[j][1]]\n",
    "                line.append( p )\n",
    "                #self.__lookuptable[i][j][0] = point_range * math.cos(ang)\n",
    "                #self.__lookuptable[i][j][1] = point_range * math.sin(ang)\n",
    "                #self.__lookuptable[i][j][2] = point_range * math.tan(self.__angle_res * 0.5)\n",
    "                #print( point_range, \":\", self.__lookuptable[i][j][2])\n",
    "            self.__lookuptable.append(line)\n",
    "\n",
    "        #for i in range(self.ray_line_num):\n",
    "        #    for j in range(len(self.__lookuptable[i])):\n",
    "        #        print(self.__lookuptable[i][j])\n",
    "        \n",
    "    def Run( self, kdtree):\n",
    "        nearest_points = []\n",
    "        for i in range(self.ray_line_num):\n",
    "            p = None\n",
    "            for j in range(self.single_ray_point_num):\n",
    "                p = KdtreeClosestPoint( kdtree,  self.__lookuptable[i][j][:2], 0)\n",
    "                dist = Distance( self.__lookuptable[i][j][:2], p)\n",
    "                #print(i,\",\",j,\",\",self.__lookuptable[i][j], \":::: dist=\",dist)\n",
    "                \n",
    "                if dist < self.__lookuptable[i][j][2]:\n",
    "                    nearest_points.append(p)\n",
    "            if p == None:\n",
    "                nearest_points.append(self.__lookuptable[i][self.range_ray_point_num - 1][:2])\n",
    "        return(nearest_points)"
   ]
  },
  {
   "cell_type": "code",
   "execution_count": 37,
   "metadata": {
    "collapsed": true
   },
   "outputs": [],
   "source": [
    "\n",
    "\n",
    "points = [[random.uniform(0,100), random.uniform(-50,50), i] for i in range(100)]\n",
    "\n",
    "#points[5][0] = points[6][0]\n",
    "#points[7][1] = points[8][1]\n"
   ]
  },
  {
   "cell_type": "code",
   "execution_count": 38,
   "metadata": {
    "collapsed": true
   },
   "outputs": [],
   "source": [
    "kdtree = BuildKdtree(points, 0)"
   ]
  },
  {
   "cell_type": "code",
   "execution_count": 39,
   "metadata": {
    "collapsed": false
   },
   "outputs": [
    {
     "data": {
      "text/plain": [
       "0.43634338953793944"
      ]
     },
     "execution_count": 39,
     "metadata": {},
     "output_type": "execute_result"
    }
   ],
   "source": [
    "math.tan(0.5 * math.pi / 180.0) * 50"
   ]
  },
  {
   "cell_type": "code",
   "execution_count": 40,
   "metadata": {
    "collapsed": false
   },
   "outputs": [
    {
     "name": "stdout",
     "output_type": "stream",
     "text": [
      "Range Param\n",
      "5 100 1\n",
      "Angle Param\n",
      "-1.5707963267948966 1.5707963267948966 0.008726646259971648\n",
      "Angle Param\n",
      "-1.5707963267948966 1.5707963267948966 0.008726646259971648\n",
      "Range Param\n",
      "5 100 1\n"
     ]
    }
   ],
   "source": [
    "ray_cast = RayCasting( 5, 100, 1, -90, 90, 0.5)"
   ]
  },
  {
   "cell_type": "code",
   "execution_count": 41,
   "metadata": {
    "collapsed": false
   },
   "outputs": [],
   "source": [
    "nn_points = ray_cast.Run(kdtree)"
   ]
  },
  {
   "cell_type": "code",
   "execution_count": 42,
   "metadata": {
    "collapsed": false
   },
   "outputs": [
    {
     "data": {
      "text/plain": [
       "[[1.1374117088137736, -11.52872250113571],\n",
       " [2.6585262616546146, -20.253646346760522],\n",
       " [3.493300507295516, -17.193693059100603],\n",
       " [11.297478497157453, -38.13677783645002],\n",
       " [17.453894880230447, -45.52417479983436],\n",
       " [18.291231295037548, -43.01687864108386],\n",
       " [15.466381229514603, -34.550737086796985],\n",
       " [18.947503702932632, -38.08099131216423],\n",
       " [25.770655395829134, -45.55300545286579],\n",
       " [15.949350743877389, -27.666994130431732],\n",
       " [35.659581092155534, -48.08642003648745],\n",
       " [39.11655371692476, -43.98792184106086],\n",
       " [43.58502743831285, -45.628279412409256],\n",
       " [29.184110282184918, -30.259261770489545],\n",
       " [40.77186319106354, -41.579563532846805],\n",
       " [48.592806606510386, -46.16931299866722],\n",
       " [27.66636267897494, -25.369688130826297],\n",
       " [20.360073735224514, -17.9548814101514],\n",
       " [53.23451911556882, -39.12703044095447],\n",
       " [40.17327332035461, -28.530010509246885],\n",
       " [48.975469381999595, -33.535312749901024],\n",
       " [50.213355651489536, -31.24209178234204],\n",
       " [8.24986069378043, -5.080785513078013],\n",
       " [76.68003735379683, -47.100005043052576],\n",
       " [12.812365341534537, -7.7278721962779215],\n",
       " [85.1230354239491, -48.23044204053182],\n",
       " [44.84356970631189, -22.355252722494846],\n",
       " [81.35510825788816, -38.07846343807788],\n",
       " [81.77993664574021, -37.20277080522663],\n",
       " [43.65646309340089, -19.35655563768868],\n",
       " [79.6832492768002, -28.29231032979479],\n",
       " [72.85638422210324, -24.861484613752683],\n",
       " [71.7615400626617, -20.48132103891368],\n",
       " [29.789332063329187, -8.277684071028816],\n",
       " [80.95443356420073, -22.28522901734952],\n",
       " [80.0190741650187, -18.55504229807704],\n",
       " [89.909710028359, -17.66311300610942],\n",
       " [95.78683329285298, -17.84336184091069],\n",
       " [68.63233724535142, -11.671802569815029],\n",
       " [59.121088337618474, -8.918204874685124],\n",
       " [51.113945424325394, -4.520074061210046],\n",
       " [91.74250246563378, -6.486043752485351],\n",
       " [83.80859531283154, -3.5891324727673393],\n",
       " [98.77730616866246, -4.282874673142636],\n",
       " [68.15178258684206, -1.0645433552719155],\n",
       " [93.68364645725745, -1.5564106248467482],\n",
       " [95.50747396178907, 7.020387510744932],\n",
       " [73.81217810907614, 6.472238611530358],\n",
       " [64.99745246250352, 6.98865033696142],\n",
       " [32.98935819668597, 3.7166311895128175],\n",
       " [30.41065608715726, 4.488107967036747],\n",
       " [87.25064710062911, 12.884234829296851],\n",
       " [71.348839056224, 13.429365389533523],\n",
       " [90.80292275791277, 17.89120057182177],\n",
       " [68.47610465512086, 18.214101232884943],\n",
       " [93.61956895258568, 25.891191678061247],\n",
       " [70.5511730448668, 22.075588317935086],\n",
       " [22.664357802872793, 8.24253789095006],\n",
       " [85.87954943756291, 31.205352935278967],\n",
       " [22.101016507655626, 8.727131426280899],\n",
       " [84.82574599707672, 37.35223627996736],\n",
       " [33.89943625851141, 15.571012336432034],\n",
       " [22.60860489563997, 11.071613198065833],\n",
       " [60.33849769007061, 31.33618907010596],\n",
       " [49.57424663973941, 27.606584227048202],\n",
       " [77.27210993121209, 44.90247028197963],\n",
       " [54.59226548858452, 35.23261815433534],\n",
       " [42.671793175680804, 31.696650589769476],\n",
       " [25.650159781745042, 24.165361483890962],\n",
       " [37.89102173032648, 37.128006506877526],\n",
       " [42.060324924315616, 47.50526081083002],\n",
       " [18.29817582476858, 21.797087522867827],\n",
       " [21.705113822066036, 27.61233241656808],\n",
       " [22.514725833657955, 33.77225854464791],\n",
       " [17.633220300346796, 27.106569528428423],\n",
       " [21.09666147399234, 35.814047870724934],\n",
       " [22.378608439816674, 40.567052309671084],\n",
       " [23.740978545436985, 45.95250342836481],\n",
       " [6.342371128119084, 13.360072413898358],\n",
       " [14.783772745224343, 44.12351785443455],\n",
       " [11.690971872529865, 35.95473507205442],\n",
       " [2.54368246560307, 12.674425248082422],\n",
       " [5.133557615928441, 41.42766852108589],\n",
       " [2.729086567532657, 38.18670921909323]]"
      ]
     },
     "execution_count": 42,
     "metadata": {},
     "output_type": "execute_result"
    }
   ],
   "source": [
    "nn_points"
   ]
  },
  {
   "cell_type": "code",
   "execution_count": 43,
   "metadata": {
    "collapsed": true
   },
   "outputs": [],
   "source": [
    "import time"
   ]
  },
  {
   "cell_type": "code",
   "execution_count": 44,
   "metadata": {
    "collapsed": false,
    "tags": [
     "outputPrepend"
    ]
   },
   "outputs": [
    {
     "name": "stdout",
     "output_type": "stream",
     "text": [
      "0.0009751319885253906\n"
     ]
    }
   ],
   "source": [
    "#pp.pprint(kdtree)\n",
    "p = [ 25, 25]\n",
    "#nearest = kdtree_naive_closest_point(kdtree, p)\n",
    "\n",
    "#nearest = KdTreeClosestPoint(kdtree, p)\n",
    "#nearest\n",
    "epsilon = 10\n",
    "t1 = time.time()\n",
    "cluster_points = KdtreeRangeSearch(kdtree, p, 0, epsilon=epsilon)\n",
    "t2 = time.time()\n",
    "print(t2-t1)"
   ]
  },
  {
   "cell_type": "code",
   "execution_count": 45,
   "metadata": {
    "collapsed": false
   },
   "outputs": [
    {
     "data": {
      "text/plain": [
       "5"
      ]
     },
     "execution_count": 45,
     "metadata": {},
     "output_type": "execute_result"
    }
   ],
   "source": [
    "len(cluster_points)"
   ]
  },
  {
   "cell_type": "code",
   "execution_count": 46,
   "metadata": {
    "collapsed": true
   },
   "outputs": [],
   "source": [
    "import matplotlib.pyplot as plt\n",
    "import matplotlib.patches as patches"
   ]
  },
  {
   "cell_type": "code",
   "execution_count": 47,
   "metadata": {
    "collapsed": false
   },
   "outputs": [
    {
     "data": {
      "image/png": "[encoded data removed]",
      "text/plain": [
       "<Figure size 432x288 with 1 Axes>"
      ]
     },
     "metadata": {
      "needs_background": "light"
     },
     "output_type": "display_data"
    }
   ],
   "source": [
    "fig = plt.figure()\n",
    "ax = plt.axes()\n",
    "\n",
    "#tree = kdtree\n",
    "#depth = 0\n",
    "\n",
    "    \n",
    "\n",
    "\n",
    "for point in points:\n",
    "    ax.scatter(point[0], point[1], c= \"blue\", s=5)\n",
    "\n",
    "for point in nn_points:\n",
    "    ax.scatter(point[0], point[1], c=\"red\", s=2)\n"
   ]
  },
  {
   "cell_type": "code",
   "execution_count": 48,
   "metadata": {
    "collapsed": false
   },
   "outputs": [
    {
     "data": {
      "text/plain": [
       "<matplotlib.patches.Ellipse at 0x23f2702b970>"
      ]
     },
     "execution_count": 48,
     "metadata": {},
     "output_type": "execute_result"
    },
    {
     "data": {
      "image/png": "[encoded data removed]",
      "text/plain": [
       "<Figure size 432x288 with 1 Axes>"
      ]
     },
     "metadata": {
      "needs_background": "light"
     },
     "output_type": "display_data"
    }
   ],
   "source": [
    "\n",
    "nearest = KdtreeClosestPoint(kdtree, p)\n",
    "nearest\n",
    "\n",
    "fig = plt.figure()\n",
    "ax = plt.axes()\n",
    "ax.set_aspect(\"equal\")\n",
    "for point in points:\n",
    "    ax.scatter(point[0], point[1], c=\"green\", s=2)\n",
    "ax.scatter(p[0], p[1], c=\"red\")\n",
    "ax.scatter(nearest[0], nearest[1], c=\"blue\", s=2)\n",
    "\n",
    "for member in cluster_points:\n",
    "    ax.scatter(member[0],member[1], c=\"red\", s=2)\n",
    "    #circle = patches.Ellipse(xy=(member[0], member[1]), width=5, height=5, ec=\"blue\", fill=False)\n",
    "    #ax.add_patch(circle)\n",
    "\n",
    "eps = patches.Ellipse(xy=(p[0], p[1]), width = 2*epsilon, height=2*epsilon, ec=\"red\", fill=False, linewidth=1)\n",
    "ax.add_patch(eps)"
   ]
  },
  {
   "cell_type": "code",
   "execution_count": null,
   "metadata": {},
   "outputs": [],
   "source": []
  }
 ],
 "metadata": {
  "kernelspec": {
   "display_name": "Python 3.10.5 64-bit ('3.10.5')",
   "language": "python",
   "name": "python3"
  },
  "language_info": {
   "codemirror_mode": {
    "name": "ipython",
    "version": 3
   },
   "file_extension": ".py",
   "mimetype": "text/x-python",
   "name": "python",
   "nbconvert_exporter": "python",
   "pygments_lexer": "ipython3",
   "version": "3.10.5"
  },
  "vscode": {
   "interpreter": {
    "hash": "3179f89956a94b87ab3f2bd89a54073c7185ac722f8ca4764c60851b1b34a510"
   }
  }
 },
 "nbformat": 4,
 "nbformat_minor": 2
}
