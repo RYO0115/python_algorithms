{
 "cells": [
  {
   "cell_type": "code",
   "execution_count": 1,
   "metadata": {
    "collapsed": true
   },
   "outputs": [],
   "source": [
    "import math\n",
    "import xml.etree.ElementTree as etree\n",
    "import random\n",
    "import pprint"
   ]
  },
  {
   "cell_type": "code",
   "execution_count": 2,
   "metadata": {
    "collapsed": true
   },
   "outputs": [],
   "source": [
    "import matplotlib.pyplot as plt\n",
    "import matplotlib.patches as patches"
   ]
  },
  {
   "cell_type": "code",
   "execution_count": 3,
   "metadata": {
    "collapsed": true
   },
   "outputs": [],
   "source": [
    "class Point:\n",
    "    def __init__(self):\n",
    "        self.x = None\n",
    "        self.y = None\n",
    "        self.z = None\n",
    "\n",
    "        self.id = None"
   ]
  },
  {
   "cell_type": "code",
   "execution_count": 4,
   "metadata": {
    "collapsed": true
   },
   "outputs": [],
   "source": [
    "\n",
    "\n",
    "pp = pprint.PrettyPrinter(indent=4)\n",
    "\n",
    "def Distance(point1, point2):\n",
    "    x1, y1 = point1\n",
    "    x2, y2 = point2\n",
    "\n",
    "    dx = x1 - x2\n",
    "    dy = y1 - y2\n",
    "    \n",
    "    return(math.sqrt(dx * dx + dy * dy))\n",
    "\n",
    "def ClosestPoint(all_points, new_point):\n",
    "    best_point = None\n",
    "    best_distance = None\n",
    "\n",
    "    for current_point in all_points:\n",
    "        current_distance = Distance(new_point, current_point)\n",
    "        if best_distance == None or current_distance < best_distance:\n",
    "            best_distance = current_distance\n",
    "            best_point = current_point\n",
    "    \n",
    "    return best_point\n",
    "\n",
    "k = 2 \n",
    "def BuildKdtree(points, depth=0):\n",
    "    n = len(points)\n",
    "\n",
    "    if n<= 0:\n",
    "        return None\n",
    "    \n",
    "    axis = depth % k\n",
    "\n",
    "    sorted_points = sorted(points, key= lambda point: point[axis])\n",
    "\n",
    "    return({\n",
    "        \"point\": sorted_points[ (int)(n / 2)][:k],\n",
    "        \"left\":  BuildKdtree(sorted_points[:(int)(n/2)], depth+1),\n",
    "        \"right\": BuildKdtree(sorted_points[(int)(n/2) + 1:], depth+1),\n",
    "        \"classified\": -1\n",
    "    })\n",
    "\n",
    "def KdtreeNaiveClosestPoint( root, point, depth=0, best=None):\n",
    "    if root is None:\n",
    "        return best\n",
    "    \n",
    "    axis = depth % k\n",
    " \n",
    "    next_best = None\n",
    "    next_branch = None\n",
    "    if best is None or Distance(point, best) > Distance(point, root[\"point\"]):\n",
    "        next_best = root[\"point\"]\n",
    "    else:\n",
    "        next_best = best\n",
    "    \n",
    "    if point[axis] < root[\"point\"][axis]:\n",
    "        next_branch = root[\"left\"]\n",
    "    else:\n",
    "        next_branch = root[\"right\"]\n",
    "    \n",
    "    return(KdtreeNaiveClosestPoint(next_branch, point, depth+1, best = next_best))\n",
    "\n",
    "def CloserDistance( pivot, p1, p2):\n",
    "    if p1 is None:\n",
    "        return(p2)\n",
    "    if p2 is None:\n",
    "        return(p1)\n",
    "    \n",
    "    d1 = Distance(p1, pivot)\n",
    "    d2 = Distance(p2, pivot)\n",
    "    \n",
    "    if d1 < d2:\n",
    "        return(p1)\n",
    "    else:\n",
    "        return(p2)\n",
    "\n",
    "def KdtreeClosestPoint( root, point, depth=0):\n",
    "    if root is None:\n",
    "        return (None)\n",
    "    \n",
    "    axis = depth % k \n",
    "    next_branch = None\n",
    "    opposite_branch = None\n",
    "\n",
    "    if point[axis] < root[\"point\"][axis]:\n",
    "        next_branch = root[\"left\"]\n",
    "        opposite_branch = root[\"right\"]\n",
    "    else:\n",
    "        next_branch = root[\"right\"]\n",
    "        opposite_branch = root[\"left\"]\n",
    "    \n",
    "    #print(\"depth:\",depth, \" p1:\", point)\n",
    "    \n",
    "    best = CloserDistance(point,\n",
    "                        KdtreeClosestPoint(next_branch, point, depth + 1),\n",
    "                        root[\"point\"])\n",
    "\n",
    "    if Distance(point, best) > abs(point[axis] - root[\"point\"][axis]):\n",
    "        best = CloserDistance(point,\n",
    "                                KdtreeClosestPoint(opposite_branch, point, depth+1),\n",
    "                                best)\n",
    "\n",
    "    return(best)\n",
    "\n",
    "\n",
    "def KdtreeRangeSearch( root, point, depth=0, epsilon=1.0):\n",
    "\n",
    "    fig,ax = plt.subplots()\n",
    "\n",
    "    if root is None:\n",
    "        return(None)\n",
    "    \n",
    "    \n",
    "    axis = depth % k\n",
    "    next_branch = None\n",
    "    opposite_branch = None\n",
    "    \n",
    "    points = []\n",
    "    \n",
    "    if root[\"classified\"] == -1 and Distance(point, root[\"point\"]) <= epsilon:\n",
    "        #print(\"Member\")\n",
    "        points.append(root[\"point\"])\n",
    "    \n",
    "    if point[axis] < root[\"point\"][axis]:\n",
    "        next_branch = root[\"left\"]\n",
    "        opposite_branch = root[\"right\"]\n",
    "    else:\n",
    "        next_branch = root[\"right\"]\n",
    "        opposite_branch = root[\"left\"]\n",
    "\n",
    "\n",
    "    #print(\"Depth>>\", depth)\n",
    "    #if root[\"right\"] is not None:\n",
    "    ##    print(\"right>>\", root[\"right\"][\"point\"])\n",
    "    #if root[\"left\"] is not None:\n",
    "    #    print(\"left>>\", root[\"left\"][\"point\"])\n",
    "    #if next_branch is not None:\n",
    "    #    print(\"Next>>\", next_branch[\"point\"])\n",
    "\n",
    "\n",
    "    \n",
    "    # 近い側のブランチの探索\n",
    "    #print(\"Near Branch\")\n",
    "    new_points = KdtreeRangeSearch( next_branch, point, depth + 1, epsilon)\n",
    "    for p in points:\n",
    "        ax.scatter(p[0], p[1], c= \"black\", s=5)\n",
    "\n",
    "    if new_points is not None:\n",
    "        for p in new_points:\n",
    "            ax.scatter(p[0], p[1], c= \"blue\", s=5)\n",
    "        points.extend(new_points)\n",
    "\n",
    "    # 遠い側のブランチの探索\n",
    "    #print(\"Opposite Branch\")\n",
    "    if opposite_branch is not None:\n",
    "        if math.fabs(point[axis] - root[\"point\"][axis]) <= epsilon:\n",
    "            new_points = KdtreeRangeSearch( opposite_branch, point, depth + 1, epsilon)\n",
    "\n",
    "            if new_points is not None:\n",
    "                for p in new_points:\n",
    "                    ax.scatter(p[0], p[1], c= \"red\", s=5)\n",
    "                points.extend(new_points)\n",
    "    \n",
    "\n",
    "    return(points)\n",
    "    \n"
   ]
  },
  {
   "cell_type": "code",
   "execution_count": 5,
   "metadata": {
    "collapsed": true
   },
   "outputs": [],
   "source": [
    "class RayCasting:\n",
    "    def __init__(self, range_min_th, range_max_th, range_resolution, angle_min, angle_max, angle_resolution):\n",
    "\n",
    "                         \n",
    "        self.__lookuptable  =   None\n",
    "        self.ray_line_num     =   None\n",
    "        self.single_ray_point_num     = None\n",
    "\n",
    "        self.__range_max_th = None\n",
    "        self.__range_min_th = None\n",
    "        self.__range_res    = None\n",
    "\n",
    "        self.__angle_max    = None\n",
    "        self.__angle_min    = None\n",
    "        self.__angle_res    = None\n",
    "        \n",
    "        self.ChangeRangeParam( range_min_th, range_max_th, range_resolution)\n",
    "        self.ChangeAngleParam( angle_min, angle_max, angle_resolution)\n",
    "        \n",
    "        self.CreateLookUpTable()\n",
    "        \n",
    "\n",
    "    def ChangeRangeParam(self, range_min_th, range_max_th, range_resolution):\n",
    "        self.__range_min_th = range_min_th\n",
    "        self.__range_max_th = range_max_th\n",
    "        self.__range_res    = range_resolution\n",
    "\n",
    "        print(\"Range Param\")\n",
    "        print(self.__range_min_th, self.__range_max_th, self.__range_res)\n",
    "        \n",
    "    def ChangeAngleParam(self, angle_min, angle_max, angle_resolution):\n",
    "        deg2rad = 1.0\n",
    "        if angle_min > 1.57 or angle_max > 1.57:\n",
    "            deg2rad = math.pi / 180.0\n",
    "\n",
    "        self.__angle_min    = deg2rad * angle_min\n",
    "        self.__angle_max    = deg2rad * angle_max\n",
    "        self.__angle_res    = deg2rad * angle_resolution\n",
    "        print(\"Angle Param\")\n",
    "        print(self.__angle_min, self.__angle_max, self.__angle_res)\n",
    "        \n",
    "        \n",
    "    def CreateLookUpTable(self):\n",
    "        print(\"Angle Param\")\n",
    "        print(self.__angle_min, self.__angle_max, self.__angle_res)\n",
    "        print(\"Range Param\")\n",
    "        print(self.__range_min_th, self.__range_max_th, self.__range_res)\n",
    "        \n",
    "        self.ray_line_num            = (int) ( (self.__angle_max - self.__angle_min) / self.__angle_res )\n",
    "        self.single_ray_point_num    = (int) ( (self.__range_max_th - self.__range_min_th) / self.__range_res)\n",
    "\n",
    "        #line = [[ 0.0, 0.0, 0.0] for i in range(self.single_ray_point_num)]\n",
    "        point_range = self.__range_min_th\n",
    "        p = [ 0.0, 0.0, 0.0]\n",
    "        \n",
    "        range_list = []\n",
    "        self.single_ray_point_num = 0\n",
    "        while point_range < self.__range_max_th:\n",
    "            #p[0] = point_range \n",
    "            #p[2] = point_range * math.tan(self.__angle_res * 0.5)\n",
    "            range_list.append([point_range, point_range * math.tan(self.__angle_res * 0.5)])\n",
    "            point_range += point_range * math.tan( self.__angle_res)\n",
    "            self.single_ray_point_num += 1\n",
    "        \n",
    "        #for i in range(self.single_ray_point_num):\n",
    "        #    point_range = self.__range_min_th + self.__range_res * i\n",
    "        #    line[i][2] = point_range * math.tan(self.__angle_res * 0.5)\n",
    "\n",
    "        #self.__lookuptable = [line for i in range(self.ray_line_num)]\n",
    "\n",
    "\n",
    "        point_range = None\n",
    "        self.__lookuptable = []\n",
    "        for i in range(self.ray_line_num):\n",
    "            ang = self.__angle_min + self.__angle_res * i\n",
    "            line = []\n",
    "            #for j in range(self.single_ray_point_num):\n",
    "            for j in range(len(range_list)):\n",
    "                #point_range = self.__range_min_th + self.__range_res * j\n",
    "                #point_range = l[j][0]\n",
    "                #l[j][0] = point_range * math.cos(ang)\n",
    "                #l[j][1] = point_range * math.sin(ang)\n",
    "                p = []\n",
    "                x = range_list[j][0] * math.cos(ang)\n",
    "                y = range_list[j][0] * math.sin(ang)\n",
    "                p = [ x, y, range_list[j][1]]\n",
    "                line.append( p )\n",
    "                #self.__lookuptable[i][j][0] = point_range * math.cos(ang)\n",
    "                #self.__lookuptable[i][j][1] = point_range * math.sin(ang)\n",
    "                #self.__lookuptable[i][j][2] = point_range * math.tan(self.__angle_res * 0.5)\n",
    "                #print( point_range, \":\", self.__lookuptable[i][j][2])\n",
    "            self.__lookuptable.append(line)\n",
    "\n",
    "        #for i in range(self.ray_line_num):\n",
    "        #    for j in range(len(self.__lookuptable[i])):\n",
    "        #        print(self.__lookuptable[i][j])\n",
    "        \n",
    "    def Run( self, kdtree):\n",
    "        nearest_points = []\n",
    "        for i in range(self.ray_line_num):\n",
    "            p = None\n",
    "            for j in range(self.single_ray_point_num):\n",
    "                p = KdtreeClosestPoint( kdtree,  self.__lookuptable[i][j][:2], 0)\n",
    "                dist = Distance( self.__lookuptable[i][j][:2], p)\n",
    "                #print(i,\",\",j,\",\",self.__lookuptable[i][j], \":::: dist=\",dist)\n",
    "                \n",
    "                if dist < self.__lookuptable[i][j][2]:\n",
    "                    nearest_points.append(p)\n",
    "            if p == None:\n",
    "                nearest_points.append(self.__lookuptable[i][self.range_ray_point_num - 1][:2])\n",
    "        return(nearest_points)"
   ]
  },
  {
   "cell_type": "code",
   "execution_count": 6,
   "metadata": {
    "collapsed": true
   },
   "outputs": [],
   "source": [
    "\n",
    "\n",
    "points = [[random.uniform(0,100), random.uniform(-50,50), i] for i in range(100)]\n",
    "\n",
    "#points[5][0] = points[6][0]\n",
    "#points[7][1] = points[8][1]\n"
   ]
  },
  {
   "cell_type": "code",
   "execution_count": 7,
   "metadata": {
    "collapsed": true
   },
   "outputs": [],
   "source": [
    "kdtree = BuildKdtree(points, 0)"
   ]
  },
  {
   "cell_type": "code",
   "execution_count": 8,
   "metadata": {
    "collapsed": false
   },
   "outputs": [
    {
     "data": {
      "text/plain": [
       "0.43634338953793944"
      ]
     },
     "execution_count": 8,
     "metadata": {},
     "output_type": "execute_result"
    }
   ],
   "source": [
    "math.tan(0.5 * math.pi / 180.0) * 50"
   ]
  },
  {
   "cell_type": "code",
   "execution_count": 9,
   "metadata": {
    "collapsed": false
   },
   "outputs": [
    {
     "name": "stdout",
     "output_type": "stream",
     "text": [
      "Range Param\n",
      "5 100 1\n",
      "Angle Param\n",
      "-1.5707963267948966 1.5707963267948966 0.008726646259971648\n",
      "Angle Param\n",
      "-1.5707963267948966 1.5707963267948966 0.008726646259971648\n",
      "Range Param\n",
      "5 100 1\n"
     ]
    }
   ],
   "source": [
    "ray_cast = RayCasting( 5, 100, 1, -90, 90, 0.5)"
   ]
  },
  {
   "cell_type": "code",
   "execution_count": 10,
   "metadata": {
    "collapsed": false
   },
   "outputs": [],
   "source": [
    "nn_points = ray_cast.Run(kdtree)"
   ]
  },
  {
   "cell_type": "code",
   "execution_count": 11,
   "metadata": {
    "collapsed": false
   },
   "outputs": [
    {
     "data": {
      "text/plain": [
       "[[0.5682700706516441, -6.7589244907020785],\n",
       " [8.00848405170237, -35.96749180023792],\n",
       " [14.512585457988491, -33.619629568962274],\n",
       " [11.562641414243046, -24.734851014852634],\n",
       " [21.998919487962066, -44.45278584439226],\n",
       " [34.189696823194616, -47.020466429176544],\n",
       " [33.69841726077708, -34.7465880265662],\n",
       " [46.111717327758775, -44.85806470488693],\n",
       " [51.96253617656447, -47.3608396476478],\n",
       " [24.167369820008823, -21.409298684467338],\n",
       " [64.25323981997066, -49.12708166848665],\n",
       " [41.37572787854407, -30.22966640231858],\n",
       " [43.48139741863915, -27.87614483126587],\n",
       " [27.819869930851514, -16.715675674077644],\n",
       " [78.16829365367495, -44.984477999262865],\n",
       " [34.329829703814916, -17.846423443724632],\n",
       " [63.13368463002668, -33.05595645765198],\n",
       " [83.92099652914929, -42.507919294863704],\n",
       " [81.7647809096559, -39.97554483965959],\n",
       " [46.971019097196056, -21.70933060443009],\n",
       " [63.579951844525255, -28.457982795282],\n",
       " [69.67399297419796, -30.975364532910188],\n",
       " [73.19748754428673, -29.701576623217118],\n",
       " [39.762293782876434, -14.354099229974537],\n",
       " [88.91292835421284, -28.691937118485267],\n",
       " [80.94004638142115, -25.624983454260995],\n",
       " [35.64163476744719, -7.5628578746230986],\n",
       " [50.495514245679004, -6.645654184462124],\n",
       " [78.64619316428303, -10.58620660875389],\n",
       " [83.73140758942117, -10.58031206865283],\n",
       " [68.25142014810415, -6.63285483806888],\n",
       " [78.50854913738875, -7.594482725912442],\n",
       " [93.89246923477425, -8.276728307863323],\n",
       " [86.0343780140862, -4.357470367787677],\n",
       " [58.703804038767835, -2.0052911852379083],\n",
       " [67.84451290729325, -1.5856334320089047],\n",
       " [83.32024881274812, -1.9733574047722158],\n",
       " [84.69172310183475, -2.2850314687209448],\n",
       " [98.58118578178309, 3.0776168047418224],\n",
       " [71.85270260352347, 4.30219226431624],\n",
       " [85.71320907528805, 6.127142980317579],\n",
       " [86.99216909235791, 6.720990605745193],\n",
       " [38.90075791299365, 3.412733777540801],\n",
       " [82.30335509196797, 9.827689833301044],\n",
       " [87.99559849292434, 12.506602895456695],\n",
       " [48.21648956536031, 7.462872727153211],\n",
       " [94.42283881747016, 15.589124546697505],\n",
       " [54.09421385647403, 10.240947069906014],\n",
       " [60.73176698499275, 12.44956957244041],\n",
       " [94.78901570902389, 18.99651014450545],\n",
       " [90.19112195302569, 22.58645282529052],\n",
       " [37.246135593684556, 10.667147673932561],\n",
       " [77.3997336975008, 25.432568553938864],\n",
       " [90.25041859885631, 30.72242941892253],\n",
       " [92.45781170450165, 37.041001511897335],\n",
       " [87.6337761806546, 36.58229057756486],\n",
       " [51.76929389761412, 22.341350905561413],\n",
       " [83.70311566519692, 39.72687574480011],\n",
       " [36.099250032093146, 17.71968186717534],\n",
       " [51.654867125885204, 26.282934745164937],\n",
       " [88.16456611703337, 45.73458815030524],\n",
       " [71.8262902400895, 38.96355723885921],\n",
       " [24.640351237325643, 14.090582614224871],\n",
       " [51.90786897753923, 29.87339436069216],\n",
       " [66.17434939272022, 38.46430735700231],\n",
       " [32.48717885258243, 20.066627773242885],\n",
       " [62.52789249632301, 39.55531586636458],\n",
       " [67.20772843433366, 43.26376110831637],\n",
       " [23.89650391412792, 15.796178291881802],\n",
       " [52.385293516372755, 39.00893385958568],\n",
       " [30.804539034281, 45.94194126488253],\n",
       " [10.878502060588168, 24.358757746249992],\n",
       " [3.547120614467625, 8.575708702482402],\n",
       " [7.879639848074027, 49.09126689576486]]"
      ]
     },
     "execution_count": 11,
     "metadata": {},
     "output_type": "execute_result"
    }
   ],
   "source": [
    "nn_points"
   ]
  },
  {
   "cell_type": "code",
   "execution_count": 12,
   "metadata": {
    "collapsed": true
   },
   "outputs": [],
   "source": [
    "import time"
   ]
  },
  {
   "cell_type": "code",
   "execution_count": 13,
   "metadata": {
    "collapsed": false,
    "tags": [
     "outputPrepend"
    ]
   },
   "outputs": [
    {
     "name": "stderr",
     "output_type": "stream",
     "text": [
      "C:\\Users\\km70553\\AppData\\Local\\Temp\\ipykernel_17508\\2229216722.py:107: RuntimeWarning: More than 20 figures have been opened. Figures created through the pyplot interface (`matplotlib.pyplot.figure`) are retained until explicitly closed and may consume too much memory. (To control this warning, see the rcParam `figure.max_open_warning`). Consider using `matplotlib.pyplot.close()`.\n",
      "  fig,ax = plt.subplots()\n"
     ]
    },
    {
     "name": "stdout",
     "output_type": "stream",
     "text": [
      "0.3650219440460205\n"
     ]
    },
    {
     "data": {
      "image/png": "[encoded data removed]",
      "text/plain": [
       "<Figure size 432x288 with 1 Axes>"
      ]
     },
     "metadata": {
      "needs_background": "light"
     },
     "output_type": "display_data"
    },
    {
     "data": {
      "image/png": "[encoded data removed]",
      "text/plain": [
       "<Figure size 432x288 with 1 Axes>"
      ]
     },
     "metadata": {
      "needs_background": "light"
     },
     "output_type": "display_data"
    },
    {
     "data": {
      "image/png": "[encoded data removed]",
      "text/plain": [
       "<Figure size 432x288 with 1 Axes>"
      ]
     },
     "metadata": {
      "needs_background": "light"
     },
     "output_type": "display_data"
    },
    {
     "data": {
      "image/png": "[encoded data removed]",
      "text/plain": [
       "<Figure size 432x288 with 1 Axes>"
      ]
     },
     "metadata": {
      "needs_background": "light"
     },
     "output_type": "display_data"
    },
    {
     "data": {
      "image/png": "[encoded data removed]",
      "text/plain": [
       "<Figure size 432x288 with 1 Axes>"
      ]
     },
     "metadata": {
      "needs_background": "light"
     },
     "output_type": "display_data"
    },
    {
     "data": {
      "image/png": "[encoded data removed]",
      "text/plain": [
       "<Figure size 432x288 with 1 Axes>"
      ]
     },
     "metadata": {
      "needs_background": "light"
     },
     "output_type": "display_data"
    },
    {
     "data": {
      "image/png": "[encoded data removed]",
      "text/plain": [
       "<Figure size 432x288 with 1 Axes>"
      ]
     },
     "metadata": {
      "needs_background": "light"
     },
     "output_type": "display_data"
    },
    {
     "data": {
      "image/png": "[encoded data removed]",
      "text/plain": [
       "<Figure size 432x288 with 1 Axes>"
      ]
     },
     "metadata": {
      "needs_background": "light"
     },
     "output_type": "display_data"
    },
    {
     "data": {
      "image/png": "[encoded data removed]",
      "text/plain": [
       "<Figure size 432x288 with 1 Axes>"
      ]
     },
     "metadata": {
      "needs_background": "light"
     },
     "output_type": "display_data"
    },
    {
     "data": {
      "image/png": "[encoded data removed]",
      "text/plain": [
       "<Figure size 432x288 with 1 Axes>"
      ]
     },
     "metadata": {
      "needs_background": "light"
     },
     "output_type": "display_data"
    },
    {
     "data": {
      "image/png": "[encoded data removed]",
      "text/plain": [
       "<Figure size 432x288 with 1 Axes>"
      ]
     },
     "metadata": {
      "needs_background": "light"
     },
     "output_type": "display_data"
    },
    {
     "data": {
      "image/png": "[encoded data removed]",
      "text/plain": [
       "<Figure size 432x288 with 1 Axes>"
      ]
     },
     "metadata": {
      "needs_background": "light"
     },
     "output_type": "display_data"
    },
    {
     "data": {
      "image/png": "[encoded data removed]",
      "text/plain": [
       "<Figure size 432x288 with 1 Axes>"
      ]
     },
     "metadata": {
      "needs_background": "light"
     },
     "output_type": "display_data"
    },
    {
     "data": {
      "image/png": "[encoded data removed]",
      "text/plain": [
       "<Figure size 432x288 with 1 Axes>"
      ]
     },
     "metadata": {
      "needs_background": "light"
     },
     "output_type": "display_data"
    },
    {
     "data": {
      "image/png": "[encoded data removed]",
      "text/plain": [
       "<Figure size 432x288 with 1 Axes>"
      ]
     },
     "metadata": {
      "needs_background": "light"
     },
     "output_type": "display_data"
    },
    {
     "data": {
      "image/png": "[encoded data removed]",
      "text/plain": [
       "<Figure size 432x288 with 1 Axes>"
      ]
     },
     "metadata": {
      "needs_background": "light"
     },
     "output_type": "display_data"
    },
    {
     "data": {
      "image/png": "[encoded data removed]",
      "text/plain": [
       "<Figure size 432x288 with 1 Axes>"
      ]
     },
     "metadata": {
      "needs_background": "light"
     },
     "output_type": "display_data"
    },
    {
     "data": {
      "image/png": "[encoded data removed]",
      "text/plain": [
       "<Figure size 432x288 with 1 Axes>"
      ]
     },
     "metadata": {
      "needs_background": "light"
     },
     "output_type": "display_data"
    },
    {
     "data": {
      "image/png": "[encoded data removed]",
      "text/plain": [
       "<Figure size 432x288 with 1 Axes>"
      ]
     },
     "metadata": {
      "needs_background": "light"
     },
     "output_type": "display_data"
    },
    {
     "data": {
      "image/png": "[encoded data removed]",
      "text/plain": [
       "<Figure size 432x288 with 1 Axes>"
      ]
     },
     "metadata": {
      "needs_background": "light"
     },
     "output_type": "display_data"
    },
    {
     "data": {
      "image/png": "[encoded data removed]",
      "text/plain": [
       "<Figure size 432x288 with 1 Axes>"
      ]
     },
     "metadata": {
      "needs_background": "light"
     },
     "output_type": "display_data"
    },
    {
     "data": {
      "image/png": "[encoded data removed]",
      "text/plain": [
       "<Figure size 432x288 with 1 Axes>"
      ]
     },
     "metadata": {
      "needs_background": "light"
     },
     "output_type": "display_data"
    }
   ],
   "source": [
    "#pp.pprint(kdtree)\n",
    "p = [ 25, 25]\n",
    "#nearest = kdtree_naive_closest_point(kdtree, p)\n",
    "\n",
    "#nearest = KdTreeClosestPoint(kdtree, p)\n",
    "#nearest\n",
    "epsilon = 10\n",
    "t1 = time.time()\n",
    "cluster_points = KdtreeRangeSearch(kdtree, p, 0, epsilon=epsilon)\n",
    "t2 = time.time()\n",
    "print(t2-t1)"
   ]
  },
  {
   "cell_type": "code",
   "execution_count": 14,
   "metadata": {
    "collapsed": false
   },
   "outputs": [
    {
     "data": {
      "text/plain": [
       "3"
      ]
     },
     "execution_count": 14,
     "metadata": {},
     "output_type": "execute_result"
    }
   ],
   "source": [
    "len(cluster_points)"
   ]
  },
  {
   "cell_type": "code",
   "execution_count": 15,
   "metadata": {
    "collapsed": false
   },
   "outputs": [
    {
     "data": {
      "image/png": "[encoded data removed]",
      "text/plain": [
       "<Figure size 432x288 with 1 Axes>"
      ]
     },
     "metadata": {
      "needs_background": "light"
     },
     "output_type": "display_data"
    }
   ],
   "source": [
    "fig = plt.figure()\n",
    "ax = plt.axes()\n",
    "\n",
    "#tree = kdtree\n",
    "#depth = 0\n",
    "\n",
    "    \n",
    "\n",
    "\n",
    "for point in points:\n",
    "    ax.scatter(point[0], point[1], c= \"blue\", s=5)\n",
    "\n",
    "for point in nn_points:\n",
    "    ax.scatter(point[0], point[1], c=\"red\", s=2)\n"
   ]
  },
  {
   "cell_type": "code",
   "execution_count": 16,
   "metadata": {
    "collapsed": false
   },
   "outputs": [
    {
     "data": {
      "text/plain": [
       "<matplotlib.patches.Ellipse at 0x2025c5c5c60>"
      ]
     },
     "execution_count": 16,
     "metadata": {},
     "output_type": "execute_result"
    },
    {
     "data": {
      "image/png": "[encoded data removed]",
      "text/plain": [
       "<Figure size 432x288 with 1 Axes>"
      ]
     },
     "metadata": {
      "needs_background": "light"
     },
     "output_type": "display_data"
    }
   ],
   "source": [
    "\n",
    "nearest = KdtreeClosestPoint(kdtree, p)\n",
    "nearest\n",
    "\n",
    "fig = plt.figure()\n",
    "ax = plt.axes()\n",
    "ax.set_aspect(\"equal\")\n",
    "for point in points:\n",
    "    ax.scatter(point[0], point[1], c=\"green\", s=2)\n",
    "ax.scatter(p[0], p[1], c=\"red\")\n",
    "ax.scatter(nearest[0], nearest[1], c=\"blue\", s=2)\n",
    "\n",
    "for member in cluster_points:\n",
    "    ax.scatter(member[0],member[1], c=\"red\", s=2)\n",
    "    #circle = patches.Ellipse(xy=(member[0], member[1]), width=5, height=5, ec=\"blue\", fill=False)\n",
    "    #ax.add_patch(circle)\n",
    "\n",
    "eps = patches.Ellipse(xy=(p[0], p[1]), width = 2*epsilon, height=2*epsilon, ec=\"red\", fill=False, linewidth=1)\n",
    "ax.add_patch(eps)"
   ]
  },
  {
   "cell_type": "code",
   "execution_count": null,
   "metadata": {},
   "outputs": [],
   "source": []
  }
 ],
 "metadata": {
  "kernelspec": {
   "display_name": "Python 3.10.5 64-bit ('3.10.5')",
   "language": "python",
   "name": "python3"
  },
  "language_info": {
   "codemirror_mode": {
    "name": "ipython",
    "version": 3
   },
   "file_extension": ".py",
   "mimetype": "text/x-python",
   "name": "python",
   "nbconvert_exporter": "python",
   "pygments_lexer": "ipython3",
   "version": "3.10.5"
  },
  "vscode": {
   "interpreter": {
    "hash": "3179f89956a94b87ab3f2bd89a54073c7185ac722f8ca4764c60851b1b34a510"
   }
  }
 },
 "nbformat": 4,
 "nbformat_minor": 2
}
