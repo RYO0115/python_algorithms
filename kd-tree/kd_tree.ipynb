{
 "cells": [
  {
   "cell_type": "code",
   "execution_count": 21,
   "metadata": {
    "collapsed": true
   },
   "outputs": [],
   "source": [
    "import math\n",
    "import xml.etree.ElementTree as etree\n",
    "import random\n",
    "import pprint"
   ]
  },
  {
   "cell_type": "code",
   "execution_count": 22,
   "metadata": {
    "collapsed": true
   },
   "outputs": [],
   "source": [
    "class Point:\n",
    "    def __init__(self):\n",
    "        self.x = None\n",
    "        self.y = None\n",
    "        self.z = None\n",
    "\n",
    "        self.id = None"
   ]
  },
  {
   "cell_type": "code",
   "execution_count": 23,
   "metadata": {
    "collapsed": true
   },
   "outputs": [],
   "source": [
    "\n",
    "\n",
    "pp = pprint.PrettyPrinter(indent=4)\n",
    "\n",
    "def Distance(point1, point2):\n",
    "    x1, y1 = point1\n",
    "    x2, y2 = point2\n",
    "\n",
    "    dx = x1 - x2\n",
    "    dy = y1 - y2\n",
    "    \n",
    "    return(math.sqrt(dx * dx + dy * dy))\n",
    "\n",
    "def ClosestPoint(all_points, new_point):\n",
    "    best_point = None\n",
    "    best_distance = None\n",
    "\n",
    "    for current_point in all_points:\n",
    "        current_distance = Distance(new_point, current_point)\n",
    "        if best_distance == None or current_distance < best_distance:\n",
    "            best_distance = current_distance\n",
    "            best_point = current_point\n",
    "    \n",
    "    return best_point\n",
    "\n",
    "k = 2 \n",
    "def BuildKdtree(points, depth=0):\n",
    "    n = len(points)\n",
    "\n",
    "    if n<= 0:\n",
    "        return None\n",
    "    \n",
    "    axis = depth % k\n",
    "\n",
    "    sorted_points = sorted(points, key= lambda point: point[axis])\n",
    "\n",
    "    return({\n",
    "        \"point\": sorted_points[ (int)(n / 2)][:k],\n",
    "        \"left\":  BuildKdtree(sorted_points[:(int)(n/2)], depth+1),\n",
    "        \"right\": BuildKdtree(sorted_points[(int)(n/2) + 1:], depth+1),\n",
    "        \"classified\": -1\n",
    "    })\n",
    "\n",
    "def KdtreeNaiveClosestPoint( root, point, depth=0, best=None):\n",
    "    if root is None:\n",
    "        return best\n",
    "    \n",
    "    axis = depth % k\n",
    " \n",
    "    next_best = None\n",
    "    next_branch = None\n",
    "    if best is None or Distance(point, best) > Distance(point, root[\"point\"]):\n",
    "        next_best = root[\"point\"]\n",
    "    else:\n",
    "        next_best = best\n",
    "    \n",
    "    if point[axis] < root[\"point\"][axis]:\n",
    "        next_branch = root[\"left\"]\n",
    "    else:\n",
    "        next_branch = root[\"right\"]\n",
    "    \n",
    "    return(KdtreeNaiveClosestPoint(next_branch, point, depth+1, best = next_best))\n",
    "\n",
    "def CloserDistance( pivot, p1, p2):\n",
    "    if p1 is None:\n",
    "        return(p2)\n",
    "    if p2 is None:\n",
    "        return(p1)\n",
    "    \n",
    "    d1 = Distance(p1, pivot)\n",
    "    d2 = Distance(p2, pivot)\n",
    "    \n",
    "    if d1 < d2:\n",
    "        return(p1)\n",
    "    else:\n",
    "        return(p2)\n",
    "\n",
    "def KdtreeClosestPoint( root, point, depth=0):\n",
    "    if root is None:\n",
    "        return (None)\n",
    "    \n",
    "    axis = depth % k \n",
    "    next_branch = None\n",
    "    opposite_branch = None\n",
    "\n",
    "    if point[axis] < root[\"point\"][axis]:\n",
    "        next_branch = root[\"left\"]\n",
    "        opposite_branch = root[\"right\"]\n",
    "    else:\n",
    "        next_branch = root[\"right\"]\n",
    "        opposite_branch = root[\"left\"]\n",
    "    \n",
    "    #print(\"depth:\",depth, \" p1:\", point)\n",
    "    \n",
    "    best = CloserDistance(point,\n",
    "                        KdtreeClosestPoint(next_branch, point, depth + 1),\n",
    "                        root[\"point\"])\n",
    "\n",
    "    if Distance(point, best) > abs(point[axis] - root[\"point\"][axis]):\n",
    "        best = CloserDistance(point,\n",
    "                                KdtreeClosestPoint(opposite_branch, point, depth+1),\n",
    "                                best)\n",
    "\n",
    "    return(best)\n",
    "\n",
    "\n",
    "def KdtreeRangeSearch( root, point, depth=0, epsilon=1.0):\n",
    "    if root is None:\n",
    "        return(None)\n",
    "    \n",
    "    \n",
    "    axis = depth % k\n",
    "    next_branch = None\n",
    "    opposite_branch = None\n",
    "    \n",
    "    points = []\n",
    "    \n",
    "    if root[\"classified\"] == -1 and Distance(point, root[\"point\"]) <= epsilon:\n",
    "        #print(\"Member\")\n",
    "        points.append(root[\"point\"])\n",
    "    \n",
    "    if point[axis] < root[\"point\"][axis]:\n",
    "        next_branch = root[\"left\"]\n",
    "        opposite_branch = root[\"right\"]\n",
    "    else:\n",
    "        next_branch = root[\"right\"]\n",
    "        opposite_branch = root[\"left\"]\n",
    "\n",
    "\n",
    "    #print(\"Depth>>\", depth)\n",
    "    #if root[\"right\"] is not None:\n",
    "    ##    print(\"right>>\", root[\"right\"][\"point\"])\n",
    "    #if root[\"left\"] is not None:\n",
    "    #    print(\"left>>\", root[\"left\"][\"point\"])\n",
    "    #if next_branch is not None:\n",
    "    #    print(\"Next>>\", next_branch[\"point\"])\n",
    "\n",
    "\n",
    "    \n",
    "    # 近い側のブランチの探索\n",
    "    #print(\"Near Branch\")\n",
    "    new_points = KdtreeRangeSearch( next_branch, point, depth + 1, epsilon)\n",
    "    if new_points is not None:\n",
    "        points.extend(new_points)\n",
    "    \n",
    "    # 遠い側のブランチの探索\n",
    "    #print(\"Opposite Branch\")\n",
    "    if opposite_branch is not None:\n",
    "        #print(opposite_branch[\"point\"])\n",
    "        #print(point[axis] - opposite_branch[\"point\"][axis])\n",
    "        if math.fabs(point[axis] - root[\"point\"][axis]) <= epsilon:\n",
    "            new_points = KdtreeRangeSearch( opposite_branch, point, depth + 1, epsilon)\n",
    "            if new_points is not None:\n",
    "                points.extend(new_points)\n",
    "    \n",
    "\n",
    "    return(points)\n",
    "    \n"
   ]
  },
  {
   "cell_type": "code",
   "execution_count": 24,
   "metadata": {
    "collapsed": true
   },
   "outputs": [],
   "source": [
    "class RayCasting:\n",
    "    def __init__(self, range_min_th, range_max_th, range_resolution, angle_min, angle_max, angle_resolution):\n",
    "\n",
    "                         \n",
    "        self.__lookuptable  =   None\n",
    "        self.ray_line_num     =   None\n",
    "        self.single_ray_point_num     = None\n",
    "\n",
    "        self.__range_max_th = None\n",
    "        self.__range_min_th = None\n",
    "        self.__range_res    = None\n",
    "\n",
    "        self.__angle_max    = None\n",
    "        self.__angle_min    = None\n",
    "        self.__angle_res    = None\n",
    "        \n",
    "        self.ChangeRangeParam( range_min_th, range_max_th, range_resolution)\n",
    "        self.ChangeAngleParam( angle_min, angle_max, angle_resolution)\n",
    "        \n",
    "        self.CreateLookUpTable()\n",
    "        \n",
    "\n",
    "    def ChangeRangeParam(self, range_min_th, range_max_th, range_resolution):\n",
    "        self.__range_min_th = range_min_th\n",
    "        self.__range_max_th = range_max_th\n",
    "        self.__range_res    = range_resolution\n",
    "\n",
    "        print(\"Range Param\")\n",
    "        print(self.__range_min_th, self.__range_max_th, self.__range_res)\n",
    "        \n",
    "    def ChangeAngleParam(self, angle_min, angle_max, angle_resolution):\n",
    "        deg2rad = 1.0\n",
    "        if angle_min > 1.57 or angle_max > 1.57:\n",
    "            deg2rad = math.pi / 180.0\n",
    "\n",
    "        self.__angle_min    = deg2rad * angle_min\n",
    "        self.__angle_max    = deg2rad * angle_max\n",
    "        self.__angle_res    = deg2rad * angle_resolution\n",
    "        print(\"Angle Param\")\n",
    "        print(self.__angle_min, self.__angle_max, self.__angle_res)\n",
    "        \n",
    "        \n",
    "    def CreateLookUpTable(self):\n",
    "        print(\"Angle Param\")\n",
    "        print(self.__angle_min, self.__angle_max, self.__angle_res)\n",
    "        print(\"Range Param\")\n",
    "        print(self.__range_min_th, self.__range_max_th, self.__range_res)\n",
    "        \n",
    "        self.ray_line_num            = (int) ( (self.__angle_max - self.__angle_min) / self.__angle_res )\n",
    "        self.single_ray_point_num    = (int) ( (self.__range_max_th - self.__range_min_th) / self.__range_res)\n",
    "\n",
    "        #line = [[ 0.0, 0.0, 0.0] for i in range(self.single_ray_point_num)]\n",
    "        point_range = self.__range_min_th\n",
    "        p = [ 0.0, 0.0, 0.0]\n",
    "        \n",
    "        range_list = []\n",
    "        self.single_ray_point_num = 0\n",
    "        while point_range < self.__range_max_th:\n",
    "            #p[0] = point_range \n",
    "            #p[2] = point_range * math.tan(self.__angle_res * 0.5)\n",
    "            range_list.append([point_range, point_range * math.tan(self.__angle_res * 0.5)])\n",
    "            point_range += point_range * math.tan( self.__angle_res)\n",
    "            self.single_ray_point_num += 1\n",
    "        \n",
    "        #for i in range(self.single_ray_point_num):\n",
    "        #    point_range = self.__range_min_th + self.__range_res * i\n",
    "        #    line[i][2] = point_range * math.tan(self.__angle_res * 0.5)\n",
    "\n",
    "        #self.__lookuptable = [line for i in range(self.ray_line_num)]\n",
    "\n",
    "\n",
    "        point_range = None\n",
    "        self.__lookuptable = []\n",
    "        for i in range(self.ray_line_num):\n",
    "            ang = self.__angle_min + self.__angle_res * i\n",
    "            line = []\n",
    "            #for j in range(self.single_ray_point_num):\n",
    "            for j in range(len(range_list)):\n",
    "                #point_range = self.__range_min_th + self.__range_res * j\n",
    "                #point_range = l[j][0]\n",
    "                #l[j][0] = point_range * math.cos(ang)\n",
    "                #l[j][1] = point_range * math.sin(ang)\n",
    "                p = []\n",
    "                x = range_list[j][0] * math.cos(ang)\n",
    "                y = range_list[j][0] * math.sin(ang)\n",
    "                p = [ x, y, range_list[j][1]]\n",
    "                line.append( p )\n",
    "                #self.__lookuptable[i][j][0] = point_range * math.cos(ang)\n",
    "                #self.__lookuptable[i][j][1] = point_range * math.sin(ang)\n",
    "                #self.__lookuptable[i][j][2] = point_range * math.tan(self.__angle_res * 0.5)\n",
    "                #print( point_range, \":\", self.__lookuptable[i][j][2])\n",
    "            self.__lookuptable.append(line)\n",
    "\n",
    "        #for i in range(self.ray_line_num):\n",
    "        #    for j in range(len(self.__lookuptable[i])):\n",
    "        #        print(self.__lookuptable[i][j])\n",
    "        \n",
    "    def Run( self, kdtree):\n",
    "        nearest_points = []\n",
    "        for i in range(self.ray_line_num):\n",
    "            p = None\n",
    "            for j in range(self.single_ray_point_num):\n",
    "                p = KdtreeClosestPoint( kdtree,  self.__lookuptable[i][j][:2], 0)\n",
    "                dist = Distance( self.__lookuptable[i][j][:2], p)\n",
    "                #print(i,\",\",j,\",\",self.__lookuptable[i][j], \":::: dist=\",dist)\n",
    "                \n",
    "                if dist < self.__lookuptable[i][j][2]:\n",
    "                    nearest_points.append(p)\n",
    "            if p == None:\n",
    "                nearest_points.append(self.__lookuptable[i][self.range_ray_point_num - 1][:2])\n",
    "        return(nearest_points)"
   ]
  },
  {
   "cell_type": "code",
   "execution_count": 25,
   "metadata": {
    "collapsed": true
   },
   "outputs": [],
   "source": [
    "\n",
    "\n",
    "points = [[random.uniform(0,100), random.uniform(-50,50), i] for i in range(20)]\n",
    "\n",
    "#points[5][0] = points[6][0]\n",
    "#points[7][1] = points[8][1]\n"
   ]
  },
  {
   "cell_type": "code",
   "execution_count": 26,
   "metadata": {
    "collapsed": true
   },
   "outputs": [],
   "source": [
    "kdtree = BuildKdtree(points, 0)"
   ]
  },
  {
   "cell_type": "code",
   "execution_count": 27,
   "metadata": {
    "collapsed": false
   },
   "outputs": [
    {
     "data": {
      "text/plain": [
       "0.43634338953793944"
      ]
     },
     "execution_count": 27,
     "metadata": {},
     "output_type": "execute_result"
    }
   ],
   "source": [
    "math.tan(0.5 * math.pi / 180.0) * 50"
   ]
  },
  {
   "cell_type": "code",
   "execution_count": 28,
   "metadata": {
    "collapsed": false
   },
   "outputs": [
    {
     "name": "stdout",
     "output_type": "stream",
     "text": [
      "Range Param\n",
      "5 100 1\n",
      "Angle Param\n",
      "-1.5707963267948966 1.5707963267948966 0.008726646259971648\n",
      "Angle Param\n",
      "-1.5707963267948966 1.5707963267948966 0.008726646259971648\n",
      "Range Param\n",
      "5 100 1\n"
     ]
    }
   ],
   "source": [
    "ray_cast = RayCasting( 5, 100, 1, -90, 90, 0.5)"
   ]
  },
  {
   "cell_type": "code",
   "execution_count": 29,
   "metadata": {
    "collapsed": false
   },
   "outputs": [],
   "source": [
    "nn_points = ray_cast.Run(kdtree)"
   ]
  },
  {
   "cell_type": "code",
   "execution_count": 30,
   "metadata": {
    "collapsed": false
   },
   "outputs": [
    {
     "data": {
      "text/plain": [
       "[[49.78820254346209, -40.715101904468185],\n",
       " [41.967475664663375, -31.63848262239044],\n",
       " [34.35093127749721, -18.358393445504294],\n",
       " [84.28162813788705, -35.859717649261036],\n",
       " [55.95262500060838, -15.966246734943098],\n",
       " [89.4182603025365, -13.343397979470204],\n",
       " [90.70457097198287, -3.8948590942769385],\n",
       " [67.33750848752015, 5.444580836169308],\n",
       " [30.666603572063888, 4.327420865011945],\n",
       " [66.82512907294516, 28.45839956601243],\n",
       " [72.44713327439985, 33.62286875585097],\n",
       " [15.740939889740424, 15.198711067228345],\n",
       " [35.7033859435425, 40.21117192248008],\n",
       " [17.12106112777867, 40.55118356185535]]"
      ]
     },
     "execution_count": 30,
     "metadata": {},
     "output_type": "execute_result"
    }
   ],
   "source": [
    "nn_points"
   ]
  },
  {
   "cell_type": "code",
   "execution_count": 31,
   "metadata": {
    "collapsed": true
   },
   "outputs": [],
   "source": [
    "import time"
   ]
  },
  {
   "cell_type": "code",
   "execution_count": 32,
   "metadata": {
    "collapsed": false,
    "tags": [
     "outputPrepend"
    ]
   },
   "outputs": [
    {
     "name": "stdout",
     "output_type": "stream",
     "text": [
      "0.0\n"
     ]
    }
   ],
   "source": [
    "#pp.pprint(kdtree)\n",
    "p = [ 25, 25]\n",
    "#nearest = kdtree_naive_closest_point(kdtree, p)\n",
    "\n",
    "#nearest = KdTreeClosestPoint(kdtree, p)\n",
    "#nearest\n",
    "epsilon = 10\n",
    "t1 = time.time()\n",
    "cluster_points = KdtreeRangeSearch(kdtree, p, 0, epsilon=epsilon)\n",
    "t2 = time.time()\n",
    "print(t2-t1)"
   ]
  },
  {
   "cell_type": "code",
   "execution_count": 33,
   "metadata": {
    "collapsed": false
   },
   "outputs": [
    {
     "data": {
      "text/plain": [
       "0"
      ]
     },
     "execution_count": 33,
     "metadata": {},
     "output_type": "execute_result"
    }
   ],
   "source": [
    "len(cluster_points)"
   ]
  },
  {
   "cell_type": "code",
   "execution_count": 34,
   "metadata": {
    "collapsed": true
   },
   "outputs": [],
   "source": [
    "import matplotlib.pyplot as plt\n",
    "import matplotlib.patches as patches"
   ]
  },
  {
   "cell_type": "code",
   "execution_count": 35,
   "metadata": {
    "collapsed": false
   },
   "outputs": [
    {
     "data": {
      "image/png": "[encoded data removed]",
      "text/plain": [
       "<Figure size 432x288 with 1 Axes>"
      ]
     },
     "metadata": {
      "needs_background": "light"
     },
     "output_type": "display_data"
    }
   ],
   "source": [
    "fig = plt.figure()\n",
    "ax = plt.axes()\n",
    "\n",
    "#tree = kdtree\n",
    "#depth = 0\n",
    "\n",
    "    \n",
    "\n",
    "\n",
    "for point in points:\n",
    "    ax.scatter(point[0], point[1], c= \"blue\", s=5)\n",
    "\n",
    "for point in nn_points:\n",
    "    ax.scatter(point[0], point[1], c=\"red\", s=2)\n"
   ]
  },
  {
   "cell_type": "code",
   "execution_count": 36,
   "metadata": {
    "collapsed": false
   },
   "outputs": [
    {
     "data": {
      "text/plain": [
       "<matplotlib.patches.Ellipse at 0x23f23d168c0>"
      ]
     },
     "execution_count": 36,
     "metadata": {},
     "output_type": "execute_result"
    },
    {
     "data": {
      "image/png": "[encoded data removed]",
      "text/plain": [
       "<Figure size 432x288 with 1 Axes>"
      ]
     },
     "metadata": {
      "needs_background": "light"
     },
     "output_type": "display_data"
    }
   ],
   "source": [
    "\n",
    "nearest = KdtreeClosestPoint(kdtree, p)\n",
    "nearest\n",
    "\n",
    "fig = plt.figure()\n",
    "ax = plt.axes()\n",
    "ax.set_aspect(\"equal\")\n",
    "for point in points:\n",
    "    ax.scatter(point[0], point[1], c=\"green\", s=2)\n",
    "ax.scatter(p[0], p[1], c=\"red\")\n",
    "ax.scatter(nearest[0], nearest[1], c=\"blue\", s=2)\n",
    "\n",
    "for member in cluster_points:\n",
    "    ax.scatter(member[0],member[1], c=\"red\", s=2)\n",
    "    #circle = patches.Ellipse(xy=(member[0], member[1]), width=5, height=5, ec=\"blue\", fill=False)\n",
    "    #ax.add_patch(circle)\n",
    "\n",
    "eps = patches.Ellipse(xy=(p[0], p[1]), width = 2*epsilon, height=2*epsilon, ec=\"red\", fill=False, linewidth=1)\n",
    "ax.add_patch(eps)"
   ]
  },
  {
   "cell_type": "code",
   "execution_count": null,
   "metadata": {},
   "outputs": [],
   "source": []
  }
 ],
 "metadata": {
  "kernelspec": {
   "display_name": "Python 3.10.5 64-bit ('3.10.5')",
   "language": "python",
   "name": "python3"
  },
  "language_info": {
   "codemirror_mode": {
    "name": "ipython",
    "version": 3
   },
   "file_extension": ".py",
   "mimetype": "text/x-python",
   "name": "python",
   "nbconvert_exporter": "python",
   "pygments_lexer": "ipython3",
   "version": "3.10.5"
  },
  "vscode": {
   "interpreter": {
    "hash": "3179f89956a94b87ab3f2bd89a54073c7185ac722f8ca4764c60851b1b34a510"
   }
  }
 },
 "nbformat": 4,
 "nbformat_minor": 2
}
