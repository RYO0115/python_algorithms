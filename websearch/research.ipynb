{
 "cells": [
  {
   "cell_type": "code",
   "execution_count": 1,
   "metadata": {},
   "outputs": [],
   "source": [
    "import requests\n",
    "import pandas as pd"
   ]
  },
  {
   "cell_type": "code",
   "execution_count": 2,
   "metadata": {},
   "outputs": [],
   "source": [
    "import math"
   ]
  },
  {
   "cell_type": "code",
   "execution_count": 222,
   "metadata": {},
   "outputs": [],
   "source": [
    "from bs4 import BeautifulSoup\n",
    "import re"
   ]
  },
  {
   "cell_type": "code",
   "execution_count": 4,
   "metadata": {},
   "outputs": [
    {
     "output_type": "error",
     "ename": "NameError",
     "evalue": "name 'url' is not defined",
     "traceback": [
      "\u001b[0;31m---------------------------------------------------------------------------\u001b[0m",
      "\u001b[0;31mNameError\u001b[0m                                 Traceback (most recent call last)",
      "\u001b[0;32m<ipython-input-4-e3c075e39f3d>\u001b[0m in \u001b[0;36m<module>\u001b[0;34m\u001b[0m\n\u001b[1;32m      4\u001b[0m \u001b[0;31m#headers = {'User-Agent':\u001b[0m\u001b[0;34m\u001b[0m\u001b[0;34m\u001b[0m\u001b[0;34m\u001b[0m\u001b[0m\n\u001b[1;32m      5\u001b[0m \u001b[0;31m#           'Mozilla/5.0 (X11; Linux x86_64) AppleWebKit/537.36 (KHTML, like Gecko) Chrome/47.0.2526.106 Safari/537.36'}\u001b[0m\u001b[0;34m\u001b[0m\u001b[0;34m\u001b[0m\u001b[0;34m\u001b[0m\u001b[0m\n\u001b[0;32m----> 6\u001b[0;31m \u001b[0msoup\u001b[0m \u001b[0;34m=\u001b[0m \u001b[0mBeautifulSoup\u001b[0m\u001b[0;34m(\u001b[0m\u001b[0murl\u001b[0m\u001b[0;34m.\u001b[0m\u001b[0mcontent\u001b[0m\u001b[0;34m,\u001b[0m \u001b[0;34m\"html.parser\"\u001b[0m\u001b[0;34m)\u001b[0m\u001b[0;34m\u001b[0m\u001b[0;34m\u001b[0m\u001b[0m\n\u001b[0m\u001b[1;32m      7\u001b[0m \u001b[0;31m#page_soup = soup(response.content, \"html.parser\")\u001b[0m\u001b[0;34m\u001b[0m\u001b[0;34m\u001b[0m\u001b[0;34m\u001b[0m\u001b[0m\n",
      "\u001b[0;31mNameError\u001b[0m: name 'url' is not defined"
     ]
    }
   ],
   "source": [
    "#urlName = \"https://business.nikkei.com\"\n",
    "urlName = \"https://www.transfermarkt.co.uk/\"\n",
    "response = requests.get(urlName)\n",
    "#headers = {'User-Agent': \n",
    "#           'Mozilla/5.0 (X11; Linux x86_64) AppleWebKit/537.36 (KHTML, like Gecko) Chrome/47.0.2526.106 Safari/537.36'}\n",
    "soup = BeautifulSoup(url.content, \"html.parser\")\n",
    "#page_soup = soup(response.content, \"html.parser\")"
   ]
  },
  {
   "cell_type": "code",
   "execution_count": 5,
   "metadata": {
    "tags": []
   },
   "outputs": [
    {
     "output_type": "error",
     "ename": "NameError",
     "evalue": "name 'soup' is not defined",
     "traceback": [
      "\u001b[0;31m---------------------------------------------------------------------------\u001b[0m",
      "\u001b[0;31mNameError\u001b[0m                                 Traceback (most recent call last)",
      "\u001b[0;32m<ipython-input-5-0967975f75e9>\u001b[0m in \u001b[0;36m<module>\u001b[0;34m\u001b[0m\n\u001b[0;32m----> 1\u001b[0;31m \u001b[0mprint\u001b[0m\u001b[0;34m(\u001b[0m\u001b[0msoup\u001b[0m\u001b[0;34m)\u001b[0m\u001b[0;34m\u001b[0m\u001b[0;34m\u001b[0m\u001b[0m\n\u001b[0m",
      "\u001b[0;31mNameError\u001b[0m: name 'soup' is not defined"
     ]
    }
   ],
   "source": [
    "print(soup)"
   ]
  },
  {
   "cell_type": "code",
   "execution_count": 6,
   "metadata": {},
   "outputs": [],
   "source": [
    "headers = {'User-Agent': \n",
    "           'Mozilla/5.0 (X11; Linux x86_64) AppleWebKit/537.36 (KHTML, like Gecko) Chrome/47.0.2526.106 Safari/537.36'}\n",
    "\n",
    "page = \"https://www.transfermarkt.co.uk/transfers/transferrekorde/statistik/top/plus/0/galerie/0?saison_id=2000\"\n",
    "pageTree = requests.get(page, headers=headers)\n",
    "pageSoup = BeautifulSoup(pageTree.content, 'html.parser')"
   ]
  },
  {
   "cell_type": "code",
   "execution_count": 7,
   "metadata": {},
   "outputs": [],
   "source": [
    "Players = pageSoup.find_all(\"a\", {\"class\": \"spielprofil_tooltip\"})"
   ]
  },
  {
   "cell_type": "code",
   "execution_count": 8,
   "metadata": {},
   "outputs": [
    {
     "output_type": "execute_result",
     "data": {
      "text/plain": "'Luís Figo'"
     },
     "metadata": {},
     "execution_count": 8
    }
   ],
   "source": [
    "Players[0].text"
   ]
  },
  {
   "cell_type": "code",
   "execution_count": 9,
   "metadata": {},
   "outputs": [
    {
     "output_type": "execute_result",
     "data": {
      "text/plain": "[<a class=\"spielprofil_tooltip\" href=\"/luis-figo/profil/spieler/3446\" id=\"3446\" title=\"Luís Figo\">Luís Figo</a>,\n <a class=\"spielprofil_tooltip\" href=\"/hernan-crespo/profil/spieler/3410\" id=\"3410\" title=\"Hernán Crespo\">Hernán Crespo</a>,\n <a class=\"spielprofil_tooltip\" href=\"/marc-overmars/profil/spieler/3513\" id=\"3513\" title=\"Marc Overmars\">Marc Overmars</a>,\n <a class=\"spielprofil_tooltip\" href=\"/gabriel-batistuta/profil/spieler/5959\" id=\"5959\" title=\"Gabriel Batistuta\">Gabriel Batistuta</a>,\n <a class=\"spielprofil_tooltip\" href=\"/nicolas-anelka/profil/spieler/3226\" id=\"3226\" title=\"Nicolas Anelka\">Nicolas Anelka</a>,\n <a class=\"spielprofil_tooltip\" href=\"/rio-ferdinand/profil/spieler/3235\" id=\"3235\" title=\"Rio Ferdinand\">Rio Ferdinand</a>,\n <a class=\"spielprofil_tooltip\" href=\"/flavio-conceicao/profil/spieler/7279\" id=\"7279\" title=\"Flávio Conceição\">Flávio Conceição</a>,\n <a class=\"spielprofil_tooltip\" href=\"/savo-milosevic/profil/spieler/7896\" id=\"7896\" title=\"Savo Milosevic\">Savo Milosevic</a>,\n <a class=\"spielprofil_tooltip\" href=\"/david-trezeguet/profil/spieler/4146\" id=\"4146\" title=\"David Trézéguet\">David Trézéguet</a>,\n <a class=\"spielprofil_tooltip\" href=\"/claudio-lopez/profil/spieler/3418\" id=\"3418\" title=\"Claudio López\">Claudio López</a>,\n <a class=\"spielprofil_tooltip\" href=\"/jimmy-floyd-hasselbaink/profil/spieler/3175\" id=\"3175\" title=\"Jimmy Floyd Hasselbaink\">Jimmy Floyd Hasselbaink</a>,\n <a class=\"spielprofil_tooltip\" href=\"/gerard-lopez/profil/spieler/7599\" id=\"7599\" title=\"Gerard López\">Gerard López</a>,\n <a class=\"spielprofil_tooltip\" href=\"/lucas/profil/spieler/8517\" id=\"8517\" title=\"Lucas\">Lucas</a>,\n <a class=\"spielprofil_tooltip\" href=\"/pablo-aimar/profil/spieler/3411\" id=\"3411\" title=\"Pablo Aimar\">Pablo Aimar</a>,\n <a class=\"spielprofil_tooltip\" href=\"/walter-samuel/profil/spieler/5938\" id=\"5938\" title=\"Wálter Samuel\">Wálter Samuel</a>,\n <a class=\"spielprofil_tooltip\" href=\"/shabani-nonda/profil/spieler/3499\" id=\"3499\" title=\"Shabani Nonda\">Shabani Nonda</a>,\n <a class=\"spielprofil_tooltip\" href=\"/robbie-keane/profil/spieler/3144\" id=\"3144\" title=\"Robbie Keane\">Robbie Keane</a>,\n <a class=\"spielprofil_tooltip\" href=\"/jonathan-zebina/profil/spieler/5942\" id=\"5942\" title=\"Jonathan Zebina\">Jonathan Zebina</a>,\n <a class=\"spielprofil_tooltip\" href=\"/emerson/profil/spieler/70\" id=\"70\" title=\"Émerson\">Émerson</a>,\n <a class=\"spielprofil_tooltip\" href=\"/tore-andre-flo/profil/spieler/3081\" id=\"3081\" title=\"Tore André Flo\">Tore André Flo</a>,\n <a class=\"spielprofil_tooltip\" href=\"/sergiy-rebrov/profil/spieler/3122\" id=\"3122\" title=\"Sergiy Rebrov\">Sergiy Rebrov</a>,\n <a class=\"spielprofil_tooltip\" href=\"/angelo-peruzzi/profil/spieler/5826\" id=\"5826\" title=\"Angelo Peruzzi\">Angelo Peruzzi</a>,\n <a class=\"spielprofil_tooltip\" href=\"/diego-tristan/profil/spieler/7504\" id=\"7504\" title=\"Diego Tristán\">Diego Tristán</a>,\n <a class=\"spielprofil_tooltip\" href=\"/sylvain-wiltord/profil/spieler/3188\" id=\"3188\" title=\"Sylvain Wiltord\">Sylvain Wiltord</a>,\n <a class=\"spielprofil_tooltip\" href=\"/fernando-redondo/profil/spieler/5811\" id=\"5811\" title=\"Fernando Redondo\">Fernando Redondo</a>,\n <a class=\"spielprofil_tooltip\" href=\"/shay-lee-izan/profil/spieler/674975\" id=\"674975\" title=\"Shay Lee Izan\">S. Izan</a>,\n <a class=\"spielprofil_tooltip\" href=\"/gabriel-magalhaes/profil/spieler/435338\" id=\"435338\" title=\"Gabriel Magalhães\">Gabriel Magalhães</a>,\n <a class=\"spielprofil_tooltip\" href=\"/chris-smalling/profil/spieler/103427\" id=\"103427\" title=\"Chris Smalling\">C. Smalling</a>,\n <a class=\"spielprofil_tooltip\" href=\"/ollie-watkins/profil/spieler/324358\" id=\"324358\" title=\"Ollie Watkins\">O. Watkins</a>,\n <a class=\"spielprofil_tooltip\" href=\"/david-brooks/profil/spieler/277033\" id=\"277033\" title=\"David Brooks\">David Brooks</a>]"
     },
     "metadata": {},
     "execution_count": 9
    }
   ],
   "source": [
    "Players"
   ]
  },
  {
   "cell_type": "code",
   "execution_count": 10,
   "metadata": {},
   "outputs": [],
   "source": [
    "Values = pageSoup.find_all(\"td\", {\"class\": \"rechts hauptlink\"})\n"
   ]
  },
  {
   "cell_type": "code",
   "execution_count": 11,
   "metadata": {},
   "outputs": [
    {
     "output_type": "execute_result",
     "data": {
      "text/plain": "[<td class=\"rechts hauptlink\"><a href=\"/jumplist/transfers/spieler/3446/transfer_id/5480\">£54.00m</a></td>,\n <td class=\"rechts hauptlink\"><a href=\"/jumplist/transfers/spieler/3410/transfer_id/8309\">£51.13m</a></td>,\n <td class=\"rechts hauptlink\"><a href=\"/jumplist/transfers/spieler/3513/transfer_id/5546\">£36.00m</a></td>,\n <td class=\"rechts hauptlink\"><a href=\"/jumplist/transfers/spieler/5959/transfer_id/18729\">£32.54m</a></td>,\n <td class=\"rechts hauptlink\"><a href=\"/jumplist/transfers/spieler/3226/transfer_id/5215\">£31.05m</a></td>,\n <td class=\"rechts hauptlink\"><a href=\"/jumplist/transfers/spieler/3235/transfer_id/5248\">£23.40m</a></td>,\n <td class=\"rechts hauptlink\"><a href=\"/jumplist/transfers/spieler/7279/transfer_id/11097\">£22.50m</a></td>,\n <td class=\"rechts hauptlink\"><a href=\"/jumplist/transfers/spieler/7896/transfer_id/35162\">£22.50m</a></td>,\n <td class=\"rechts hauptlink\"><a href=\"/jumplist/transfers/spieler/4146/transfer_id/6991\">£20.92m</a></td>,\n <td class=\"rechts hauptlink\"><a href=\"/jumplist/transfers/spieler/3418/transfer_id/66461\">£20.70m</a></td>,\n <td class=\"rechts hauptlink\"><a href=\"/jumplist/transfers/spieler/3175/transfer_id/15179\">£20.25m</a></td>,\n <td class=\"rechts hauptlink\"><a href=\"/jumplist/transfers/spieler/7599/transfer_id/11657\">£19.44m</a></td>,\n <td class=\"rechts hauptlink\"><a href=\"/jumplist/transfers/spieler/8517/transfer_id/15606\">£19.17m</a></td>,\n <td class=\"rechts hauptlink\"><a href=\"/jumplist/transfers/spieler/3411/transfer_id/11487\">£19.13m</a></td>,\n <td class=\"rechts hauptlink\"><a href=\"/jumplist/transfers/spieler/5938/transfer_id/18773\">£18.72m</a></td>,\n <td class=\"rechts hauptlink\"><a href=\"/jumplist/transfers/spieler/3499/transfer_id/12943\">£18.00m</a></td>,\n <td class=\"rechts hauptlink\"><a href=\"/jumplist/transfers/spieler/3144/transfer_id/18840\">£17.55m</a></td>,\n <td class=\"rechts hauptlink\"><a href=\"/jumplist/transfers/spieler/5942/transfer_id/21944\">£16.56m</a></td>,\n <td class=\"rechts hauptlink\"><a href=\"/jumplist/transfers/spieler/70/transfer_id/3530\">£16.20m</a></td>,\n <td class=\"rechts hauptlink\"><a href=\"/jumplist/transfers/spieler/3081/transfer_id/5021\">£16.20m</a></td>,\n <td class=\"rechts hauptlink\"><a href=\"/jumplist/transfers/spieler/3122/transfer_id/5108\">£16.20m</a></td>,\n <td class=\"rechts hauptlink\"><a href=\"/jumplist/transfers/spieler/5826/transfer_id/28048\">£16.11m</a></td>,\n <td class=\"rechts hauptlink\"><a href=\"/jumplist/transfers/spieler/7504/transfer_id/14325\">£15.98m</a></td>,\n <td class=\"rechts hauptlink\"><a href=\"/jumplist/transfers/spieler/3188/transfer_id/5171\">£15.75m</a></td>,\n <td class=\"rechts hauptlink\"><a href=\"/jumplist/transfers/spieler/5811/transfer_id/18774\">£15.75m</a></td>]"
     },
     "metadata": {},
     "execution_count": 11
    }
   ],
   "source": [
    "Values"
   ]
  },
  {
   "cell_type": "code",
   "execution_count": 12,
   "metadata": {},
   "outputs": [
    {
     "output_type": "execute_result",
     "data": {
      "text/plain": "             Players   Values\n0          Luís Figo  £54.00m\n1      Hernán Crespo  £51.13m\n2      Marc Overmars  £36.00m\n3  Gabriel Batistuta  £32.54m\n4     Nicolas Anelka  £31.05m",
      "text/html": "<div>\n<style scoped>\n    .dataframe tbody tr th:only-of-type {\n        vertical-align: middle;\n    }\n\n    .dataframe tbody tr th {\n        vertical-align: top;\n    }\n\n    .dataframe thead th {\n        text-align: right;\n    }\n</style>\n<table border=\"1\" class=\"dataframe\">\n  <thead>\n    <tr style=\"text-align: right;\">\n      <th></th>\n      <th>Players</th>\n      <th>Values</th>\n    </tr>\n  </thead>\n  <tbody>\n    <tr>\n      <th>0</th>\n      <td>Luís Figo</td>\n      <td>£54.00m</td>\n    </tr>\n    <tr>\n      <th>1</th>\n      <td>Hernán Crespo</td>\n      <td>£51.13m</td>\n    </tr>\n    <tr>\n      <th>2</th>\n      <td>Marc Overmars</td>\n      <td>£36.00m</td>\n    </tr>\n    <tr>\n      <th>3</th>\n      <td>Gabriel Batistuta</td>\n      <td>£32.54m</td>\n    </tr>\n    <tr>\n      <th>4</th>\n      <td>Nicolas Anelka</td>\n      <td>£31.05m</td>\n    </tr>\n  </tbody>\n</table>\n</div>"
     },
     "metadata": {},
     "execution_count": 12
    }
   ],
   "source": [
    "PlayerList = []\n",
    "ValueList = []\n",
    "\n",
    "for i in range(0,25):\n",
    "    PlayerList.append(Players[i].text)\n",
    "    ValueList.append(Values[i].text)\n",
    "\n",
    "df = pd.DataFrame({\"Players\":PlayerList, \"Values\":ValueList})\n",
    "\n",
    "df.head()"
   ]
  },
  {
   "cell_type": "code",
   "execution_count": null,
   "metadata": {},
   "outputs": [],
   "source": []
  },
  {
   "cell_type": "code",
   "execution_count": 244,
   "metadata": {
    "tags": []
   },
   "outputs": [],
   "source": [
    "prem_score_page = \"https://www.transfermarkt.co.uk/premier-league/torschuetzenliste/wettbewerb/GB1/\"\n",
    "score_tree = requests.get(prem_score_page, headers=headers)\n",
    "soup = BeautifulSoup(score_tree.content, \"html.parser\")\n",
    "\n",
    "import pprint\n",
    "tmkt_link = \"https://www.transfermarkt.co.uk\"\n",
    "#text = soup.__str__()\n",
    "#id = text.find(\"vardy\")\n",
    "#print(text[id-4000:])\n",
    "#pprint.pprint(soup.find(\"h2\"))\n",
    "\n",
    "#pprint.pprint(soup)\n",
    "\n"
   ]
  },
  {
   "cell_type": "code",
   "execution_count": 248,
   "metadata": {
    "tags": []
   },
   "outputs": [],
   "source": [
    "\n",
    "\n",
    "\n",
    "tbodys = soup.body.find_all(\"tbody\")\n",
    "\n",
    "i=0\n",
    "ranking = []\n",
    "table = tbodys[1].find_all(\"tr\")\n",
    "#teamlinks = rank_body.select(\"a.vereinprofil_tooltip\")\n",
    "for row in table:\n",
    "    tmp = []\n",
    "    for item in row.find_all(\"td\"):\n",
    "        text = item.text\n",
    "        #print(item.text)\n",
    "        #print(item)\n",
    "        #print(text)\n",
    "        text = text.replace(\"\\n\",\"\")\n",
    "        \n",
    "        #print(item)\n",
    "        #print(\"id:\",text.find(\"<img\"))\n",
    "        #if text.find(\"<img\") == -1 and text.count(' ') != len(text):\n",
    "        #print(\"\\n\",item)\n",
    "        #item_dict = item.__dict__\n",
    "\n",
    "        if item.find(\"img\") and type(item.a) != type(None):\n",
    "            #print(item)\n",
    "            #print(item.a.get(\"href\"))\n",
    "            tmp.append(item.a.get(\"href\"))\n",
    "            #print(item)\n",
    "        \n",
    "        if item.find(\"img\") and type(item.img) != type(None):\n",
    "            #print(item.img.get(\"src\"))\n",
    "            tmp.append(item.img.get(\"src\"))\n",
    "            \n",
    "        if text.count(' ') != len(text):\n",
    "            if text != '' or text != ' ': \n",
    "                #print(text)\n",
    "                already_flag = False\n",
    "                #for t in tmp:\n",
    "                #    if t == text:\n",
    "                #        already_flag = True\n",
    "                #        break\n",
    "                if already_flag == False:\n",
    "                    tmp.append(text)\n",
    "    if len(tmp) > 3:\n",
    "        tmp.pop(2)\n",
    "        tmp.pop(2)\n",
    "        ranking.append(tmp)\n",
    "\n",
    "ranking\n",
    "\n",
    "ranking_dict = []\n",
    "\n",
    "for i in range(len(ranking)):\n",
    "    #print(ranking[i])\n",
    "    ranking_dict.append({\"Ranking\":ranking[i][0],\"Player Name\":ranking[i][3], \"Position\":ranking[i][4],\"Age\":ranking[i][6], \"Apperance\":ranking[i][9], \"Goals\":ranking[i][10], \"Player Image\":tmkt_link + ranking[i][1], \"Nationality\":ranking[i][5], \"Team URL\":tmkt_link+ranking[i][7], \"Team Logo\":ranking[i][8]})\n",
    "\n",
    "#ranking_dict\n",
    "#ranking[:][0]\n",
    "#ranking_df = pd.DataFrame({\"Ranking\":ranking[:][0],\"Player Name\":ranking[:][1], \"Position\":ranking[:][2],\"Age\":ranking[:][3], \"Apperance\":ranking[:][4], \"Goals\":ranking[:][5]})\n"
   ]
  },
  {
   "cell_type": "code",
   "execution_count": 249,
   "metadata": {},
   "outputs": [
    {
     "output_type": "execute_result",
     "data": {
      "text/plain": "[{'Ranking': '1',\n  'Player Name': 'Jamie Vardy ',\n  'Position': 'Centre-Forward',\n  'Age': '33',\n  'Apperance': '35',\n  'Goals': '23',\n  'Player Image': 'https://www.transfermarkt.co.uk/jamie-vardy/profil/spieler/197838',\n  'Nationality': 'https://tmssl.akamaized.net/images/flagge/verysmall/189.png?lm=1520611569',\n  'Team URL': 'https://www.transfermarkt.co.uk/leicester-city/startseite/verein/1003/saison_id/2019',\n  'Team Logo': 'https://tmssl.akamaized.net/images/wappen/verysmall/1003.png?lm=1472229265'},\n {'Ranking': '2',\n  'Player Name': 'Pierre-Emerick Aubameyang ',\n  'Position': 'Centre-Forward',\n  'Age': '31',\n  'Apperance': '36',\n  'Goals': '22',\n  'Player Image': 'https://www.transfermarkt.co.uk/pierre-emerick-aubameyang/profil/spieler/58864',\n  'Nationality': 'https://tmssl.akamaized.net/images/flagge/verysmall/51.png?lm=1520611569',\n  'Team URL': 'https://www.transfermarkt.co.uk/fc-arsenal/startseite/verein/11/saison_id/2019',\n  'Team Logo': 'https://tmssl.akamaized.net/images/wappen/verysmall/11.png?lm=1489787850'},\n {'Ranking': '3',\n  'Player Name': 'Danny Ings ',\n  'Position': 'Centre-Forward',\n  'Age': '28',\n  'Apperance': '38',\n  'Goals': '22',\n  'Player Image': 'https://www.transfermarkt.co.uk/danny-ings/profil/spieler/134294',\n  'Nationality': 'https://tmssl.akamaized.net/images/flagge/verysmall/189.png?lm=1520611569',\n  'Team URL': 'https://www.transfermarkt.co.uk/fc-southampton/startseite/verein/180/saison_id/2019',\n  'Team Logo': 'https://tmssl.akamaized.net/images/wappen/verysmall/180.png?lm=1444560086'},\n {'Ranking': '4',\n  'Player Name': 'Raheem Sterling ',\n  'Position': 'Left Winger',\n  'Age': '25',\n  'Apperance': '33',\n  'Goals': '20',\n  'Player Image': 'https://www.transfermarkt.co.uk/raheem-sterling/profil/spieler/134425',\n  'Nationality': 'https://tmssl.akamaized.net/images/flagge/verysmall/189.png?lm=1520611569',\n  'Team URL': 'https://www.transfermarkt.co.uk/manchester-city/startseite/verein/281/saison_id/2019',\n  'Team Logo': 'https://tmssl.akamaized.net/images/wappen/verysmall/281.png?lm=1467356331'},\n {'Ranking': '5',\n  'Player Name': 'Mohamed Salah ',\n  'Position': 'Right Winger',\n  'Age': '28',\n  'Apperance': '34',\n  'Goals': '19',\n  'Player Image': 'https://www.transfermarkt.co.uk/mohamed-salah/profil/spieler/148455',\n  'Nationality': 'https://tmssl.akamaized.net/images/flagge/verysmall/2.png?lm=1520611569',\n  'Team URL': 'https://www.transfermarkt.co.uk/fc-liverpool/startseite/verein/31/saison_id/2019',\n  'Team Logo': 'https://tmssl.akamaized.net/images/wappen/verysmall/31.png?lm=1456567819'},\n {'Ranking': '6',\n  'Player Name': 'Sadio Mané ',\n  'Position': 'Left Winger',\n  'Age': '28',\n  'Apperance': '35',\n  'Goals': '18',\n  'Player Image': 'https://www.transfermarkt.co.uk/sadio-mane/profil/spieler/200512',\n  'Nationality': 'https://tmssl.akamaized.net/images/flagge/verysmall/149.png?lm=1520611569',\n  'Team URL': 'https://www.transfermarkt.co.uk/fc-liverpool/startseite/verein/31/saison_id/2019',\n  'Team Logo': 'https://tmssl.akamaized.net/images/wappen/verysmall/31.png?lm=1456567819'},\n {'Ranking': '7',\n  'Player Name': 'Harry Kane ',\n  'Position': 'Centre-Forward',\n  'Age': '26',\n  'Apperance': '29',\n  'Goals': '18',\n  'Player Image': 'https://www.transfermarkt.co.uk/harry-kane/profil/spieler/132098',\n  'Nationality': 'https://tmssl.akamaized.net/images/flagge/verysmall/189.png?lm=1520611569',\n  'Team URL': 'https://www.transfermarkt.co.uk/tottenham-hotspur/startseite/verein/148/saison_id/2019',\n  'Team Logo': 'https://tmssl.akamaized.net/images/wappen/verysmall/148.png?lm=1544345801'},\n {'Ranking': '8',\n  'Player Name': 'Marcus Rashford ',\n  'Position': 'Left Winger',\n  'Age': '22',\n  'Apperance': '31',\n  'Goals': '17',\n  'Player Image': 'https://www.transfermarkt.co.uk/marcus-rashford/profil/spieler/258923',\n  'Nationality': 'https://tmssl.akamaized.net/images/flagge/verysmall/189.png?lm=1520611569',\n  'Team URL': 'https://www.transfermarkt.co.uk/manchester-united/startseite/verein/985/saison_id/2019',\n  'Team Logo': 'https://tmssl.akamaized.net/images/wappen/verysmall/985.png?lm=1457975903'},\n {'Ranking': '9',\n  'Player Name': 'Anthony Martial ',\n  'Position': 'Centre-Forward',\n  'Age': '24',\n  'Apperance': '32',\n  'Goals': '17',\n  'Player Image': 'https://www.transfermarkt.co.uk/anthony-martial/profil/spieler/182877',\n  'Nationality': 'https://tmssl.akamaized.net/images/flagge/verysmall/50.png?lm=1520611569',\n  'Team URL': 'https://www.transfermarkt.co.uk/manchester-united/startseite/verein/985/saison_id/2019',\n  'Team Logo': 'https://tmssl.akamaized.net/images/wappen/verysmall/985.png?lm=1457975903'},\n {'Ranking': '10',\n  'Player Name': 'Raúl Jiménez ',\n  'Position': 'Centre-Forward',\n  'Age': '29',\n  'Apperance': '38',\n  'Goals': '17',\n  'Player Image': 'https://www.transfermarkt.co.uk/raul-jimenez/profil/spieler/206040',\n  'Nationality': 'https://tmssl.akamaized.net/images/flagge/verysmall/110.png?lm=1520611569',\n  'Team URL': 'https://www.transfermarkt.co.uk/wolverhampton-wanderers/startseite/verein/543/saison_id/2019',\n  'Team Logo': 'https://tmssl.akamaized.net/images/wappen/verysmall/543.png?lm=1467496784'},\n {'Ranking': '11',\n  'Player Name': 'Sergio Agüero ',\n  'Position': 'Centre-Forward',\n  'Age': '32',\n  'Apperance': '24',\n  'Goals': '16',\n  'Player Image': 'https://www.transfermarkt.co.uk/sergio-aguero/profil/spieler/26399',\n  'Nationality': 'https://tmssl.akamaized.net/images/flagge/verysmall/9.png?lm=1520611569',\n  'Team URL': 'https://www.transfermarkt.co.uk/manchester-city/startseite/verein/281/saison_id/2019',\n  'Team Logo': 'https://tmssl.akamaized.net/images/wappen/verysmall/281.png?lm=1467356331'},\n {'Ranking': '12',\n  'Player Name': 'Tammy Abraham ',\n  'Position': 'Centre-Forward',\n  'Age': '22',\n  'Apperance': '34',\n  'Goals': '15',\n  'Player Image': 'https://www.transfermarkt.co.uk/tammy-abraham/profil/spieler/331726',\n  'Nationality': 'https://tmssl.akamaized.net/images/flagge/verysmall/189.png?lm=1520611569',\n  'Team URL': 'https://www.transfermarkt.co.uk/fc-chelsea/startseite/verein/631/saison_id/2019',\n  'Team Logo': 'https://tmssl.akamaized.net/images/wappen/verysmall/631.png?lm=1444558831'},\n {'Ranking': '13',\n  'Player Name': 'Gabriel Jesus ',\n  'Position': 'Centre-Forward',\n  'Age': '23',\n  'Apperance': '34',\n  'Goals': '14',\n  'Player Image': 'https://www.transfermarkt.co.uk/gabriel-jesus/profil/spieler/363205',\n  'Nationality': 'https://tmssl.akamaized.net/images/flagge/verysmall/26.png?lm=1520611569',\n  'Team URL': 'https://www.transfermarkt.co.uk/manchester-city/startseite/verein/281/saison_id/2019',\n  'Team Logo': 'https://tmssl.akamaized.net/images/wappen/verysmall/281.png?lm=1467356331'},\n {'Ranking': '14',\n  'Player Name': 'Chris Wood ',\n  'Position': 'Centre-Forward',\n  'Age': '28',\n  'Apperance': '32',\n  'Goals': '14',\n  'Player Image': 'https://www.transfermarkt.co.uk/chris-wood/profil/spieler/108725',\n  'Nationality': 'https://tmssl.akamaized.net/images/flagge/verysmall/120.png?lm=1520611569',\n  'Team URL': 'https://www.transfermarkt.co.uk/fc-burnley/startseite/verein/1132/saison_id/2019',\n  'Team Logo': 'https://tmssl.akamaized.net/images/wappen/verysmall/1132.png?lm=1587809239'},\n {'Ranking': '15',\n  'Player Name': 'Kevin De Bruyne ',\n  'Position': 'Attacking Midfield',\n  'Age': '29',\n  'Apperance': '35',\n  'Goals': '13',\n  'Player Image': 'https://www.transfermarkt.co.uk/kevin-de-bruyne/profil/spieler/88755',\n  'Nationality': 'https://tmssl.akamaized.net/images/flagge/verysmall/19.png?lm=1520611569',\n  'Team URL': 'https://www.transfermarkt.co.uk/manchester-city/startseite/verein/281/saison_id/2019',\n  'Team Logo': 'https://tmssl.akamaized.net/images/wappen/verysmall/281.png?lm=1467356331'},\n {'Ranking': '16',\n  'Player Name': 'Richarlison ',\n  'Position': 'Centre-Forward',\n  'Age': '23',\n  'Apperance': '36',\n  'Goals': '13',\n  'Player Image': 'https://www.transfermarkt.co.uk/richarlison/profil/spieler/378710',\n  'Nationality': 'https://tmssl.akamaized.net/images/flagge/verysmall/26.png?lm=1520611569',\n  'Team URL': 'https://www.transfermarkt.co.uk/fc-everton/startseite/verein/29/saison_id/2019',\n  'Team Logo': 'https://tmssl.akamaized.net/images/wappen/verysmall/29.png?lm=1445949846'},\n {'Ranking': '17',\n  'Player Name': 'Dominic Calvert-Lewin ',\n  'Position': 'Centre-Forward',\n  'Age': '23',\n  'Apperance': '36',\n  'Goals': '13',\n  'Player Image': 'https://www.transfermarkt.co.uk/dominic-calvert-lewin/profil/spieler/306024',\n  'Nationality': 'https://tmssl.akamaized.net/images/flagge/verysmall/189.png?lm=1520611569',\n  'Team URL': 'https://www.transfermarkt.co.uk/fc-everton/startseite/verein/29/saison_id/2019',\n  'Team Logo': 'https://tmssl.akamaized.net/images/wappen/verysmall/29.png?lm=1445949846'},\n {'Ranking': '18',\n  'Player Name': 'Riyad Mahrez ',\n  'Position': 'Right Winger',\n  'Age': '29',\n  'Apperance': '33',\n  'Goals': '11',\n  'Player Image': 'https://www.transfermarkt.co.uk/riyad-mahrez/profil/spieler/171424',\n  'Nationality': 'https://tmssl.akamaized.net/images/flagge/verysmall/4.png?lm=1520611569',\n  'Team URL': 'https://www.transfermarkt.co.uk/manchester-city/startseite/verein/281/saison_id/2019',\n  'Team Logo': 'https://tmssl.akamaized.net/images/wappen/verysmall/281.png?lm=1467356331'},\n {'Ranking': '19',\n  'Player Name': 'Heung-min Son ',\n  'Position': 'Left Winger',\n  'Age': '28',\n  'Apperance': '30',\n  'Goals': '11',\n  'Player Image': 'https://www.transfermarkt.co.uk/heung-min-son/profil/spieler/91845',\n  'Nationality': 'https://tmssl.akamaized.net/images/flagge/verysmall/87.png?lm=1520611569',\n  'Team URL': 'https://www.transfermarkt.co.uk/tottenham-hotspur/startseite/verein/148/saison_id/2019',\n  'Team Logo': 'https://tmssl.akamaized.net/images/wappen/verysmall/148.png?lm=1544345801'},\n {'Ranking': '20',\n  'Player Name': 'Teemu Pukki ',\n  'Position': 'Centre-Forward',\n  'Age': '30',\n  'Apperance': '36',\n  'Goals': '11',\n  'Player Image': 'https://www.transfermarkt.co.uk/teemu-pukki/profil/spieler/46972',\n  'Nationality': 'https://tmssl.akamaized.net/images/flagge/verysmall/49.png?lm=1520611569',\n  'Team URL': 'https://www.transfermarkt.co.uk/norwich-city/startseite/verein/1123/saison_id/2019',\n  'Team Logo': 'https://tmssl.akamaized.net/images/wappen/verysmall/1123.png?lm=1457723273'},\n {'Ranking': '21',\n  'Player Name': 'Alexandre Lacazette ',\n  'Position': 'Centre-Forward',\n  'Age': '29',\n  'Apperance': '30',\n  'Goals': '10',\n  'Player Image': 'https://www.transfermarkt.co.uk/alexandre-lacazette/profil/spieler/93720',\n  'Nationality': 'https://tmssl.akamaized.net/images/flagge/verysmall/50.png?lm=1520611569',\n  'Team URL': 'https://www.transfermarkt.co.uk/fc-arsenal/startseite/verein/11/saison_id/2019',\n  'Team Logo': 'https://tmssl.akamaized.net/images/wappen/verysmall/11.png?lm=1489787850'},\n {'Ranking': '22',\n  'Player Name': 'Neal Maupay ',\n  'Position': 'Centre-Forward',\n  'Age': '23',\n  'Apperance': '37',\n  'Goals': '10',\n  'Player Image': 'https://www.transfermarkt.co.uk/neal-maupay/profil/spieler/217115',\n  'Nationality': 'https://tmssl.akamaized.net/images/flagge/verysmall/50.png?lm=1520611569',\n  'Team URL': 'https://www.transfermarkt.co.uk/brighton-amp-hove-albion/startseite/verein/1237/saison_id/2019',\n  'Team Logo': 'https://tmssl.akamaized.net/images/wappen/verysmall/1237.png?lm=1492718902'},\n {'Ranking': '23',\n  'Player Name': 'Michail Antonio ',\n  'Position': 'Centre-Forward',\n  'Age': '30',\n  'Apperance': '24',\n  'Goals': '10',\n  'Player Image': 'https://www.transfermarkt.co.uk/michail-antonio/profil/spieler/104124',\n  'Nationality': 'https://tmssl.akamaized.net/images/flagge/verysmall/189.png?lm=1520611569',\n  'Team URL': 'https://www.transfermarkt.co.uk/west-ham-united/startseite/verein/379/saison_id/2019',\n  'Team Logo': 'https://tmssl.akamaized.net/images/wappen/verysmall/379.png?lm=1464675260'},\n {'Ranking': '24',\n  'Player Name': 'Troy Deeney ',\n  'Position': 'Centre-Forward',\n  'Age': '32',\n  'Apperance': '27',\n  'Goals': '10',\n  'Player Image': 'https://www.transfermarkt.co.uk/troy-deeney/profil/spieler/65477',\n  'Nationality': 'https://tmssl.akamaized.net/images/flagge/verysmall/189.png?lm=1520611569',\n  'Team URL': 'https://www.transfermarkt.co.uk/fc-watford/startseite/verein/1010/saison_id/2019',\n  'Team Logo': 'https://tmssl.akamaized.net/images/wappen/verysmall/1010.png?lm=1468103673'},\n {'Ranking': '25',\n  'Player Name': 'Mason Greenwood ',\n  'Position': 'Centre-Forward',\n  'Age': '18',\n  'Apperance': '31',\n  'Goals': '10',\n  'Player Image': 'https://www.transfermarkt.co.uk/mason-greenwood/profil/spieler/532826',\n  'Nationality': 'https://tmssl.akamaized.net/images/flagge/verysmall/189.png?lm=1520611569',\n  'Team URL': 'https://www.transfermarkt.co.uk/manchester-united/startseite/verein/985/saison_id/2019',\n  'Team Logo': 'https://tmssl.akamaized.net/images/wappen/verysmall/985.png?lm=1457975903'}]"
     },
     "metadata": {},
     "execution_count": 249
    }
   ],
   "source": [
    "ranking_dict"
   ]
  },
  {
   "cell_type": "code",
   "execution_count": null,
   "metadata": {},
   "outputs": [],
   "source": []
  },
  {
   "cell_type": "code",
   "execution_count": null,
   "metadata": {},
   "outputs": [],
   "source": [
    "scoreler_rank_list = []\n",
    "scoreler_rank_list = soup.select(\"a\")\n",
    "\n",
    "player_names = []\n",
    "player_links = []\n",
    "player_scores = []\n",
    "\n",
    "for scoreler in scoreler_rank_list:\n",
    "    player_dict = scoreler.__dict__\n",
    "    print(player_dict)\n",
    "    name = player_dict[\"contents\"][0]\n",
    "    url  = player_dict[\"attrs\"][\"href\"]\n",
    "\n",
    "    already_flag = False\n",
    "    for link in player_links:\n",
    "        if link == url:\n",
    "            already_flag = True\n",
    "            break\n",
    "    \n",
    "    if name.find(\"<img\") == -1 and already_flag == False:\n",
    "        player_names.append(name)\n",
    "        player_links.append(url)\n"
   ]
  },
  {
   "cell_type": "code",
   "execution_count": 64,
   "metadata": {
    "tags": []
   },
   "outputs": [],
   "source": [
    "#Process League Table\n",
    "prem_page = \"https://www.transfermarkt.co.uk/premier-league/startseite/wettbewerb/GB1\"\n",
    "\n",
    "tree = requests.get(prem_page, headers=headers)\n",
    "soup = BeautifulSoup(tree.content, \"html.parser\")\n",
    "\n",
    "#Create an empty list to assign these values to\n",
    "team_links = []\n",
    "\n",
    "# Extract all links with the correct CSS selecter\n",
    "links = soup.select(\"a.vereinprofil_tooltip\")\n",
    "teamlinks = soup.select(\"a.vereinprofil_tooltip\")\n",
    "#teamnames = soup.select(\"img.alt\")\n",
    "#print(soup)\n",
    "#print(teamnames)\n",
    "#print(links)\n",
    "# We need the location that the link is pointing to, so for each link, take the link location Additionally,\n",
    "# we only need the links in locations 1,3,5,etc,. of our list, so loop throug \n",
    "for i in range(1,41,2):\n",
    "    team_links.append(links[i].get(\"href\"))\n",
    "\n",
    "team_links = list(set(team_links))\n"
   ]
  },
  {
   "cell_type": "code",
   "execution_count": 62,
   "metadata": {
    "tags": []
   },
   "outputs": [
    {
     "output_type": "stream",
     "name": "stdout",
     "text": "Manchester City\n/manchester-city/startseite/verein/281/saison_id/2019\nLiverpool FC\n/fc-liverpool/startseite/verein/31/saison_id/2019\nChelsea FC\n/fc-chelsea/startseite/verein/631/saison_id/2019\nManchester United\n/manchester-united/startseite/verein/985/saison_id/2019\nTottenham Hotspur\n/tottenham-hotspur/startseite/verein/148/saison_id/2019\nArsenal FC\n/fc-arsenal/startseite/verein/11/saison_id/2019\nLeicester City\n/leicester-city/startseite/verein/1003/saison_id/2019\nEverton FC\n/fc-everton/startseite/verein/29/saison_id/2019\nWolverhampton Wanderers\n/wolverhampton-wanderers/startseite/verein/543/saison_id/2019\nWest Ham United\n/west-ham-united/startseite/verein/379/saison_id/2019\nAston Villa\n/aston-villa/startseite/verein/405/saison_id/2019\nBrighton & Hove Albion\n/brighton-amp-hove-albion/startseite/verein/1237/saison_id/2019\nSouthampton FC\n/fc-southampton/startseite/verein/180/saison_id/2019\nNewcastle United\n/newcastle-united/startseite/verein/762/saison_id/2019\nWatford FC\n/fc-watford/startseite/verein/1010/saison_id/2019\nCrystal Palace\n/crystal-palace/startseite/verein/873/saison_id/2019\nAFC Bournemouth\n/afc-bournemouth/startseite/verein/989/saison_id/2019\nBurnley FC\n/fc-burnley/startseite/verein/1132/saison_id/2019\nNorwich City\n/norwich-city/startseite/verein/1123/saison_id/2019\nSheffield United\n/sheffield-united/startseite/verein/350/saison_id/2019\nNorwich\n/norwich-city/spielplan/verein/1123/saison_id/2019\nBurnley\n/fc-burnley/spielplan/verein/1132/saison_id/2019\nBournemouth\n/afc-bournemouth/spielplan/verein/989/saison_id/2019\nSouthampton\n/fc-southampton/spielplan/verein/180/saison_id/2019\nSpurs\n/tottenham-hotspur/spielplan/verein/148/saison_id/2019\nLeicester\n/leicester-city/spielplan/verein/1003/saison_id/2019\nSheffield Utd.\n/sheffield-united/spielplan/verein/350/saison_id/2019\nEverton\n/fc-everton/spielplan/verein/29/saison_id/2019\nBrighton\n/brighton-amp-hove-albion/spielplan/verein/1237/saison_id/2019\nNewcastle\n/newcastle-united/spielplan/verein/762/saison_id/2019\nWolves\n/wolverhampton-wanderers/spielplan/verein/543/saison_id/2019\nCrystal Palace\n/crystal-palace/spielplan/verein/873/saison_id/2019\nWatford\n/fc-watford/spielplan/verein/1010/saison_id/2019\nMan City\n/manchester-city/spielplan/verein/281/saison_id/2019\nAston Villa\n/aston-villa/spielplan/verein/405/saison_id/2019\nArsenal\n/fc-arsenal/spielplan/verein/11/saison_id/2019\nMan Utd\n/manchester-united/spielplan/verein/985/saison_id/2019\nWest Ham\n/west-ham-united/spielplan/verein/379/saison_id/2019\nLiverpool\n/fc-liverpool/spielplan/verein/31/saison_id/2019\nChelsea\n/fc-chelsea/spielplan/verein/631/saison_id/2019\n"
    }
   ],
   "source": [
    "import pprint\n",
    "\n",
    "team_df = []\n",
    "\n",
    "teamnames = []\n",
    "teamurls = []\n",
    "for teamlink in teamlinks:\n",
    "\n",
    "    #pprint.pprint(teamlink.__dict__)\n",
    "    team_dict = teamlink.__dict__\n",
    "\n",
    "    name = team_dict[\"contents\"][0]\n",
    "    url = team_dict[\"attrs\"][\"href\"]\n",
    "\n",
    "    already_flag = False\n",
    "    \n",
    "    for link in teamurls:\n",
    "        if link == url:\n",
    "            already_flag = True\n",
    "            break\n",
    "    \n",
    "    if team_dict[\"contents\"][0].find(\"<img\") == -1 and already_flag == False:\n",
    "        teamnames.append(team_dict[\"contents\"][0])\n",
    "        teamurls.append(team_dict[\"attrs\"][\"href\"])\n",
    "        print(team_dict[\"contents\"][0])\n",
    "        print(team_dict[\"attrs\"][\"href\"])\n",
    "        \n",
    "team_df = pd.DataFrame({\"TeamName\":teamnames, \"URL\":teamurls})"
   ]
  },
  {
   "cell_type": "code",
   "execution_count": 16,
   "metadata": {},
   "outputs": [],
   "source": [
    "\n",
    "for i in range(len(team_links)):\n",
    "    team_links[i] = tmkt_link + team_links[i]\n"
   ]
  },
  {
   "cell_type": "code",
   "execution_count": 17,
   "metadata": {
    "tags": []
   },
   "outputs": [],
   "source": [
    "# Get Player Links\n",
    "\n",
    "# Create an empty list for our player links to go into\n",
    "player_links = []\n",
    "\n",
    "# Run the scraper through each of our 20 team links\n",
    "for i in range(len(team_links)):\n",
    "    # Download and process the team page\n",
    "    page = team_links[i]\n",
    "    tree = requests.get(page, headers=headers)\n",
    "    soup = BeautifulSoup(tree.content, \"html.parser\")\n",
    "\n",
    "    # Extract all links\n",
    "    links = soup.select(\"a.spielprofil_tooltip\")\n",
    "\n",
    "    #For each link, extract the location that it is pointing to\n",
    "    for j in range(len(links)):\n",
    "        player_links.append(links[j].get(\"href\"))\n",
    "        #print(player_links[j])\n",
    "        \n",
    "#Add the location to the end of the transfermarkt domain to make it ready to scrape\n",
    "for j in range(len(player_links)):\n",
    "    player_links[j] = tm_link + player_links[j]\n",
    "\n",
    "    # The page list the players more than onve - lets use list(set(XXX)) to remove the duplicates\n",
    "player_links = list(set(player_links))"
   ]
  },
  {
   "cell_type": "code",
   "execution_count": 18,
   "metadata": {
    "tags": [
     "outputPrepend"
    ]
   },
   "outputs": [
    {
     "output_type": "stream",
     "name": "stdout",
     "text": "5488\n[ 194 ]: https://www.transfermarkt.co.uk/eldin-jakupovic/profil/spieler/2857\n[ 195 ]: https://www.transfermarkt.co.uk/jordan-henderson/profil/spieler/61651\n[ 196 ]: https://www.transfermarkt.co.uk/ethan-laird/profil/spieler/531679\n[ 197 ]: https://www.transfermarkt.co.uk/trezeguet/profil/spieler/234189\n[ 198 ]: https://www.transfermarkt.co.uk/mohamed-elneny/profil/spieler/160438\n[ 199 ]: https://www.transfermarkt.co.uk/kasper-schmeichel/profil/spieler/16911\n[ 200 ]: https://www.transfermarkt.co.uk/alex-iwobi/profil/spieler/242631\n[ 201 ]: https://www.transfermarkt.co.uk/rodri/profil/spieler/357565\n[ 202 ]: https://www.transfermarkt.co.uk/sean-longstaff/profil/spieler/346707\n[ 203 ]: https://www.transfermarkt.co.uk/takumi-minamino/profil/spieler/165793\n[ 204 ]: https://www.transfermarkt.co.uk/davinson-sanchez/profil/spieler/341429\n[ 205 ]: https://www.transfermarkt.co.uk/ruben-neves/profil/spieler/225161\n[ 206 ]: https://www.transfermarkt.co.uk/phil-jones/profil/spieler/117996\n[ 207 ]: https://www.transfermarkt.co.uk/jan-bednarek/profil/spieler/243028\n[ 208 ]: https://www.transfermarkt.co.uk/luka-ilic/profil/spieler/429790\n[ 209 ]: https://www.transfermarkt.co.uk/mark-noble/profil/spieler/31835\n[ 210 ]: https://www.transfermarkt.co.uk/florin-andone/profil/spieler/177065\n[ 211 ]: https://www.transfermarkt.co.uk/joel-matip/profil/spieler/82105\n[ 212 ]: https://www.transfermarkt.co.uk/ben-davies/profil/spieler/192765\n[ 213 ]: https://www.transfermarkt.co.uk/reece-james/profil/spieler/472423\n[ 214 ]: https://www.transfermarkt.co.uk/marcos-rojo/profil/spieler/93176\n[ 215 ]: https://www.transfermarkt.co.uk/kepa/profil/spieler/192279\n[ 216 ]: https://www.transfermarkt.co.uk/alfie-whiteman/profil/spieler/282823\n[ 217 ]: https://www.transfermarkt.co.uk/armando-broja/profil/spieler/571743\n[ 218 ]: https://www.transfermarkt.co.uk/adrien-silva/profil/spieler/56810\n[ 219 ]: https://www.transfermarkt.co.uk/riyad-mahrez/profil/spieler/171424\n[ 220 ]: https://www.transfermarkt.co.uk/daniel-amartey/profil/spieler/214056\n[ 221 ]: https://www.transfermarkt.co.uk/alireza-jahanbakhsh/profil/spieler/213268\n[ 222 ]: https://www.transfermarkt.co.uk/mateo-kovacic/profil/spieler/51471\n[ 223 ]: https://www.transfermarkt.co.uk/marlos-moreno/profil/spieler/345654\n[ 224 ]: https://www.transfermarkt.co.uk/cesar-azpilicueta/profil/spieler/57500\n[ 225 ]: https://www.transfermarkt.co.uk/kieran-tierney/profil/spieler/300716\n[ 226 ]: https://www.transfermarkt.co.uk/willy-boly/profil/spieler/142310\n[ 227 ]: https://www.transfermarkt.co.uk/goncalo-cardoso/profil/spieler/587106\n[ 228 ]: https://www.transfermarkt.co.uk/leandro-trossard/profil/spieler/144028\n[ 229 ]: https://www.transfermarkt.co.uk/dwight-gayle/profil/spieler/196522\n[ 230 ]: https://www.transfermarkt.co.uk/joelinton/profil/spieler/333241\n[ 231 ]: https://www.transfermarkt.co.uk/mason-mount/profil/spieler/346483\n[ 232 ]: https://www.transfermarkt.co.uk/odion-ighalo/profil/spieler/62121\n[ 233 ]: https://www.transfermarkt.co.uk/pedro-neto/profil/spieler/487465\n[ 234 ]: https://www.transfermarkt.co.uk/lukasz-fabianski/profil/spieler/29692\n[ 235 ]: https://www.transfermarkt.co.uk/grady-diangana/profil/spieler/342048\n[ 236 ]: https://www.transfermarkt.co.uk/shay-lee-izan/profil/spieler/674975\n[ 237 ]: https://www.transfermarkt.co.uk/sheyi-ojo/profil/spieler/236510\n[ 238 ]: https://www.transfermarkt.co.uk/naby-keita/profil/spieler/302215\n[ 239 ]: https://www.transfermarkt.co.uk/rob-holding/profil/spieler/253341\n[ 240 ]: https://www.transfermarkt.co.uk/bernard/profil/spieler/175169\n[ 241 ]: https://www.transfermarkt.co.uk/henri-lansbury/profil/spieler/44794\n[ 242 ]: https://www.transfermarkt.co.uk/joel-pereira/profil/spieler/192611\n[ 243 ]: https://www.transfermarkt.co.uk/luke-thomas/profil/spieler/505194\n[ 244 ]: https://www.transfermarkt.co.uk/danny-rose/profil/spieler/50174\n[ 245 ]: https://www.transfermarkt.co.uk/danny-ward/profil/spieler/203026\n[ 246 ]: https://www.transfermarkt.co.uk/paul-dummett/profil/spieler/170321\n[ 247 ]: https://www.transfermarkt.co.uk/oliver-skipp/profil/spieler/406638\n[ 248 ]: https://www.transfermarkt.co.uk/xande-silva/profil/spieler/258011\n[ 249 ]: https://www.transfermarkt.co.uk/mohamed-salah/profil/spieler/148455\n[ 250 ]: https://www.transfermarkt.co.uk/matt-clarke/profil/spieler/307497\n[ 251 ]: https://www.transfermarkt.co.uk/raheem-sterling/profil/spieler/134425\n[ 252 ]: https://www.transfermarkt.co.uk/matt-macey/profil/spieler/220491\n[ 253 ]: https://www.transfermarkt.co.uk/dynel-simeu/profil/spieler/503976\n[ 254 ]: https://www.transfermarkt.co.uk/andreas-sondergaard/profil/spieler/462820\n[ 255 ]: https://www.transfermarkt.co.uk/christian-atsu/profil/spieler/186997\n[ 256 ]: https://www.transfermarkt.co.uk/fernandinho/profil/spieler/26267\n[ 257 ]: https://www.transfermarkt.co.uk/fabinho/profil/spieler/225693\n[ 258 ]: https://www.transfermarkt.co.uk/taylor-harwood-bellis/profil/spieler/503977\n[ 259 ]: https://www.transfermarkt.co.uk/dennis-praet/profil/spieler/129588\n[ 260 ]: https://www.transfermarkt.co.uk/calum-chambers/profil/spieler/215118\n[ 261 ]: https://www.transfermarkt.co.uk/bruno-fernandes/profil/spieler/240306\n[ 262 ]: https://www.transfermarkt.co.uk/christian-walton/profil/spieler/208379\n[ 263 ]: https://www.transfermarkt.co.uk/henri-saivet/profil/spieler/51540\n[ 264 ]: https://www.transfermarkt.co.uk/ryan-sessegnon/profil/spieler/392775\n[ 265 ]: https://www.transfermarkt.co.uk/taiwo-awoniyi/profil/spieler/295313\n[ 266 ]: https://www.transfermarkt.co.uk/bernardo-silva/profil/spieler/241641\n[ 267 ]: https://www.transfermarkt.co.uk/claudio-bravo/profil/spieler/40423\n[ 268 ]: https://www.transfermarkt.co.uk/roberto/profil/spieler/37403\n[ 269 ]: https://www.transfermarkt.co.uk/declan-rice/profil/spieler/357662\n[ 270 ]: https://www.transfermarkt.co.uk/scott-mctominay/profil/spieler/315969\n[ 271 ]: https://www.transfermarkt.co.uk/fousseni-diabate/profil/spieler/364861\n[ 272 ]: https://www.transfermarkt.co.uk/shane-long/profil/spieler/37304\n[ 273 ]: https://www.transfermarkt.co.uk/alex-mccarthy/profil/spieler/95976\n[ 274 ]: https://www.transfermarkt.co.uk/shane-duffy/profil/spieler/119269\n[ 275 ]: https://www.transfermarkt.co.uk/joe-willock/profil/spieler/340329\n[ 276 ]: https://www.transfermarkt.co.uk/pablo-mari/profil/spieler/210178\n[ 277 ]: https://www.transfermarkt.co.uk/chris-smalling/profil/spieler/103427\n[ 278 ]: https://www.transfermarkt.co.uk/virgil-van-dijk/profil/spieler/139208\n[ 279 ]: https://www.transfermarkt.co.uk/gabriel-jesus/profil/spieler/363205\n[ 280 ]: https://www.transfermarkt.co.uk/eddie-nketiah/profil/spieler/340324\n[ 281 ]: https://www.transfermarkt.co.uk/jesse-lingard/profil/spieler/141660\n[ 282 ]: https://www.transfermarkt.co.uk/faustino-anjorin/profil/spieler/433181\n[ 283 ]: https://www.transfermarkt.co.uk/lucas-digne/profil/spieler/126664\n[ 284 ]: https://www.transfermarkt.co.uk/eric-dier/profil/spieler/175722\n[ 285 ]: https://www.transfermarkt.co.uk/jamaal-lascelles/profil/spieler/183318\n[ 286 ]: https://www.transfermarkt.co.uk/anthony-gordon/profil/spieler/503733\n[ 287 ]: https://www.transfermarkt.co.uk/adrian/profil/spieler/71271\n[ 288 ]: https://www.transfermarkt.co.uk/jarrod-bowen/profil/spieler/314875\n[ 289 ]: https://www.transfermarkt.co.uk/robert-sanchez/profil/spieler/403151\n[ 290 ]: https://www.transfermarkt.co.uk/ollie-watkins/profil/spieler/324358\n[ 291 ]: https://www.transfermarkt.co.uk/david-de-gea/profil/spieler/59377\n[ 292 ]: https://www.transfermarkt.co.uk/keinan-davis/profil/spieler/412660\n[ 293 ]: https://www.transfermarkt.co.uk/morgan-gibbs-white/profil/spieler/429014\n[ 294 ]: https://www.transfermarkt.co.uk/tomas-soucek/profil/spieler/283628\n[ 295 ]: https://www.transfermarkt.co.uk/matthew-longstaff/profil/spieler/484387\n[ 296 ]: https://www.transfermarkt.co.uk/aaron-mooy/profil/spieler/123951\n[ 297 ]: https://www.transfermarkt.co.uk/muhamed-besic/profil/spieler/93905\n[ 298 ]: https://www.transfermarkt.co.uk/aaron-connolly/profil/spieler/434207\n[ 299 ]: https://www.transfermarkt.co.uk/jason-steele/profil/spieler/73564\n[ 300 ]: https://www.transfermarkt.co.uk/timothy-fosu-mensah/profil/spieler/315131\n[ 301 ]: https://www.transfermarkt.co.uk/martin-montoya/profil/spieler/68645\n[ 302 ]: https://www.transfermarkt.co.uk/federico-fernandez/profil/spieler/85475\n[ 303 ]: https://www.transfermarkt.co.uk/tosin-adarabioyo/profil/spieler/258878\n[ 304 ]: https://www.transfermarkt.co.uk/matt-smith/profil/spieler/528894\n[ 305 ]: https://www.transfermarkt.co.uk/christian-fuchs/profil/spieler/6636\n[ 306 ]: https://www.transfermarkt.co.uk/manuel-lanzini/profil/spieler/135853\n[ 307 ]: https://www.transfermarkt.co.uk/lucas-torreira/profil/spieler/318077\n[ 308 ]: https://www.transfermarkt.co.uk/emerson/profil/spieler/181778\n[ 309 ]: https://www.transfermarkt.co.uk/sandro-ramirez/profil/spieler/199369\n[ 310 ]: https://www.transfermarkt.co.uk/jordan-hugill/profil/spieler/291544\n[ 311 ]: https://www.transfermarkt.co.uk/scott-hogan/profil/spieler/138783\n[ 312 ]: https://www.transfermarkt.co.uk/jack-grealish/profil/spieler/203460\n[ 313 ]: https://www.transfermarkt.co.uk/conor-coady/profil/spieler/128901\n[ 314 ]: https://www.transfermarkt.co.uk/yoshinori-muto/profil/spieler/230541\n[ 315 ]: https://www.transfermarkt.co.uk/giovani-lo-celso/profil/spieler/348795\n[ 316 ]: https://www.transfermarkt.co.uk/solly-march/profil/spieler/209212\n[ 317 ]: https://www.transfermarkt.co.uk/richarlison/profil/spieler/378710\n[ 318 ]: https://www.transfermarkt.co.uk/sergio-aguero/profil/spieler/26399\n[ 319 ]: https://www.transfermarkt.co.uk/moussa-sissoko/profil/spieler/46001\n[ 320 ]: https://www.transfermarkt.co.uk/scott-carson/profil/spieler/14555\n[ 321 ]: https://www.transfermarkt.co.uk/alisson/profil/spieler/105470\n[ 322 ]: https://www.transfermarkt.co.uk/marvelous-nakamba/profil/spieler/324882\n[ 323 ]: https://www.transfermarkt.co.uk/lee-grant/profil/spieler/13460\n[ 324 ]: https://www.transfermarkt.co.uk/jed-steer/profil/spieler/110867\n[ 325 ]: https://www.transfermarkt.co.uk/sam-mcqueen/profil/spieler/226968\n[ 326 ]: https://www.transfermarkt.co.uk/will-smallbone/profil/spieler/444211\n[ 327 ]: https://www.transfermarkt.co.uk/kelechi-iheanacho/profil/spieler/295330\n[ 328 ]: https://www.transfermarkt.co.uk/josh-sims/profil/spieler/286919\n[ 329 ]: https://www.transfermarkt.co.uk/fred/profil/spieler/191614\n[ 330 ]: https://www.transfermarkt.co.uk/lewis-richards/profil/spieler/571827\n[ 331 ]: https://www.transfermarkt.co.uk/jorginho/profil/spieler/102017\n[ 332 ]: https://www.transfermarkt.co.uk/andreas-christensen/profil/spieler/196948\n[ 333 ]: https://www.transfermarkt.co.uk/hakim-ziyech/profil/spieler/217111\n[ 334 ]: https://www.transfermarkt.co.uk/nathan-redmond/profil/spieler/129078\n[ 335 ]: https://www.transfermarkt.co.uk/indiana-vassilev/profil/spieler/469860\n[ 336 ]: https://www.transfermarkt.co.uk/ayoze-perez/profil/spieler/246968\n[ 337 ]: https://www.transfermarkt.co.uk/angus-gunn/profil/spieler/201574\n[ 338 ]: https://www.transfermarkt.co.uk/lewis-dunk/profil/spieler/148153\n[ 339 ]: https://www.transfermarkt.co.uk/joao-moutinho/profil/spieler/29364\n[ 340 ]: https://www.transfermarkt.co.uk/mohammed-salisu/profil/spieler/563963\n[ 341 ]: https://www.transfermarkt.co.uk/jake-vokins/profil/spieler/421424\n[ 342 ]: https://www.transfermarkt.co.uk/bruno-jordao/profil/spieler/415646\n[ 343 ]: https://www.transfermarkt.co.uk/sofiane-boufal/profil/spieler/232271\n[ 344 ]: https://www.transfermarkt.co.uk/ainsley-maitland-niles/profil/spieler/285845\n[ 345 ]: https://www.transfermarkt.co.uk/neil-taylor/profil/spieler/67416\n[ 346 ]: https://www.transfermarkt.co.uk/tanguy-ndombele/profil/spieler/450936\n[ 347 ]: https://www.transfermarkt.co.uk/ricardo-pereira/profil/spieler/215876\n[ 348 ]: https://www.transfermarkt.co.uk/oskar-buur/profil/spieler/293283\n[ 349 ]: https://www.transfermarkt.co.uk/jordan-pickford/profil/spieler/130164\n[ 350 ]: https://www.transfermarkt.co.uk/antonio-rudiger/profil/spieler/86202\n[ 351 ]: https://www.transfermarkt.co.uk/william-saliba/profil/spieler/495666\n[ 352 ]: https://www.transfermarkt.co.uk/john-mcginn/profil/spieler/193116\n[ 353 ]: https://www.transfermarkt.co.uk/dan-burn/profil/spieler/134270\n[ 354 ]: https://www.transfermarkt.co.uk/zack-steffen/profil/spieler/221624\n[ 355 ]: https://www.transfermarkt.co.uk/henry-lawrence/profil/spieler/580765\n[ 356 ]: https://www.transfermarkt.co.uk/andre-gomes/profil/spieler/221025\n[ 357 ]: https://www.transfermarkt.co.uk/dean-henderson/profil/spieler/258919\n[ 358 ]: https://www.transfermarkt.co.uk/jonas-lossl/profil/spieler/48870\n[ 359 ]: https://www.transfermarkt.co.uk/ante-palaversa/profil/spieler/371003\n[ 360 ]: https://www.transfermarkt.co.uk/harvey-elliott/profil/spieler/565822\n[ 361 ]: https://www.transfermarkt.co.uk/weston-mckennie/profil/spieler/332697\n[ 362 ]: https://www.transfermarkt.co.uk/caglar-soyuncu/profil/spieler/320141\n[ 363 ]: https://www.transfermarkt.co.uk/joel-veltman/profil/spieler/111195\n[ 364 ]: https://www.transfermarkt.co.uk/kelland-watts/profil/spieler/484389\n[ 365 ]: https://www.transfermarkt.co.uk/danny-ings/profil/spieler/134294\n[ 366 ]: https://www.transfermarkt.co.uk/mbwana-samatta/profil/spieler/182201\n[ 367 ]: https://www.transfermarkt.co.uk/davide-zappacosta/profil/spieler/173859\n[ 368 ]: https://www.transfermarkt.co.uk/fikayo-tomori/profil/spieler/303254\n[ 369 ]: https://www.transfermarkt.co.uk/joe-hart/profil/spieler/40204\n[ 370 ]: https://www.transfermarkt.co.uk/javier-manquillo/profil/spieler/162029\n[ 371 ]: https://www.transfermarkt.co.uk/ovie-ejaria/profil/spieler/337284\n[ 372 ]: https://www.transfermarkt.co.uk/davy-propper/profil/spieler/79027\n[ 373 ]: https://www.transfermarkt.co.uk/ederson/profil/spieler/238223\n[ 374 ]: https://www.transfermarkt.co.uk/callum-hudson-odoi/profil/spieler/392768\n[ 375 ]: https://www.transfermarkt.co.uk/adama-traore/profil/spieler/204103\n[ 376 ]: https://www.transfermarkt.co.uk/james-ward-prowse/profil/spieler/181579\n[ 377 ]: https://www.transfermarkt.co.uk/wesley/profil/spieler/381362\n[ 378 ]: https://www.transfermarkt.co.uk/fraser-forster/profil/spieler/52570\n[ 379 ]: https://www.transfermarkt.co.uk/rolando-aarons/profil/spieler/258188\n[ 380 ]: https://www.transfermarkt.co.uk/teden-mengi/profil/spieler/548470\n[ 381 ]: https://www.transfermarkt.co.uk/jamie-vardy/profil/spieler/197838\n[ 382 ]: https://www.transfermarkt.co.uk/ezri-konsa/profil/spieler/413403\n[ 383 ]: https://www.transfermarkt.co.uk/arthur-masuaku/profil/spieler/181380\n[ 384 ]: https://www.transfermarkt.co.uk/cole-palmer/profil/spieler/568177\n[ 385 ]: https://www.transfermarkt.co.uk/moise-kean/profil/spieler/364135\n[ 386 ]: https://www.transfermarkt.co.uk/hugo-lloris/profil/spieler/17965\n[ 387 ]: https://www.transfermarkt.co.uk/curtis-jones/profil/spieler/433188\n[ 388 ]: https://www.transfermarkt.co.uk/glenn-murray/profil/spieler/45693\n[ 389 ]: https://www.transfermarkt.co.uk/luke-shaw/profil/spieler/183288\n[ 390 ]: https://www.transfermarkt.co.uk/filip-benkovic/profil/spieler/293168\n[ 391 ]: https://www.transfermarkt.co.uk/jonny-evans/profil/spieler/42412\n[ 392 ]: https://www.transfermarkt.co.uk/ian-maatsen/profil/spieler/485585\n[ 393 ]: https://www.transfermarkt.co.uk/alexis-mac-allister/profil/spieler/534033\n[ 394 ]: https://www.transfermarkt.co.uk/adam-lallana/profil/spieler/43530\n[ 395 ]: https://www.transfermarkt.co.uk/florian-lejeune/profil/spieler/127108\n[ 396 ]: https://www.transfermarkt.co.uk/isaac-hayden/profil/spieler/206225\n[ 397 ]: https://www.transfermarkt.co.uk/harry-wilson/profil/spieler/279455\n[ 398 ]: https://www.transfermarkt.co.uk/andreas-pereira/profil/spieler/203394\n[ 399 ]: https://www.transfermarkt.co.uk/robert-snodgrass/profil/spieler/22614\n[ 400 ]: https://www.transfermarkt.co.uk/granit-xhaka/profil/spieler/111455\n[ 401 ]: https://www.transfermarkt.co.uk/gylfi-sigurdsson/profil/spieler/90466\n[ 402 ]: https://www.transfermarkt.co.uk/pascal-gross/profil/spieler/82873\n[ 403 ]: https://www.transfermarkt.co.uk/dale-stephens/profil/spieler/49755\n[ 404 ]: https://www.transfermarkt.co.uk/yan-valery/profil/spieler/406008\n[ 405 ]: https://www.transfermarkt.co.uk/leonardo-campana/profil/spieler/606872\n[ 406 ]: https://www.transfermarkt.co.uk/daniel-podence/profil/spieler/256977\n[ 407 ]: https://www.transfermarkt.co.uk/eberechi-eze/profil/spieler/479999\n[ 408 ]: https://www.transfermarkt.co.uk/theo-walcott/profil/spieler/33713\n[ 409 ]: https://www.transfermarkt.co.uk/alex-oxlade-chamberlain/profil/spieler/143424\n[ 410 ]: https://www.transfermarkt.co.uk/demarai-gray/profil/spieler/292417\n[ 411 ]: https://www.transfermarkt.co.uk/darren-randolph/profil/spieler/51321\n[ 412 ]: https://www.transfermarkt.co.uk/ciaran-clark/profil/spieler/98240\n[ 413 ]: https://www.transfermarkt.co.uk/anwar-el-ghazi/profil/spieler/183720\n[ 414 ]: https://www.transfermarkt.co.uk/fabian-delph/profil/spieler/50362\n[ 415 ]: https://www.transfermarkt.co.uk/caoimhin-kelleher/profil/spieler/340918\n[ 416 ]: https://www.transfermarkt.co.uk/nemanja-matic/profil/spieler/74683\n[ 417 ]: https://www.transfermarkt.co.uk/james-garner/profil/spieler/505219\n[ 418 ]: https://www.transfermarkt.co.uk/andriy-yarmolenko/profil/spieler/69015\n[ 419 ]: https://www.transfermarkt.co.uk/cameron-carter-vickers/profil/spieler/341049\n[ 420 ]: https://www.transfermarkt.co.uk/roberto-firmino/profil/spieler/131789\n[ 421 ]: https://www.transfermarkt.co.uk/sokratis/profil/spieler/34322\n[ 422 ]: https://www.transfermarkt.co.uk/harrison-reed/profil/spieler/226973\n[ 423 ]: https://www.transfermarkt.co.uk/roderick-miranda/profil/spieler/87856\n[ 424 ]: https://www.transfermarkt.co.uk/loris-karius/profil/spieler/85864\n[ 425 ]: https://www.transfermarkt.co.uk/christian-pulisic/profil/spieler/315779\n[ 426 ]: https://www.transfermarkt.co.uk/eric-bailly/profil/spieler/286384\n[ 427 ]: https://www.transfermarkt.co.uk/axel-tuanzebe/profil/spieler/342046\n[ 428 ]: https://www.transfermarkt.co.uk/miguel-almiron/profil/spieler/272999\n[ 429 ]: https://www.transfermarkt.co.uk/matteo-guendouzi/profil/spieler/465830\n[ 430 ]: https://www.transfermarkt.co.uk/erik-lamela/profil/spieler/111630\n[ 431 ]: https://www.transfermarkt.co.uk/jean-philippe-gbamin/profil/spieler/182894\n[ 432 ]: https://www.transfermarkt.co.uk/hector-bellerin/profil/spieler/191217\n[ 433 ]: https://www.transfermarkt.co.uk/steven-alzate/profil/spieler/476237\n[ 434 ]: https://www.transfermarkt.co.uk/yangel-herrera/profil/spieler/378293\n[ 435 ]: https://www.transfermarkt.co.uk/anthony-martial/profil/spieler/182877\n[ 436 ]: https://www.transfermarkt.co.uk/shkodran-mustafi/profil/spieler/88590\n[ 437 ]: https://www.transfermarkt.co.uk/hamza-choudhury/profil/spieler/341501\n[ 438 ]: https://www.transfermarkt.co.uk/daniel-james/profil/spieler/319301\n[ 439 ]: https://www.transfermarkt.co.uk/thiago/profil/spieler/60444\n[ 440 ]: https://www.transfermarkt.co.uk/connor-ronan/profil/spieler/337787\n[ 441 ]: https://www.transfermarkt.co.uk/matthew-pennington/profil/spieler/220755\n[ 442 ]: https://www.transfermarkt.co.uk/djibril-sidibe/profil/spieler/161869\n[ 443 ]: https://www.transfermarkt.co.uk/dele-alli/profil/spieler/207929\n[ 444 ]: https://www.transfermarkt.co.uk/james-milner/profil/spieler/3333\n[ 445 ]: https://www.transfermarkt.co.uk/neal-maupay/profil/spieler/217115\n[ 446 ]: https://www.transfermarkt.co.uk/stuart-armstrong/profil/spieler/130765\n[ 447 ]: https://www.transfermarkt.co.uk/leighton-baines/profil/spieler/13507\n[ 448 ]: https://www.transfermarkt.co.uk/kyle-walker-peters/profil/spieler/341051\n[ 449 ]: https://www.transfermarkt.co.uk/james-maddison/profil/spieler/294057\n[ 450 ]: https://www.transfermarkt.co.uk/jose-izquierdo/profil/spieler/147094\n[ 451 ]: https://www.transfermarkt.co.uk/jan-vertonghen/profil/spieler/43250\n[ 452 ]: https://www.transfermarkt.co.uk/deandre-yedlin/profil/spieler/255916\n[ 453 ]: https://www.transfermarkt.co.uk/jack-clarke/profil/spieler/559794\n[ 454 ]: https://www.transfermarkt.co.uk/mathew-ryan/profil/spieler/128969\n"
    }
   ],
   "source": [
    "\n",
    "# Get Player Image\n",
    "\n",
    "# Check Player Link Data\n",
    "for i in range(len(player_links)):\n",
    "    print(\"[\",i,\"]:\",player_links[i])\n",
    "    # Take sit and structure html\n",
    "    page = player_links[i]\n",
    "    tree = requests.get(page, headers=headers)\n",
    "    soup = BeautifulSoup(tree.content, \"html.parser\")\n",
    "    \n",
    "    #print(\"soup[\",i,\"]\",soup)\n",
    "    # Find image and save it with the player's name\n",
    "    # Find the player's name\n",
    "    name = soup.find_all(\"h1\")\n",
    "    #print(\"name[\",i,\"]\",name)\n",
    "    \n",
    "\n",
    "    # Use the name to call the image\n",
    "    image = soup.find_all(\"img\",{\"title\":name[0].text})\n",
    "    \n",
    "    #print(\"image[\",i,\"]\",image)\n",
    "    # Extract the location of the image. We also need to strip the text after \"?lm\", so lets do that with split\n",
    "    src = image[0].get('src').split(\"?lm\")[0]    \n",
    "\n",
    "    # Save the image under the player's name\n",
    "    with open(\"./image/\" + name[0].text+\".jpg\",\"wb\") as f:\n",
    "        f.write(requests.get(src).content)\n",
    "    "
   ]
  },
  {
   "cell_type": "code",
   "execution_count": null,
   "metadata": {},
   "outputs": [],
   "source": []
  }
 ],
 "metadata": {
  "language_info": {
   "codemirror_mode": {
    "name": "ipython",
    "version": 3
   },
   "file_extension": ".py",
   "mimetype": "text/x-python",
   "name": "python",
   "nbconvert_exporter": "python",
   "pygments_lexer": "ipython3",
   "version": "3.8.3-final"
  },
  "orig_nbformat": 2,
  "kernelspec": {
   "name": "python36464bit1f3dd015342847bdb5a4b015a132a20d",
   "display_name": "Python 3.6.4 64-bit"
  }
 },
 "nbformat": 4,
 "nbformat_minor": 2
}