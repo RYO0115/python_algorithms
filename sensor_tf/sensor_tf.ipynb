{
 "metadata": {
  "language_info": {
   "codemirror_mode": {
    "name": "ipython",
    "version": 3
   },
   "file_extension": ".py",
   "mimetype": "text/x-python",
   "name": "python",
   "nbconvert_exporter": "python",
   "pygments_lexer": "ipython3",
   "version": "3.8.3-final"
  },
  "orig_nbformat": 2,
  "kernelspec": {
   "name": "python3",
   "display_name": "Python 3"
  }
 },
 "nbformat": 4,
 "nbformat_minor": 2,
 "cells": [
  {
   "cell_type": "code",
   "execution_count": 2,
   "metadata": {},
   "outputs": [],
   "source": [
    "import numpy as np\n",
    "import pandas as pd\n",
    "import matplotlib.pyplot as plt"
   ]
  },
  {
   "cell_type": "code",
   "execution_count": 10,
   "metadata": {},
   "outputs": [
    {
     "output_type": "stream",
     "name": "stdout",
     "text": [
      "[[0. 0. 0.]\n [0. 0. 0.]\n [0. 0. 0.]]\n"
     ]
    }
   ],
   "source": [
    "mat = np.zeros([3,3])\n"
   ]
  },
  {
   "cell_type": "code",
   "execution_count": 55,
   "metadata": {},
   "outputs": [],
   "source": [
    "class SensorTF:\n",
    "    def __init__(self, x, y, z, roll, pitch, yaw, radians=True):\n",
    "        self._x     = x\n",
    "        self._y     = y\n",
    "        self._z     = z\n",
    "        self._roll  = roll\n",
    "        self._pitch = pitch\n",
    "        self._yaw   = yaw\n",
    "\n",
    "        if radians == False:\n",
    "            self._roll  *= np.pi / 180.0\n",
    "            self._pitch *= np.pi / 180.0\n",
    "            self._yaw   *= np.pi / 180.0\n",
    "\n",
    "        self._rot   = np.zeros([4,4])\n",
    "        self._rotx  = np.zeros([4,4])\n",
    "        self._roty  = np.zeros([4,4])\n",
    "        self._rotz  = np.zeros([4,4])\n",
    "\n",
    "        self.CreateXRotMat()\n",
    "        self.CreateYRotMat()\n",
    "        self.CreateZRotMat()\n",
    "\n",
    "    \n",
    "\n",
    "    def CreateXRotMat(self):\n",
    "        self._rotx[0,0] = 1.0\n",
    "        cos = np.cos(self._roll)\n",
    "        sin = np.sin(self._roll)\n",
    "        self._rotx[1,1] = cos\n",
    "        self._rotx[1,2] = -sin\n",
    "        self._rotx[2,1] = sin\n",
    "        self._rotx[2,2] = cos\n",
    "        #print(self._rotx)\n",
    "    \n",
    "    def CreateYRotMat(self):\n",
    "        self._roty[1,1] = 1.0\n",
    "        cos = np.cos(self._pitch)\n",
    "        sin = np.sin(self._pitch)\n",
    "        self._roty[0,0] = cos\n",
    "        self._roty[2,2] = sin\n",
    "        self._roty[2,0] = -sin\n",
    "        self._roty[2,2] = cos\n",
    "        #print(self._roty)\n",
    "\n",
    "    def CreateZRotMat(self):\n",
    "        self._rotz[2,2] = 1.0\n",
    "        cos = np.cos(self._yaw)\n",
    "        sin = np.sin(self._yaw)\n",
    "        self._rotz[0,0] = cos\n",
    "        self._rotz[0,1] = -sin\n",
    "        self._rotz[1,0] = sin\n",
    "        self._rotz[1,1] = cos\n",
    "        #print(self._rotz)\n",
    "\n",
    "    def CreateZYXEuler(self):\n",
    "        self._rot = np.dot(self._rotz, np.dot(self._rotx,self._roty))\n",
    "        #print(self._rot)\n",
    "        return(self._rot)\n",
    "\n",
    "    def CreateTFMat(self):\n",
    "        self.CreateZYXEuler()\n",
    "        self._rot[0,3] = self._x\n",
    "        self._rot[1,3] = self._y\n",
    "        self._rot[2,3] = self._z\n",
    "        self._rot[3,3] = 1.0\n",
    "        print(self._rot)\n",
    "        return(self._rot)\n",
    "        \n",
    "        \n",
    "    \n"
   ]
  },
  {
   "cell_type": "code",
   "execution_count": 56,
   "metadata": {},
   "outputs": [
    {
     "output_type": "stream",
     "name": "stdout",
     "text": [
      "[[ 0.8660254 -0.5        0.         1.       ]\n [ 0.5        0.8660254  0.         0.       ]\n [ 0.         0.         1.         0.       ]\n [ 0.         0.         0.         1.       ]]\n"
     ]
    }
   ],
   "source": [
    "s_tf = SensorTF( 1, 0, 0, 0.0, 0.0, 30, False)\n",
    "#rot = s_tf.CreateZYXEuler()\n",
    "rot = s_tf.CreateTFMat()"
   ]
  },
  {
   "cell_type": "code",
   "execution_count": 60,
   "metadata": {},
   "outputs": [
    {
     "output_type": "stream",
     "name": "stdout",
     "text": [
      "Sensor: (x,y,z)=( 4.330127018922194 , 2.4999999999999996 , 0 )\n[[ 0.8660254  0.5        0.        10.       ]\n [-0.5        0.8660254  0.         0.       ]\n [ 0.         0.         1.         0.       ]\n [ 0.         0.         0.         1.       ]]\nsensor_pos:\n[15.  0.  0.  1.]\n[[ 0.8660254 -0.5        0.         0.       ]\n [ 0.5        0.8660254  0.         0.       ]\n [ 0.         0.         1.         0.       ]\n [ 0.         0.         0.         1.       ]]\nTruck Target Pos:\n[12.99038106  7.5         0.          1.        ]\n"
     ]
    }
   ],
   "source": [
    "# range = 5.0 angle = 30\n",
    "# sensor x = 7.0, y=-1.0 z = 0 heading = -45\n",
    "# Truck x = 10, y = 10 z = 0 heading = 30deg\n",
    "\n",
    "range = 5.0 #[m]\n",
    "angle = 30.0 #[deg]\n",
    "angle *= np.pi / 180.0\n",
    "\n",
    "# Sensor Origin\n",
    "x = range * np.cos(angle)\n",
    "y = range * np.sin(angle)\n",
    "z = 0\n",
    "print(\"Sensor: (x,y,z)=(\", x, \",\", y, \",\", z, \")\")\n",
    "raw_trgt_pos = np.zeros(4)\n",
    "raw_trgt_pos[0] = x\n",
    "raw_trgt_pos[1] = y\n",
    "raw_trgt_pos[2] = z\n",
    "raw_trgt_pos[3] = 1\n",
    "\n",
    "sensor_tf = SensorTF( 10.0, 0.0, 0, 0, 0, -30, False)\n",
    "rot = sensor_tf.CreateTFMat()\n",
    "\n",
    "sensor_trgt_pos = np.dot(rot,raw_pos.T)\n",
    "print(\"sensor_pos:\")\n",
    "print(sensor_trgt_pos)\n",
    "\n",
    "truck_tf        = SensorTF( 0.0, 0.0, 0, 0, 0, 30, False)\n",
    "truck_rot       = truck_tf.CreateTFMat()\n",
    "truck_trgt_pos  = np.dot( truck_rot, sensor_trgt_pos.T)\n",
    "print(\"Truck Target Pos:\")\n",
    "print(truck_trgt_pos)\n"
   ]
  },
  {
   "cell_type": "code",
   "execution_count": null,
   "metadata": {},
   "outputs": [],
   "source": []
  }
 ]
}