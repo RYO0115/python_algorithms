{
 "cells": [
  {
   "cell_type": "code",
   "execution_count": 1,
   "metadata": {},
   "outputs": [],
   "source": [
    "\n",
    "import math\n",
    "import numpy as np\n",
    "import matplotlib.pyplot as plt\n",
    "from PIL import Image, ImageDraw, ImageFont\n",
    "import matplotlib.cm as cm\n",
    "import matplotlib.patches as patches"
   ]
  },
  {
   "cell_type": "code",
   "execution_count": 2,
   "metadata": {},
   "outputs": [],
   "source": [
    "\n",
    "class Point:\n",
    "    def __init__(self):\n",
    "        self.x = None\n",
    "        self.y = None\n",
    "        self.z = None\n",
    "\n",
    "        self.id = None"
   ]
  },
  {
   "cell_type": "code",
   "execution_count": 66,
   "metadata": {},
   "outputs": [],
   "source": [
    "\n",
    "def ReadXYZFile(filedir, partition = \" \"):\n",
    "    points = []\n",
    "    point_size = 0\n",
    "    with open(filedir, \"r\") as f:\n",
    "        line_num = 0\n",
    "        for line in f:\n",
    "            if line_num == 0:\n",
    "                point_size = int(line)\n",
    "                print(point_size)\n",
    "                #points = [Point() for i in range(point_size)]\n",
    "                line_num = line_num + 1\n",
    "            else:\n",
    "                items = line.split(partition)\n",
    "                p = Point()\n",
    "                p.x = float(items[0])\n",
    "                p.y = float(items[1])\n",
    "                p.z = float(items[2])\n",
    "                p.id = int(items[3])\n",
    "                #points[line_num-1] = p\n",
    "                points.append(p)\n",
    "                line_num = line_num + 1\n",
    "                \n",
    "    return(points)\n",
    "\n",
    "\n"
   ]
  },
  {
   "cell_type": "code",
   "execution_count": 67,
   "metadata": {},
   "outputs": [],
   "source": [
    "def GetClusterNum(points):\n",
    "    max_cluster_id = 0\n",
    "    for p in points:\n",
    "        if p.id > max_cluster_id:\n",
    "            max_cluster_id = p.id\n",
    "\n",
    "    return(max_cluster_id)"
   ]
  },
  {
   "cell_type": "code",
   "execution_count": 68,
   "metadata": {},
   "outputs": [
    {
     "name": "stdout",
     "output_type": "stream",
     "text": [
      "40\n",
      "40\n",
      "0 :( 1.0 , 1.0 , 0.0 ) ::  1\n",
      "1 :( 1.0 , 0.5 , 0.0 ) ::  1\n",
      "2 :( 0.5 , 1.0 , 0.0 ) ::  1\n",
      "3 :( 1.0 , 1.5 , 0.0 ) ::  1\n",
      "4 :( 3.0 , 3.0 , 0.0 ) ::  2\n",
      "5 :( 3.0 , 3.5 , 0.0 ) ::  2\n",
      "6 :( 3.5 , 3.0 , 0.0 ) ::  2\n",
      "7 :( 3.5 , 3.5 , 0.0 ) ::  2\n",
      "8 :( 3.0 , 5.0 , 0.0 ) ::  2\n",
      "9 :( 3.0 , 5.5 , 0.0 ) ::  2\n",
      "10 :( 3.5 , 5.0 , 0.0 ) ::  2\n",
      "11 :( 3.5 , 5.5 , 0.0 ) ::  2\n",
      "12 :( 10.0 , 10.0 , 0.0 ) ::  4\n",
      "13 :( 10.0 , 10.5 , 0.0 ) ::  4\n",
      "14 :( 10.5 , 10.0 , 0.0 ) ::  4\n",
      "15 :( 10.5 , 10.5 , 0.0 ) ::  4\n",
      "16 :( 15.0 , 15.0 , 0.0 ) ::  6\n",
      "17 :( 15.0 , 15.5 , 0.0 ) ::  6\n",
      "18 :( 15.5 , 15.0 , 0.0 ) ::  6\n",
      "19 :( 15.5 , 15.5 , 0.0 ) ::  6\n",
      "20 :( 0.0 , 15.0 , 0.0 ) ::  3\n",
      "21 :( 0.0 , 15.5 , 0.0 ) ::  3\n",
      "22 :( 0.5 , 14.0 , 0.0 ) ::  3\n",
      "23 :( 0.5 , 13.0 , 0.0 ) ::  3\n",
      "24 :( 10.0 , 10.0 , 0.0 ) ::  4\n",
      "25 :( 10.0 , 11.5 , 0.0 ) ::  4\n",
      "26 :( 10.0 , 9.0 , 0.0 ) ::  4\n",
      "27 :( 10.0 , 8.0 , 0.0 ) ::  4\n",
      "28 :( 4.0 , 3.0 , 0.0 ) ::  2\n",
      "29 :( 5.0 , 3.5 , 0.0 ) ::  2\n",
      "30 :( 4.5 , 2.5 , 0.0 ) ::  2\n",
      "31 :( 5.5 , 3.0 , 0.0 ) ::  2\n",
      "32 :( 15.0 , 5.0 , 0.0 ) ::  5\n",
      "33 :( 15.0 , 5.5 , 0.0 ) ::  5\n",
      "34 :( 15.0 , 7.0 , 0.0 ) ::  5\n",
      "35 :( 15.0 , 8.0 , 0.0 ) ::  5\n",
      "36 :( 1.0 , 5.0 , 0.0 ) ::  2\n",
      "37 :( 1.0 , 5.5 , 0.0 ) ::  2\n",
      "38 :( 1.0 , 7.0 , 0.0 ) ::  2\n",
      "39 :( 1.0 , 8.0 , 0.0 ) ::  2\n"
     ]
    },
    {
     "data": {
      "text/plain": [
       "6"
      ]
     },
     "execution_count": 68,
     "metadata": {},
     "output_type": "execute_result"
    }
   ],
   "source": [
    "db_points = []\n",
    "db_points= ReadXYZFile(\"sample_pcl_th2m_result.xyz\")\n",
    "\n",
    "print(len(db_points))\n",
    "\n",
    "id = 0\n",
    "for p in db_points:\n",
    "    print(id,\":(\", p.x, \",\", p.y, \",\", p.z,\") :: \", p.id)\n",
    "    id = id + 1\n",
    "\n",
    "\n",
    "db_cluster_num = GetClusterNum(db_points)\n",
    "db_cluster_num\n",
    "\n"
   ]
  },
  {
   "cell_type": "code",
   "execution_count": 69,
   "metadata": {},
   "outputs": [
    {
     "data": {
      "image/png": "[encoded data removed]",
      "text/plain": [
       "<Figure size 432x288 with 1 Axes>"
      ]
     },
     "metadata": {
      "needs_background": "light"
     },
     "output_type": "display_data"
    }
   ],
   "source": [
    "\n",
    "x = []\n",
    "y = []\n",
    "cluster = []\n",
    "#cluster_size = db.GetClusterSize()\n",
    "cluster_size = db_cluster_num\n",
    "for p in db_points:\n",
    "    x.append(p.x)\n",
    "    y.append(p.y)\n",
    "    cluster.append(p.id / cluster_size)\n",
    "\n",
    "cluster\n",
    "fig, ax = plt.subplots()\n",
    "ax.scatter(x=x, y=y, color = cm.hsv(cluster), s = 5)\n",
    "max_x = 20\n",
    "max_y = 20\n",
    "ax.set_xlim(0,max_x)\n",
    "ax.set_ylim(0,max_y)\n",
    "\n",
    "x_minor_ticks = np.arange(0,max_x,1)\n",
    "x_major_ticks = np.arange(0,max_x,5)\n",
    "y_minor_ticks = np.arange(0,max_y,1)\n",
    "y_major_ticks = np.arange(0,max_y,5)\n",
    "\n",
    "ax.set_xticks(x_minor_ticks, minor=True)\n",
    "ax.set_xticks(x_major_ticks, minor=False)\n",
    "ax.set_yticks(y_minor_ticks, minor=True)\n",
    "ax.set_yticks(y_major_ticks, minor=False)\n",
    "\n",
    "ax.grid(which=\"major\", color=\"gray\", linestyle=\"solid\")\n",
    "ax.grid(which=\"minor\", color=\"lightgray\", linestyle=\"dotted\")\n",
    "ax.set_aspect('equal')"
   ]
  },
  {
   "cell_type": "code",
   "execution_count": null,
   "metadata": {},
   "outputs": [],
   "source": []
  }
 ],
 "metadata": {
  "kernelspec": {
   "display_name": "Python 3",
   "language": "python",
   "name": "python3"
  },
  "language_info": {
   "codemirror_mode": {
    "name": "ipython",
    "version": 3
   },
   "file_extension": ".py",
   "mimetype": "text/x-python",
   "name": "python",
   "nbconvert_exporter": "python",
   "pygments_lexer": "ipython3",
   "version": "3.8.10"
  },
  "orig_nbformat": 4
 },
 "nbformat": 4,
 "nbformat_minor": 2
}
