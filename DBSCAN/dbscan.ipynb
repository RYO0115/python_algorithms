{
 "cells": [
  {
   "cell_type": "code",
   "execution_count": 12,
   "metadata": {
    "collapsed": true
   },
   "outputs": [],
   "source": [
    "import math\n",
    "import numpy as np\n",
    "import matplotlib.pyplot as plt\n",
    "from PIL import Image, ImageDraw, ImageFont"
   ]
  },
  {
   "cell_type": "code",
   "execution_count": 13,
   "metadata": {
    "collapsed": false
   },
   "outputs": [
    {
     "data": {
      "text/plain": [
       "19.200000000000003"
      ]
     },
     "execution_count": 13,
     "metadata": {},
     "output_type": "execute_result"
    }
   ],
   "source": [
    "0.8 * 0.8 * 30"
   ]
  },
  {
   "cell_type": "code",
   "execution_count": 14,
   "metadata": {
    "collapsed": true
   },
   "outputs": [],
   "source": [
    "from enum import Enum"
   ]
  },
  {
   "cell_type": "code",
   "execution_count": 15,
   "metadata": {
    "collapsed": true
   },
   "outputs": [],
   "source": [
    "class Point:\n",
    "    def __init__(self):\n",
    "        self.x = None\n",
    "        self.y = None\n",
    "        self.z = None\n",
    "\n",
    "        self.id = None\n"
   ]
  },
  {
   "cell_type": "code",
   "execution_count": 16,
   "metadata": {
    "collapsed": true
   },
   "outputs": [],
   "source": [
    "class CLASSIFIED_STATUS(Enum):\n",
    "    SUCCESS = 0\n",
    "    UNCLASSIFIED = -1\n",
    "    NOISE = -2\n",
    "    FAILURE = -3\n",
    "\n",
    "#class CLASSIFIED_STATUS:\n",
    "#    def __init__(self):\n",
    "#        self.SUCCESS = 0\n",
    "#        self.UNCLASSIFIED = -1\n",
    "#        self.NOISE = -2\n",
    "#        self.FAILURE = -3\n",
    "\n",
    "class POINT_STATUS(Enum):\n",
    "    CORE_POINT      = 1\n",
    "    BORDER_POINT    = 2\n",
    "    OTHER           = 0\n"
   ]
  },
  {
   "cell_type": "code",
   "execution_count": 17,
   "metadata": {
    "collapsed": true
   },
   "outputs": [],
   "source": [
    "class DBSCAN:\n",
    "    def __init__(self, points, min_points_th, max_points_th, eps):\n",
    "        self.__min_points_th    = min_points_th\n",
    "        self.__epsiron          = eps\n",
    "        self.__points           = points\n",
    "        self.__points_size      = len(points)\n",
    "\n",
    "        self.__max_points_th    = max_points_th\n",
    "\n",
    "        self.__cluster_size     = None\n",
    "\n",
    "        \n",
    "    \n",
    "    def Run(self):\n",
    "        cluster_id = 1\n",
    "\n",
    "        for point in self.__points:\n",
    "            if point.cluster_id == CLASSIFIED_STATUS.UNCLASSIFIED:\n",
    "                if self.ExpandCluster(point, cluster_id) != CLASSIFIED_STATUS.FAILURE:\n",
    "                    cluster_id = cluster_id + 1\n",
    "        self.__cluster_size = cluster_id\n",
    "        return(cluster_id)\n",
    "\n",
    "    def CalcurateCluster(self, point):\n",
    "        cluster_index = []\n",
    "        index = 0\n",
    "        for p in self.__points:\n",
    "            if self.CalcurateDistance(point, p) <= self.__epsiron:\n",
    "                cluster_index.append(index)\n",
    "                \n",
    "                # Max Cluster Size\n",
    "                #if len(cluster_index) >= self.__max_points_th:\n",
    "                #    break\n",
    "            \n",
    "            index = index + 1\n",
    "            \n",
    "        return(cluster_index)\n",
    "\n",
    "    def ExpandCluster(self, point, cluster_id):\n",
    "        seeds = self.CalcurateCluster(point)\n",
    "        #print(seeds)\n",
    "        if len(seeds) < self.__min_points_th:\n",
    "            #point.cluster_id = 100\n",
    "            point.cluster_id = CLASSIFIED_STATUS.NOISE\n",
    "            return(CLASSIFIED_STATUS.FAILURE)\n",
    "\n",
    "        index = 0\n",
    "        index_core_point = 0\n",
    "\n",
    "        for seed in seeds:\n",
    "            self.__points[seed].cluster_id = cluster_id\n",
    "            if self.CheckSamePoint(self.__points[seed], point) == True:\n",
    "                index_core_point = index\n",
    "            index = index + 1\n",
    "\n",
    "        seeds[index_core_point] = seeds.pop(-1)\n",
    "\n",
    "        for i in range(len(seeds)):\n",
    "            # Range Search\n",
    "            cluster_neighbors = self.CalcurateCluster(self.__points[seeds[i]])\n",
    "\n",
    "            if len(cluster_neighbors) >= self.__min_points_th:\n",
    "                for neighbor in cluster_neighbors:            \n",
    "                    #print(len(seeds))\n",
    "                    \n",
    "                    # Max Cluster Size\n",
    "                    #if len(seeds) >= self.__max_points_th:\n",
    "                    #    return(CLASSIFIED_STATUS.SUCCESS)\n",
    "                    #    break\n",
    "\n",
    "                    if self.__points[neighbor].cluster_id == CLASSIFIED_STATUS.UNCLASSIFIED \\\n",
    "                        or self.__points[neighbor].cluster_id == CLASSIFIED_STATUS.NOISE:\n",
    "                        if self.__points[neighbor].cluster_id == CLASSIFIED_STATUS.UNCLASSIFIED:\n",
    "                            seeds.append(neighbor)\n",
    "                        self.__points[neighbor].cluster_id = cluster_id\n",
    "\n",
    "        return(CLASSIFIED_STATUS.SUCCESS)\n",
    "        \n",
    "\n",
    "\n",
    "\n",
    "    def CalcurateDistance(self, point_core, point_target):\n",
    "        dx = point_target.x - point_core.x\n",
    "        dy = point_target.y - point_core.y\n",
    "        dz = point_target.z - point_core.z\n",
    "\n",
    "        distance = np.sqrt(dx ** 2 + dy ** 2 + dz ** 2)\n",
    "        return(distance)\n",
    "\n",
    "    def CheckSamePoint(self, point1, point2):\n",
    "        distance = self.CalcurateDistance(point1, point2)\n",
    "        if distance < 0.01:\n",
    "            return(True)\n",
    "        else:\n",
    "            return(False)\n",
    "\n",
    "    def CalcurateDoubleDistance(self, point_core, point_target):\n",
    "        dx = point_target.x - point_core.x\n",
    "        dy = point_target.y - point_core.y\n",
    "        dz = point_target.z - point_core.z\n",
    "\n",
    "        double_distance = dx ** 2 + dy ** 2 + dz ** 2\n",
    "        return(double_distance)\n",
    "\n",
    "    def GetTotalPointSize(self):\n",
    "        return(self.__point_size)\n",
    "\n",
    "    def GetMinimumClusterSize(self):\n",
    "        return(self.__min_points_th)\n",
    "    \n",
    "    def GetEpsilon(self):\n",
    "        return(self.__epsiron)\n",
    "\n",
    "    def GetPoints(self):\n",
    "        return(self.__points)\n",
    "\n",
    "    def GetClusterSize(self):\n",
    "        return(self.__cluster_size)\n",
    "\n"
   ]
  },
  {
   "cell_type": "code",
   "execution_count": 18,
   "metadata": {
    "collapsed": true
   },
   "outputs": [],
   "source": [
    "import random\n"
   ]
  },
  {
   "cell_type": "code",
   "execution_count": 19,
   "metadata": {
    "collapsed": true
   },
   "outputs": [],
   "source": [
    "points = [Point() for i in range(100)]\n",
    "for i in range(len(points)):\n",
    "    points[i].x = random.uniform(0,10)\n",
    "    points[i].y = random.uniform(0,10)\n",
    "    points[i].z = 0\n",
    "    points[i].cluster_id = CLASSIFIED_STATUS.UNCLASSIFIED"
   ]
  },
  {
   "cell_type": "code",
   "execution_count": 20,
   "metadata": {
    "collapsed": true
   },
   "outputs": [],
   "source": [
    "min_points_th = 2\n",
    "max_points_th =  30\n",
    "eps = 1"
   ]
  },
  {
   "cell_type": "code",
   "execution_count": 21,
   "metadata": {
    "collapsed": true
   },
   "outputs": [],
   "source": [
    "db = DBSCAN( points, min_points_th, max_points_th, eps)"
   ]
  },
  {
   "cell_type": "code",
   "execution_count": 22,
   "metadata": {
    "collapsed": false
   },
   "outputs": [
    {
     "data": {
      "text/plain": [
       "19"
      ]
     },
     "execution_count": 22,
     "metadata": {},
     "output_type": "execute_result"
    }
   ],
   "source": [
    "db.Run()"
   ]
  },
  {
   "cell_type": "code",
   "execution_count": 23,
   "metadata": {
    "collapsed": true
   },
   "outputs": [],
   "source": [
    "points = db.GetPoints()"
   ]
  },
  {
   "cell_type": "code",
   "execution_count": 24,
   "metadata": {
    "collapsed": false
   },
   "outputs": [
    {
     "name": "stdout",
     "output_type": "stream",
     "text": [
      "( 4.317797287633816 ,\t 6.3514336033143906 ,\t 0 ) : \t 1\n",
      "( 7.881866581620924 ,\t 5.646303005872567 ,\t 0 ) : \t 2\n",
      "( 3.6668957244192435 ,\t 9.022087746373765 ,\t 0 ) : \t 3\n",
      "( 4.619266926201199 ,\t 8.116385817299882 ,\t 0 ) : \t 3\n",
      "( 4.848866970793345 ,\t 9.63360012360743 ,\t 0 ) : \t 3\n",
      "( 5.491370712648153 ,\t 3.4170806878812945 ,\t 0 ) : \t 4\n",
      "( 2.8556665609641474 ,\t 1.7345238498154225 ,\t 0 ) : \t 5\n",
      "( 6.774344834681946 ,\t 9.335143856956261 ,\t 0 ) : \t 6\n",
      "( 5.883968408072684 ,\t 5.228060024027645 ,\t 0 ) : \t 7\n",
      "( 2.2059423730104677 ,\t 3.486176422356162 ,\t 0 ) : \t 8\n",
      "( 5.028401654708655 ,\t 5.3558439514585965 ,\t 0 ) : \t 7\n",
      "( 3.8667534069556675 ,\t 3.326904275062298 ,\t 0 ) : \t 9\n",
      "( 8.155314363207788 ,\t 4.0191452654872615 ,\t 0 ) : \t 10\n",
      "( 8.238279214759231 ,\t 6.923662894715718 ,\t 0 ) : \t 11\n",
      "( 7.423882620231361 ,\t 9.017126221273305 ,\t 0 ) : \t 6\n",
      "( 1.9459936130121824 ,\t 4.992606873925041 ,\t 0 ) : \t 12\n",
      "( 9.150149449683 ,\t 6.178086500432556 ,\t 0 ) : \t 2\n",
      "( 3.2813259729835096 ,\t 9.566534048350908 ,\t 0 ) : \t 3\n",
      "( 0.8273715136902138 ,\t 6.037470576299391 ,\t 0 ) : \t 13\n",
      "( 1.7797343292801293 ,\t 8.575467618297782 ,\t 0 ) : \t CLASSIFIED_STATUS.NOISE\n",
      "( 0.46555522458622045 ,\t 1.5547165794583417 ,\t 0 ) : \t 14\n",
      "( 8.332249303640086 ,\t 3.596202330879427 ,\t 0 ) : \t 10\n",
      "( 8.858470867014027 ,\t 5.504381628203649 ,\t 0 ) : \t 2\n",
      "( 9.669195222034348 ,\t 7.796677044663314 ,\t 0 ) : \t 15\n",
      "( 1.4542639847383787 ,\t 6.428902884613938 ,\t 0 ) : \t 13\n",
      "( 6.975247235396185 ,\t 8.89349987076482 ,\t 0 ) : \t 6\n",
      "( 1.0868358249303478 ,\t 0.7397844077314841 ,\t 0 ) : \t 14\n",
      "( 3.4210876065604046 ,\t 3.435160569450113 ,\t 0 ) : \t 9\n",
      "( 7.10605098832149 ,\t 7.186902447185379 ,\t 0 ) : \t 11\n",
      "( 3.8785350627251445 ,\t 6.745176047722824 ,\t 0 ) : \t 1\n",
      "( 8.312248320265995 ,\t 1.67751776089333 ,\t 0 ) : \t 16\n",
      "( 5.969432770349817 ,\t 4.5672283720373485 ,\t 0 ) : \t 7\n",
      "( 6.4565424460691565 ,\t 4.440037397633423 ,\t 0 ) : \t 7\n",
      "( 5.406700486772008 ,\t 5.169362954429769 ,\t 0 ) : \t 7\n",
      "( 8.28612192774927 ,\t 0.6892429062244332 ,\t 0 ) : \t 16\n",
      "( 8.610027209346475 ,\t 3.831036608734256 ,\t 0 ) : \t 10\n",
      "( 4.666652041722231 ,\t 1.1944833221363604 ,\t 0 ) : \t 17\n",
      "( 8.002615566053805 ,\t 1.9143060319651939 ,\t 0 ) : \t 16\n",
      "( 1.8544029765513204 ,\t 6.663132826161738 ,\t 0 ) : \t 13\n",
      "( 5.563308452229566 ,\t 8.746755618349413 ,\t 0 ) : \t 3\n",
      "( 3.588751668194914 ,\t 6.312096070854926 ,\t 0 ) : \t 1\n",
      "( 8.153944678874693 ,\t 6.808226178450983 ,\t 0 ) : \t 11\n",
      "( 4.302797790727357 ,\t 9.035367661483898 ,\t 0 ) : \t 3\n",
      "( 7.14848303506825 ,\t 3.550972706024872 ,\t 0 ) : \t CLASSIFIED_STATUS.NOISE\n",
      "( 6.359631135356022 ,\t 8.21005649368008 ,\t 0 ) : \t 6\n",
      "( 2.782166199315398 ,\t 4.100039160051422 ,\t 0 ) : \t 8\n",
      "( 1.117644499276551 ,\t 4.838106854072154 ,\t 0 ) : \t 12\n",
      "( 0.47910715253940195 ,\t 1.2302357486611204 ,\t 0 ) : \t 14\n",
      "( 2.9293664209295467 ,\t 1.2062141947247607 ,\t 0 ) : \t 5\n",
      "( 4.1111488768307405 ,\t 4.208063395835272 ,\t 0 ) : \t 9\n",
      "( 8.04384909500267 ,\t 6.914775886088714 ,\t 0 ) : \t 11\n",
      "( 7.754918744216556 ,\t 8.855327394873376 ,\t 0 ) : \t 6\n",
      "( 8.95456470274622 ,\t 8.096421193239182 ,\t 0 ) : \t 15\n",
      "( 1.3536593357150972 ,\t 6.876101112905239 ,\t 0 ) : \t 13\n",
      "( 2.7956985248781328 ,\t 9.323930334428137 ,\t 0 ) : \t 3\n",
      "( 5.888088178828918 ,\t 1.107258921173676 ,\t 0 ) : \t 17\n",
      "( 9.253094742369063 ,\t 3.8748446105219836 ,\t 0 ) : \t 10\n",
      "( 6.894793085113422 ,\t 4.736894788141543 ,\t 0 ) : \t 2\n",
      "( 0.20245356564391748 ,\t 9.462322192842564 ,\t 0 ) : \t CLASSIFIED_STATUS.NOISE\n",
      "( 3.463010435507253 ,\t 8.33409580995368 ,\t 0 ) : \t 3\n",
      "( 3.3420248598678204 ,\t 6.242176647940578 ,\t 0 ) : \t 1\n",
      "( 6.54606671150796 ,\t 6.098915917434104 ,\t 0 ) : \t 2\n",
      "( 5.982403941242671 ,\t 9.115855426877113 ,\t 0 ) : \t 6\n",
      "( 4.001878134790701 ,\t 9.443573670073553 ,\t 0 ) : \t 3\n",
      "( 8.114662036640967 ,\t 7.129989657806109 ,\t 0 ) : \t 11\n",
      "( 1.8765457813538389 ,\t 3.772710562336865 ,\t 0 ) : \t 8\n",
      "( 7.216895119532886 ,\t 5.649463986365983 ,\t 0 ) : \t 2\n",
      "( 0.15512263836015117 ,\t 4.0552282527572885 ,\t 0 ) : \t 18\n",
      "( 8.890564494874678 ,\t 3.8964274112558206 ,\t 0 ) : \t 10\n",
      "( 5.863041843725691 ,\t 4.593317355147438 ,\t 0 ) : \t 7\n",
      "( 0.70942665522854 ,\t 5.139832360412038 ,\t 0 ) : \t 13\n",
      "( 7.426755495465399 ,\t 6.871961336087634 ,\t 0 ) : \t 11\n",
      "( 9.771959906731707 ,\t 5.459228002912674 ,\t 0 ) : \t 2\n",
      "( 5.014080998583022 ,\t 0.7185782422126008 ,\t 0 ) : \t 17\n",
      "( 6.334901319566409 ,\t 0.08407282868319488 ,\t 0 ) : \t CLASSIFIED_STATUS.NOISE\n",
      "( 0.7624008932795046 ,\t 4.35179253642982 ,\t 0 ) : \t 18\n",
      "( 7.0509558665077385 ,\t 9.778527370149986 ,\t 0 ) : \t 6\n",
      "( 4.825482542857977 ,\t 1.6080135973187237 ,\t 0 ) : \t 17\n",
      "( 2.65540230982522 ,\t 6.543563211264201 ,\t 0 ) : \t 1\n",
      "( 1.9927400549510166 ,\t 3.8225300732834935 ,\t 0 ) : \t 8\n",
      "( 0.9374004584285012 ,\t 7.282634311846675 ,\t 0 ) : \t 13\n",
      "( 9.240572183161582 ,\t 0.5299210017818867 ,\t 0 ) : \t 16\n",
      "( 0.7212062323591539 ,\t 1.6726481342207933 ,\t 0 ) : \t 14\n",
      "( 0.7581528590792019 ,\t 3.610059799598515 ,\t 0 ) : \t 18\n",
      "( 6.148622954624022 ,\t 2.5774617072359463 ,\t 0 ) : \t 4\n",
      "( 0.8108881324922801 ,\t 2.1802515571754344 ,\t 0 ) : \t 14\n",
      "( 4.835911047658018 ,\t 8.60091975727952 ,\t 0 ) : \t 3\n",
      "( 1.4250825727729366 ,\t 4.584528630017164 ,\t 0 ) : \t 12\n",
      "( 7.813223232961595 ,\t 1.978585815619479 ,\t 0 ) : \t 16\n",
      "( 9.086547188900237 ,\t 8.886855077117918 ,\t 0 ) : \t 15\n",
      "( 4.858784058724749 ,\t 3.6421234978817774 ,\t 0 ) : \t 4\n",
      "( 2.880132736802862 ,\t 8.907086269915212 ,\t 0 ) : \t 3\n",
      "( 8.286354599293821 ,\t 7.034436723591276 ,\t 0 ) : \t 11\n",
      "( 4.664910893303218 ,\t 0.99510961769668 ,\t 0 ) : \t 17\n",
      "( 4.917972322121532 ,\t 6.126911394733959 ,\t 0 ) : \t 1\n",
      "( 5.220277074120842 ,\t 2.5765045342818036 ,\t 0 ) : \t 4\n",
      "( 1.481454269217496 ,\t 3.013652380602542 ,\t 0 ) : \t 8\n",
      "( 3.4163719791104628 ,\t 0.44807278129755046 ,\t 0 ) : \t 5\n",
      "( 4.647199526720676 ,\t 9.010299709483329 ,\t 0 ) : \t 3\n",
      "( 6.971121734550146 ,\t 5.941331635357346 ,\t 0 ) : \t 2\n"
     ]
    }
   ],
   "source": [
    "for p in points:\n",
    "    print(\"(\", p.x, \",\\t\", p.y, \",\\t\", p.z, \") : \\t\", p.cluster_id)"
   ]
  },
  {
   "cell_type": "code",
   "execution_count": 25,
   "metadata": {
    "collapsed": true
   },
   "outputs": [],
   "source": [
    "import matplotlib.cm as cm"
   ]
  },
  {
   "cell_type": "code",
   "execution_count": 30,
   "metadata": {
    "collapsed": true
   },
   "outputs": [],
   "source": [
    "\n",
    "x = []\n",
    "y = []\n",
    "cluster = []\n",
    "cluster_size = db.GetClusterSize()\n",
    "for p in points:\n",
    "    x.append(p.x)\n",
    "    y.append(p.y)\n",
    "    if p.cluster_id == CLASSIFIED_STATUS.NOISE:\n",
    "        p.cluster_id = -2\n",
    "    cluster.append(p.cluster_id / cluster_size)\n"
   ]
  },
  {
   "cell_type": "code",
   "execution_count": 31,
   "metadata": {
    "collapsed": false
   },
   "outputs": [
    {
     "data": {
      "image/png": "[encoded data removed]",
      "text/plain": [
       "<Figure size 432x288 with 1 Axes>"
      ]
     },
     "metadata": {
      "needs_background": "light"
     },
     "output_type": "display_data"
    }
   ],
   "source": [
    "fig, ax = plt.subplots()\n",
    "ax.scatter(x=x, y=y, color = cm.hsv(cluster), s = 5)\n",
    "ax.grid()"
   ]
  },
  {
   "cell_type": "code",
   "execution_count": 37,
   "metadata": {
    "collapsed": true
   },
   "outputs": [],
   "source": [
    "def SavePoints(filedir, points, partition = \",\"):\n",
    "    with open(filedir, \"w\") as f:\n",
    "        f.write(str(len(points))+\"\\n\")\n",
    "        for point in points:\n",
    "            str_data = str(point.x) + partition + str(point.y) + partition + str(point.z) + partition + str(point.cluster_id) + \"\\n\"\n",
    "            f.write(str_data)"
   ]
  },
  {
   "cell_type": "code",
   "execution_count": 38,
   "metadata": {
    "collapsed": true
   },
   "outputs": [],
   "source": [
    "SavePoints(\"./sample_pcl.xyz\", points, partition=\" \")"
   ]
  },
  {
   "cell_type": "code",
   "execution_count": null,
   "metadata": {},
   "outputs": [],
   "source": []
  }
 ],
 "metadata": {
  "interpreter": {
   "hash": "b3ba2566441a7c06988d0923437866b63cedc61552a5af99d1f4fb67d367b25f"
  },
  "kernelspec": {
   "display_name": "Python 3.6.4 64-bit",
   "language": "python",
   "name": "python3"
  },
  "language_info": {
   "codemirror_mode": {
    "name": "ipython",
    "version": 3
   },
   "file_extension": ".py",
   "mimetype": "text/x-python",
   "name": "python",
   "nbconvert_exporter": "python",
   "pygments_lexer": "ipython3",
   "version": "3.7.3"
  }
 },
 "nbformat": 4,
 "nbformat_minor": 2
}
