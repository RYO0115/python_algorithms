{
 "cells": [
  {
   "cell_type": "code",
   "execution_count": 333,
   "metadata": {
    "collapsed": true
   },
   "outputs": [],
   "source": [
    "import math\n",
    "import numpy as np\n",
    "import matplotlib.pyplot as plt\n",
    "from PIL import Image, ImageDraw, ImageFont\n",
    "import matplotlib.cm as cm\n",
    "import matplotlib.patches as patches\n"
   ]
  },
  {
   "cell_type": "code",
   "execution_count": 334,
   "metadata": {
    "collapsed": false
   },
   "outputs": [
    {
     "data": {
      "text/plain": [
       "19.200000000000003"
      ]
     },
     "execution_count": 334,
     "metadata": {},
     "output_type": "execute_result"
    }
   ],
   "source": [
    "0.8 * 0.8 * 30"
   ]
  },
  {
   "cell_type": "code",
   "execution_count": 335,
   "metadata": {
    "collapsed": true
   },
   "outputs": [],
   "source": [
    "from enum import Enum"
   ]
  },
  {
   "cell_type": "code",
   "execution_count": 336,
   "metadata": {
    "collapsed": true
   },
   "outputs": [],
   "source": [
    "class Point:\n",
    "    def __init__(self):\n",
    "        self.x = None\n",
    "        self.y = None\n",
    "        self.z = None\n",
    "\n",
    "        self.id = None\n"
   ]
  },
  {
   "cell_type": "code",
   "execution_count": 337,
   "metadata": {
    "collapsed": true
   },
   "outputs": [],
   "source": [
    "class CLASSIFIED_STATUS(Enum):\n",
    "    SUCCESS = 0\n",
    "    UNCLASSIFIED = -1\n",
    "    NOISE = -2\n",
    "    FAILURE = -3\n",
    "\n",
    "#class CLASSIFIED_STATUS:\n",
    "#    def __init__(self):\n",
    "#        self.SUCCESS = 0\n",
    "#        self.UNCLASSIFIED = -1\n",
    "#        self.NOISE = -2\n",
    "#        self.FAILURE = -3\n",
    "\n",
    "class POINT_STATUS(Enum):\n",
    "    CORE_POINT      = 1\n",
    "    BORDER_POINT    = 2\n",
    "    OTHER           = 0\n"
   ]
  },
  {
   "cell_type": "code",
   "execution_count": 338,
   "metadata": {
    "collapsed": true
   },
   "outputs": [],
   "source": [
    "class DBSCAN:\n",
    "    def __init__(self, points, min_points_th, max_points_th, eps):\n",
    "        self.__min_points_th    = min_points_th\n",
    "        self.__epsiron          = eps\n",
    "        self.__points           = points\n",
    "        self.__points_size      = len(points)\n",
    "\n",
    "        self.__max_points_th    = max_points_th\n",
    "\n",
    "        self.__cluster_size     = None\n",
    "\n",
    "        \n",
    "    \n",
    "    def Run(self):\n",
    "        cluster_id = 1\n",
    "\n",
    "        for point in self.__points:\n",
    "            if point.cluster_id == CLASSIFIED_STATUS.UNCLASSIFIED:\n",
    "                if self.ExpandCluster(point, cluster_id) != CLASSIFIED_STATUS.FAILURE:\n",
    "                    cluster_id = cluster_id + 1\n",
    "        self.__cluster_size = cluster_id\n",
    "        return(cluster_id)\n",
    "\n",
    "    def CalcurateCluster(self, point):\n",
    "        cluster_index = []\n",
    "        index = 0\n",
    "        #print(\"Search from (\",point.x,\",\", point.y, \")\")\n",
    "        for p in self.__points:\n",
    "            if self.CalcurateDistance(point, p) <= self.__epsiron:\n",
    "                cluster_index.append(index)\n",
    "                #print(\"\\t Point \", index, \"(\", p.x, \",\", p.y, \") Added\")\n",
    "                \n",
    "                # Max Cluster Size\n",
    "                #if len(cluster_index) >= self.__max_points_th:\n",
    "                #    break\n",
    "            \n",
    "            index = index + 1\n",
    "            \n",
    "        return(cluster_index)\n",
    "\n",
    "    def ExpandCluster(self, point, cluster_id):\n",
    "        #print(\"Cluster:\", cluster_id, \" Start Espansion\")\n",
    "        seeds = self.CalcurateCluster(point)\n",
    "        #print(seeds)\n",
    "        #if point.cluster_id == CLASSIFIED_STATUS.UNCLASSIFIED \\\n",
    "        #    and len(seeds) < self.__min_points_th:\n",
    "        if len(seeds) < self.__min_points_th:\n",
    "            #point.cluster_id = 100\n",
    "            point.cluster_id = CLASSIFIED_STATUS.NOISE\n",
    "            #print(\"Finished as Noise\")\n",
    "            return(CLASSIFIED_STATUS.FAILURE)\n",
    "\n",
    "        index = 0\n",
    "        index_core_point = 0\n",
    "\n",
    "        for seed in seeds:\n",
    "            if self.__points[seed].cluster_id == CLASSIFIED_STATUS.UNCLASSIFIED \\\n",
    "                or self.__points[seed].cluster_id == CLASSIFIED_STATUS.NOISE:\n",
    "\n",
    "                self.__points[seed].cluster_id = cluster_id\n",
    "                #print(\"\\t\", cluster_id, \":\", self.__points[seed].x, \",\", self.__points[seed].y)\n",
    "\n",
    "                if self.CheckSamePoint(self.__points[seed], point) == True:\n",
    "                    index_core_point = index\n",
    "                index = index + 1\n",
    "\n",
    "        #seeds[index_core_point] = seeds.pop(-1)\n",
    "\n",
    "        #for i in range(len(seeds)):\n",
    "        i = 0\n",
    "        while i < len(seeds):\n",
    "            # Range Search\n",
    "            #print(\"Cluster:\", cluster_id, \" Neighbor Search :: Seed\", seeds[i])\n",
    "            cluster_neighbors = self.CalcurateCluster(self.__points[seeds[i]])\n",
    "\n",
    "            if len(cluster_neighbors) >= self.__min_points_th:\n",
    "                #self.__points[seeds[i]].cluster_id = cluster_id\n",
    "                for neighbor in cluster_neighbors:            \n",
    "                    #print(len(seeds))\n",
    "                    \n",
    "                    # Max Cluster Size\n",
    "\n",
    "                    if self.__points[neighbor].cluster_id == CLASSIFIED_STATUS.UNCLASSIFIED \\\n",
    "                        or self.__points[neighbor].cluster_id == CLASSIFIED_STATUS.NOISE:\n",
    "                        seeds.append(neighbor)\n",
    "                        self.__points[neighbor].cluster_id = cluster_id\n",
    "                        #print(\"\\t\", cluster_id, \":\", self.__points[neighbor].x, \",\", self.__points[neighbor].y)\n",
    "                        #print(\"\\t\", seeds)\n",
    "\n",
    "                    if len(seeds) >= self.__max_points_th:\n",
    "                        return(CLASSIFIED_STATUS.SUCCESS)\n",
    "\n",
    "            i = i+1\n",
    "\n",
    "        return(CLASSIFIED_STATUS.SUCCESS)\n",
    "        \n",
    "\n",
    "\n",
    "\n",
    "    def CalcurateDistance(self, point_core, point_target):\n",
    "        dx = point_target.x - point_core.x\n",
    "        dy = point_target.y - point_core.y\n",
    "        dz = point_target.z - point_core.z\n",
    "\n",
    "        distance = np.sqrt(dx ** 2 + dy ** 2 + dz ** 2)\n",
    "        return(distance)\n",
    "\n",
    "    def CheckSamePoint(self, point1, point2):\n",
    "        distance = self.CalcurateDistance(point1, point2)\n",
    "        if distance < 0.01:\n",
    "            return(True)\n",
    "        else:\n",
    "            return(False)\n",
    "\n",
    "    def CalcurateDoubleDistance(self, point_core, point_target):\n",
    "        dx = point_target.x - point_core.x\n",
    "        dy = point_target.y - point_core.y\n",
    "        dz = point_target.z - point_core.z\n",
    "\n",
    "        double_distance = dx ** 2 + dy ** 2 + dz ** 2\n",
    "        return(double_distance)\n",
    "\n",
    "    def GetTotalPointSize(self):\n",
    "        return(self.__point_size)\n",
    "\n",
    "    def GetMinimumClusterSize(self):\n",
    "        return(self.__min_points_th)\n",
    "    \n",
    "    def GetEpsilon(self):\n",
    "        return(self.__epsiron)\n",
    "\n",
    "    def GetPoints(self):\n",
    "        return(self.__points)\n",
    "\n",
    "    def GetClusterSize(self):\n",
    "        return(self.__cluster_size)\n",
    "\n"
   ]
  },
  {
   "cell_type": "code",
   "execution_count": 339,
   "metadata": {
    "collapsed": true
   },
   "outputs": [],
   "source": [
    "import random\n"
   ]
  },
  {
   "cell_type": "code",
   "execution_count": 340,
   "metadata": {},
   "outputs": [],
   "source": [
    "raw_points = [\n",
    "    [1.0,1.0,0],\n",
    "    [1.0,0.5,0],\n",
    "    [0.5,1.0,0],\n",
    "    [1.0,1.5,0],\n",
    "\n",
    "    [3.0,3.0,0],\n",
    "    [3.0,3.5,0],\n",
    "    [3.5,3.0,0],\n",
    "    [3.5,3.5,0],\n",
    "\n",
    "    [3.0,5.0,0],\n",
    "    [3.0,5.5,0],\n",
    "    [3.5,5.0,0],\n",
    "    [3.5,5.5,0],\n",
    "\n",
    "    [10.0,10.0,0],\n",
    "    [10.0,10.5,0],\n",
    "    [10.5,10.0,0],\n",
    "    [10.5,10.5,0],\n",
    "\n",
    "    [15.0,15.0,0],\n",
    "    [15.0,15.5,0],\n",
    "    [15.5,15.0,0],\n",
    "    [15.5,15.5,0],\n",
    "\n",
    "    [0.0,15.0,0],\n",
    "    [0.0,15.5,0],\n",
    "    [0.5,14.0,0],\n",
    "    [0.5,13.0,0],\n",
    "\n",
    "    [10.0, 10.0,0],\n",
    "    [10.0, 11.5,0],\n",
    "    [10.0, 9.0,0],\n",
    "    [10.0, 8.0,0],\n",
    "\n",
    "    [4.0,3.0,0],\n",
    "    [5.0,3.5,0],\n",
    "    [4.5,2.5,0],\n",
    "    [5.5,3.0,0],\n",
    "\n",
    "    [15.0, 5.0,0],\n",
    "    [15.0, 5.5,0],\n",
    "    [15.0, 7.0,0],\n",
    "    [15.0, 8.0,0],\n",
    "\n",
    "    [1.0, 5.0,0],\n",
    "    [1.0, 5.5,0],\n",
    "    [1.0, 7.0,0],\n",
    "    [1.0, 8.0,0]\n",
    "\n",
    "]\n",
    "\n",
    "points = [Point() for i in range(len(raw_points))]\n",
    "for i in range(len(raw_points)):\n",
    "    p = Point()\n",
    "    p.x = raw_points[i][0]\n",
    "    p.y = raw_points[i][1]\n",
    "    p.z = raw_points[i][2]\n",
    "    p.cluster_id = CLASSIFIED_STATUS.UNCLASSIFIED\n",
    "    points[i] = p"
   ]
  },
  {
   "cell_type": "code",
   "execution_count": 341,
   "metadata": {
    "collapsed": true
   },
   "outputs": [],
   "source": [
    "#points = [Point() for i in range(300)]\n",
    "#for i in range(len(points)):\n",
    "#    points[i].x = random.uniform(0,30)\n",
    "#    points[i].y = random.uniform(0,30)\n",
    "#    points[i].z = 0\n",
    "#    points[i].cluster_id = CLASSIFIED_STATUS.UNCLASSIFIED"
   ]
  },
  {
   "cell_type": "code",
   "execution_count": 342,
   "metadata": {
    "collapsed": true
   },
   "outputs": [],
   "source": [
    "min_points_th = 2\n",
    "max_points_th =  100\n",
    "eps = 2.0"
   ]
  },
  {
   "cell_type": "code",
   "execution_count": 343,
   "metadata": {
    "collapsed": true
   },
   "outputs": [],
   "source": [
    "db = DBSCAN( points, min_points_th, max_points_th, eps)"
   ]
  },
  {
   "cell_type": "code",
   "execution_count": 344,
   "metadata": {
    "collapsed": false
   },
   "outputs": [
    {
     "data": {
      "text/plain": [
       "7"
      ]
     },
     "execution_count": 344,
     "metadata": {},
     "output_type": "execute_result"
    }
   ],
   "source": [
    "db.Run()"
   ]
  },
  {
   "cell_type": "code",
   "execution_count": 345,
   "metadata": {
    "collapsed": true
   },
   "outputs": [
    {
     "name": "stdout",
     "output_type": "stream",
     "text": [
      "7\n",
      "after: 7\n"
     ]
    }
   ],
   "source": [
    "db_points = db.GetPoints()\n",
    "db_cluster_num = db.GetClusterSize()\n",
    "print(db_cluster_num)\n",
    "for i in range(len(db_points)):\n",
    "    if db_points[i].cluster_id == CLASSIFIED_STATUS.NOISE:\n",
    "        db_points[i].cluster_id = db_cluster_num\n",
    "        db_cluster_num = db_cluster_num + 1\n",
    "\n",
    "print(\"after:\",db_cluster_num)\n",
    "        "
   ]
  },
  {
   "cell_type": "code",
   "execution_count": 346,
   "metadata": {
    "collapsed": false
   },
   "outputs": [
    {
     "name": "stdout",
     "output_type": "stream",
     "text": [
      "( 1.0 ,  1.0 ,  0 ) :  1\n",
      "( 1.0 ,  0.5 ,  0 ) :  1\n",
      "( 0.5 ,  1.0 ,  0 ) :  1\n",
      "( 1.0 ,  1.5 ,  0 ) :  1\n",
      "( 3.0 ,  3.0 ,  0 ) :  2\n",
      "( 3.0 ,  3.5 ,  0 ) :  2\n",
      "( 3.5 ,  3.0 ,  0 ) :  2\n",
      "( 3.5 ,  3.5 ,  0 ) :  2\n",
      "( 3.0 ,  5.0 ,  0 ) :  2\n",
      "( 3.0 ,  5.5 ,  0 ) :  2\n",
      "( 3.5 ,  5.0 ,  0 ) :  2\n",
      "( 3.5 ,  5.5 ,  0 ) :  2\n",
      "( 10.0 ,  10.0 ,  0 ) :  3\n",
      "( 10.0 ,  10.5 ,  0 ) :  3\n",
      "( 10.5 ,  10.0 ,  0 ) :  3\n",
      "( 10.5 ,  10.5 ,  0 ) :  3\n",
      "( 15.0 ,  15.0 ,  0 ) :  4\n",
      "( 15.0 ,  15.5 ,  0 ) :  4\n",
      "( 15.5 ,  15.0 ,  0 ) :  4\n",
      "( 15.5 ,  15.5 ,  0 ) :  4\n",
      "( 0.0 ,  15.0 ,  0 ) :  5\n",
      "( 0.0 ,  15.5 ,  0 ) :  5\n",
      "( 0.5 ,  14.0 ,  0 ) :  5\n",
      "( 0.5 ,  13.0 ,  0 ) :  5\n",
      "( 10.0 ,  10.0 ,  0 ) :  3\n",
      "( 10.0 ,  11.5 ,  0 ) :  3\n",
      "( 10.0 ,  9.0 ,  0 ) :  3\n",
      "( 10.0 ,  8.0 ,  0 ) :  3\n",
      "( 4.0 ,  3.0 ,  0 ) :  2\n",
      "( 5.0 ,  3.5 ,  0 ) :  2\n",
      "( 4.5 ,  2.5 ,  0 ) :  2\n",
      "( 5.5 ,  3.0 ,  0 ) :  2\n",
      "( 15.0 ,  5.0 ,  0 ) :  6\n",
      "( 15.0 ,  5.5 ,  0 ) :  6\n",
      "( 15.0 ,  7.0 ,  0 ) :  6\n",
      "( 15.0 ,  8.0 ,  0 ) :  6\n",
      "( 1.0 ,  5.0 ,  0 ) :  2\n",
      "( 1.0 ,  5.5 ,  0 ) :  2\n",
      "( 1.0 ,  7.0 ,  0 ) :  2\n",
      "( 1.0 ,  8.0 ,  0 ) :  2\n"
     ]
    }
   ],
   "source": [
    "for p in db_points:\n",
    "    print(\"(\", p.x, \", \", p.y, \", \", p.z, \") : \", p.cluster_id)"
   ]
  },
  {
   "cell_type": "code",
   "execution_count": 347,
   "metadata": {
    "collapsed": true
   },
   "outputs": [],
   "source": [
    "#for p in points:\n",
    "#    print(\"(\", p.x, \",\\t\", p.y, \",\\t\", p.z, \") : \\t\", p.cluster_id)"
   ]
  },
  {
   "cell_type": "code",
   "execution_count": 348,
   "metadata": {
    "collapsed": true
   },
   "outputs": [
    {
     "data": {
      "text/plain": [
       "[0.14285714285714285,\n",
       " 0.14285714285714285,\n",
       " 0.14285714285714285,\n",
       " 0.14285714285714285,\n",
       " 0.2857142857142857,\n",
       " 0.2857142857142857,\n",
       " 0.2857142857142857,\n",
       " 0.2857142857142857,\n",
       " 0.2857142857142857,\n",
       " 0.2857142857142857,\n",
       " 0.2857142857142857,\n",
       " 0.2857142857142857,\n",
       " 0.42857142857142855,\n",
       " 0.42857142857142855,\n",
       " 0.42857142857142855,\n",
       " 0.42857142857142855,\n",
       " 0.5714285714285714,\n",
       " 0.5714285714285714,\n",
       " 0.5714285714285714,\n",
       " 0.5714285714285714,\n",
       " 0.7142857142857143,\n",
       " 0.7142857142857143,\n",
       " 0.7142857142857143,\n",
       " 0.7142857142857143,\n",
       " 0.42857142857142855,\n",
       " 0.42857142857142855,\n",
       " 0.42857142857142855,\n",
       " 0.42857142857142855,\n",
       " 0.2857142857142857,\n",
       " 0.2857142857142857,\n",
       " 0.2857142857142857,\n",
       " 0.2857142857142857,\n",
       " 0.8571428571428571,\n",
       " 0.8571428571428571,\n",
       " 0.8571428571428571,\n",
       " 0.8571428571428571,\n",
       " 0.2857142857142857,\n",
       " 0.2857142857142857,\n",
       " 0.2857142857142857,\n",
       " 0.2857142857142857]"
      ]
     },
     "execution_count": 348,
     "metadata": {},
     "output_type": "execute_result"
    }
   ],
   "source": [
    "\n",
    "x = []\n",
    "y = []\n",
    "cluster = []\n",
    "#cluster_size = db.GetClusterSize()\n",
    "cluster_size = db_cluster_num\n",
    "for p in db_points:\n",
    "    x.append(p.x)\n",
    "    y.append(p.y)\n",
    "    if p.cluster_id == CLASSIFIED_STATUS.NOISE:\n",
    "        print(\"Noise removed\")\n",
    "        p.cluster_id = -2\n",
    "    cluster.append(p.cluster_id / cluster_size)\n",
    "\n",
    "cluster\n",
    "\n"
   ]
  },
  {
   "cell_type": "code",
   "execution_count": 349,
   "metadata": {
    "collapsed": true
   },
   "outputs": [
    {
     "data": {
      "image/png": "[encoded data removed]",
      "text/plain": [
       "<Figure size 432x288 with 1 Axes>"
      ]
     },
     "metadata": {
      "needs_background": "light"
     },
     "output_type": "display_data"
    }
   ],
   "source": [
    "fig, ax = plt.subplots()\n",
    "ax.scatter(x=x, y=y, color = cm.hsv(cluster), s = 5)\n",
    "max_x = 20\n",
    "max_y = 20\n",
    "ax.set_xlim(0,max_x)\n",
    "ax.set_ylim(0,max_y)\n",
    "\n",
    "x_minor_ticks = np.arange(0,max_x,1)\n",
    "x_major_ticks = np.arange(0,max_x,5)\n",
    "y_minor_ticks = np.arange(0,max_y,1)\n",
    "y_major_ticks = np.arange(0,max_y,5)\n",
    "\n",
    "ax.set_xticks(x_minor_ticks, minor=True)\n",
    "ax.set_xticks(x_major_ticks, minor=False)\n",
    "ax.set_yticks(y_minor_ticks, minor=True)\n",
    "ax.set_yticks(y_major_ticks, minor=False)\n",
    "\n",
    "ax.grid(which=\"major\", color=\"gray\", linestyle=\"solid\")\n",
    "ax.grid(which=\"minor\", color=\"lightgray\", linestyle=\"dotted\")\n",
    "ax.set_aspect('equal')"
   ]
  },
  {
   "cell_type": "code",
   "execution_count": 350,
   "metadata": {
    "collapsed": true
   },
   "outputs": [],
   "source": [
    "def SavePoints(filedir, points, partition = \",\"):\n",
    "    with open(filedir, \"w\") as f:\n",
    "        f.write(str(len(points))+\"\\n\")\n",
    "        for point in points:\n",
    "            cluster_id = 0\n",
    "            if point.cluster_id != CLASSIFIED_STATUS.NOISE:\n",
    "                cluster_id = point.cluster_id\n",
    "            else:\n",
    "                cluster_id = -2\n",
    "            str_data = str(point.x) + partition + str(point.y) + partition + str(point.z) + partition + str(cluster_id) + \"\\n\"\n",
    "            f.write(str_data)"
   ]
  },
  {
   "cell_type": "code",
   "execution_count": 351,
   "metadata": {
    "collapsed": true
   },
   "outputs": [],
   "source": [
    "SavePoints(\"./sample_pcl.xyz\", points, partition=\" \")"
   ]
  },
  {
   "cell_type": "code",
   "execution_count": null,
   "metadata": {},
   "outputs": [],
   "source": []
  }
 ],
 "metadata": {
  "kernelspec": {
   "display_name": "Python 3.10.5 64-bit ('3.10.5')",
   "language": "python",
   "name": "python3"
  },
  "language_info": {
   "codemirror_mode": {
    "name": "ipython",
    "version": 3
   },
   "file_extension": ".py",
   "mimetype": "text/x-python",
   "name": "python",
   "nbconvert_exporter": "python",
   "pygments_lexer": "ipython3",
   "version": "3.8.10"
  }
 },
 "nbformat": 4,
 "nbformat_minor": 2
}
