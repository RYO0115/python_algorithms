{
 "cells": [
  {
   "cell_type": "code",
   "execution_count": 20,
   "metadata": {},
   "outputs": [],
   "source": [
    "# You need to pip install pypdf2\n",
    "import PyPDF2\n",
    "\n",
    "import os,sys\n",
    "import glob\n",
    "\n",
    "cur_dir = os.getcwd()\n",
    "\n",
    "input_pdf_filenames = glob.glob(cur_dir + \"/pdf_files/input/*.pdf\")\n",
    "input_pdf_filenames.sort()\n",
    "output_pdf_filename = cur_dir + \"/pdf_files/output/merged.pdf\""
   ]
  },
  {
   "cell_type": "code",
   "execution_count": 21,
   "metadata": {},
   "outputs": [
    {
     "data": {
      "text/plain": [
       "['c:\\\\Users\\\\km70553\\\\Desktop\\\\SVN\\\\ama_workspace\\\\python_tool\\\\python_tester\\\\PDF_editor/pdf_files/input\\\\1.pdf',\n",
       " 'c:\\\\Users\\\\km70553\\\\Desktop\\\\SVN\\\\ama_workspace\\\\python_tool\\\\python_tester\\\\PDF_editor/pdf_files/input\\\\2.pdf',\n",
       " 'c:\\\\Users\\\\km70553\\\\Desktop\\\\SVN\\\\ama_workspace\\\\python_tool\\\\python_tester\\\\PDF_editor/pdf_files/input\\\\3.pdf']"
      ]
     },
     "execution_count": 21,
     "metadata": {},
     "output_type": "execute_result"
    }
   ],
   "source": [
    "input_pdf_filenames"
   ]
  },
  {
   "cell_type": "code",
   "execution_count": 22,
   "metadata": {},
   "outputs": [],
   "source": [
    "\n",
    "# Import PDF Files and merge into one file\n",
    "\n",
    "pdf_writer = PyPDF2.PdfFileWriter()\n",
    "for file in input_pdf_filenames:\n",
    "    pdf_reader = PyPDF2.PdfFileReader(file)\n",
    "    for page_id in range(pdf_reader.getNumPages()):\n",
    "        pdf_writer.addPage(pdf_reader.getPage(page_id))"
   ]
  },
  {
   "cell_type": "code",
   "execution_count": 23,
   "metadata": {},
   "outputs": [],
   "source": [
    "# Output Merged PDF File\n",
    "\n",
    "with open(output_pdf_filename, \"wb\") as f:\n",
    "    pdf_writer.write(f)"
   ]
  },
  {
   "cell_type": "code",
   "execution_count": null,
   "metadata": {},
   "outputs": [],
   "source": []
  }
 ],
 "metadata": {
  "interpreter": {
   "hash": "3caf13703c5b1c02abff9fa597e671e1239d1d668b6a345ae62ddadff9d8fc63"
  },
  "kernelspec": {
   "display_name": "Python 3.7.3 64-bit ('py37': conda)",
   "name": "python3"
  },
  "language_info": {
   "codemirror_mode": {
    "name": "ipython",
    "version": 3
   },
   "file_extension": ".py",
   "mimetype": "text/x-python",
   "name": "python",
   "nbconvert_exporter": "python",
   "pygments_lexer": "ipython3",
   "version": "3.7.3"
  },
  "orig_nbformat": 4
 },
 "nbformat": 4,
 "nbformat_minor": 2
}
