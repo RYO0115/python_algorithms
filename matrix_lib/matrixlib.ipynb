{
 "cells": [
  {
   "cell_type": "code",
   "execution_count": 5,
   "metadata": {},
   "outputs": [],
   "source": [
    "import math\n",
    "import copy\n",
    "class Matrix:\n",
    "    def __init__(self, row, col):\n",
    "        self.row = row\n",
    "        self.col = col\n",
    "        self.data = [ 0 for i in range(row * col)]\n",
    "        self.error = False\n",
    "\n",
    "    def ResetMatrix(self, row, col):\n",
    "        self.row = row\n",
    "        self.col = col\n",
    "        self.error = False\n",
    "\n",
    "    def InitializeWithIdentity(self):\n",
    "        for row in range(self.row):\n",
    "            for col in range(self.col):\n",
    "                if row == col:\n",
    "                    self.data[row * self.col + col] = 1\n",
    "                else:\n",
    "                    self.data[row * self.col + col] = 0\n",
    "    \n",
    "    def CheckScalar(self, other):\n",
    "        scalar = False\n",
    "        if type(other) is float or type(other) is int:\n",
    "            scalar = True\n",
    "        return(scalar)\n",
    "\n",
    "    def Add(self, other):\n",
    "        scalar = self.CheckScalar(other)\n",
    "        ans = Matrix(self.row, self.col)\n",
    "        \n",
    "        if scalar==False:\n",
    "            if self.row != other.row or self.col != other.col:\n",
    "                ans.error = True\n",
    "                return(ans)\n",
    "        \n",
    "            for row in range(self.row):\n",
    "                for col in range(self.col):\n",
    "                    ans[row, col] = self[row, col] + other[row, col]\n",
    "                    \n",
    "        else:\n",
    "            for row in range(self.row):\n",
    "                for col in range(self.col):\n",
    "                    ans[row, col] = self[ row, col] + other\n",
    "        return(ans)\n",
    "\n",
    "    def __add__(self, other):\n",
    "        return(self.Add(other))\n",
    "\n",
    "\n",
    "    def Sub(self, other):\n",
    "        scalar = self.CheckScalar(other)\n",
    "        ans = Matrix(self.row, self.col)\n",
    "            \n",
    "        if scalar==False:\n",
    "            if self.row != other.row or self.col != other.col:\n",
    "                ans.error = True\n",
    "                return(ans)\n",
    "        \n",
    "            for row in range(self.row):\n",
    "                for col in range(self.col):\n",
    "                    ans[row, col] = self[row,col] - other[row, col]\n",
    "        else:\n",
    "            for row in range(self.row):\n",
    "                for col in range(self.col):\n",
    "                    ans[row, col] = self[row,col] - other\n",
    "        return(ans)\n",
    "    \n",
    "    def __sub__(self, other):\n",
    "        return(self.Sub(other))\n",
    "\n",
    "    def __mul__(self, other):\n",
    "        scalar = self.CheckScalar(other)\n",
    "        \n",
    "        if scalar == False and self.col != other.row:\n",
    "            ans.error = True\n",
    "            return(ans)\n",
    "\n",
    "        if scalar==False:\n",
    "            ans = Matrix(self.row, other.col)\n",
    "            for row in range(self.row):\n",
    "                for col in range(other.col):\n",
    "                    for other_row in range(other.row):\n",
    "                        ans[row,col] += self[row,other_row] * other[other_row,col]\n",
    "        else:\n",
    "            ans = Matrix(self.row, self.col)\n",
    "            for row in range(self.row):\n",
    "                for col in range(self.col):\n",
    "                    ans[row, col] = self[row,col] * other\n",
    "\n",
    "        return(ans)\n",
    "\n",
    "    def __str__(self):\n",
    "        if self.error == True:\n",
    "            return(\"No Matrix\")\n",
    "\n",
    "        s = \"\"\n",
    "        for row in range(self.row):\n",
    "            s += \"|\"\n",
    "            for col in range(self.col):\n",
    "                s += \"\\t\" + \"{:.3f}\".format(self[row,col])\n",
    "            s += \"\\t|\\n\"\n",
    "        return(s)\n",
    "\n",
    "    def __setitem__(self, key, value):\n",
    "        if len(key) == 2:\n",
    "            row = key[0]\n",
    "            col = key[1]\n",
    "        elif len(key) == 1:\n",
    "            row = 0\n",
    "            col = key[0]\n",
    "        else:\n",
    "            return(None)\n",
    "        if row>=self.row or row < 0 or col >= self.col or col < 0:\n",
    "            return(None)\n",
    "        \n",
    "        self.data[ row * self.col + col ] = value\n",
    "        \n",
    "\n",
    "    def __getitem__(self, key):\n",
    "        if len(key) == 2:\n",
    "            row = key[0]\n",
    "            col = key[1]\n",
    "        elif len(key) == 1:\n",
    "            row = 0\n",
    "            col = key[0]\n",
    "        else:\n",
    "            return(None)\n",
    "        if row>=self.row or row < 0 or col >= self.col or col < 0:\n",
    "            return(None)\n",
    "\n",
    "        #print(\"row:\",row,\" col:\",col)\n",
    "        return(self.data[ row * self.col + col])\n",
    "\n",
    "    def Inverse(self, inv_type=\"GaussJordan\"):\n",
    "        \n",
    "        if inv_type == \"GaussJordan\":\n",
    "              return(self.GaussJordanInverse())\n",
    "\n",
    "\n",
    "    def GaussJordanInverse(self):\n",
    "        det     = self.Det()\n",
    "        ans     = Matrix(self.row, self.col)\n",
    "        temp    = copy.deepcopy(self)\n",
    "        ans.InitializeWithIdentity()\n",
    "        if self.row != self.col or det == 0:\n",
    "            ans.error = False\n",
    "            return(ans)\n",
    "        \n",
    "        for i in range(self.row):\n",
    "            buf = 1.0 / self[i,i]\n",
    "            for j in range(self.row):\n",
    "                self[i,j] = self[i,j] * buf\n",
    "                ans[i,j] = ans[i,j] * buf\n",
    "        \n",
    "            for j in range(self.row):\n",
    "                if i != j:\n",
    "                    buf = self[j,i]\n",
    "                    for k in range(self.row):\n",
    "                        self[j,k] = self[j,k] - self[i,k] * buf\n",
    "                        ans[j,k] = ans[j,k] - ans[i,k] * buf\n",
    "\n",
    "        self = copy.deepcopy(temp)\n",
    "\n",
    "        return(ans) \n",
    "\n",
    "    def Det(self):\n",
    "        temp = copy.deepcopy(self)\n",
    "        det = 1.0\n",
    "        for i in range(self.row):\n",
    "            if self[i,i] == 0:\n",
    "                for j in range(i,self.row):\n",
    "                    for k in range(self.row):\n",
    "                        buf = self[i,k]\n",
    "                        self[i,k] = self[j,k]\n",
    "                        self[j,k] = buf\n",
    "                    det *= -1.0\n",
    "                    break   \n",
    "\n",
    "\n",
    "        for i in range(self.row):\n",
    "            for j in range(self.row):\n",
    "                if i < j:\n",
    "                    buf = self[j,i] / self[i,i]\n",
    "                    for k in range(self.row):\n",
    "                        self[j,k] = self[j,k] - self[i,k] * buf\n",
    "\n",
    "        for i in range(self.row):\n",
    "            det *= self[i,i]\n",
    "        self = copy.deepcopy(temp)\n",
    "        return(det)\n",
    "    "
   ]
  },
  {
   "cell_type": "code",
   "execution_count": 6,
   "metadata": {},
   "outputs": [],
   "source": [
    "\n",
    "a = Matrix(3,3)\n",
    "b = Matrix(3,3)\n",
    "\n"
   ]
  },
  {
   "cell_type": "code",
   "execution_count": 9,
   "metadata": {},
   "outputs": [
    {
     "output_type": "stream",
     "name": "stdout",
     "text": "a=\n |\t1.000\t2.000\t3.000\t|\n|\t4.000\t5.000\t6.000\t|\n|\t7.000\t8.000\t9.000\t|\n\nb=\n |\t1.000\t2.000\t3.000\t|\n|\t4.000\t5.000\t6.000\t|\n|\t0.000\t0.000\t0.000\t|\n\nans=\n |\t2.000\t4.000\t6.000\t|\n|\t8.000\t10.000\t12.000\t|\n|\t7.000\t8.000\t9.000\t|\n\n"
    }
   ],
   "source": [
    "a.data = [1,2,3,4,5,6,7,8,9]\n",
    "b.data = [1,2,3,4,5,6,0,0,0]\n",
    "print(\"a=\\n\",a)\n",
    "print(\"b=\\n\",b)\n",
    "ans = a+b\n",
    "print(\"ans=\\n\",ans)"
   ]
  },
  {
   "cell_type": "code",
   "execution_count": 10,
   "metadata": {},
   "outputs": [
    {
     "output_type": "stream",
     "name": "stdout",
     "text": "-0.0\n"
    }
   ],
   "source": [
    "c = Matrix(4,4)\n",
    "c.data = [2,-2,4,2, 2,-1,6,3, 3,-2,12,12, -1,3,-4,4]\n",
    "print(a.Det())\n"
   ]
  },
  {
   "cell_type": "code",
   "execution_count": 11,
   "metadata": {
    "tags": []
   },
   "outputs": [
    {
     "output_type": "stream",
     "name": "stdout",
     "text": "|\t1.000\t2.000\t3.000\t|\n|\t0.000\t-3.000\t-6.000\t|\n|\t0.000\t0.000\t0.000\t|\n\n"
    }
   ],
   "source": [
    "print(a)"
   ]
  },
  {
   "cell_type": "code",
   "execution_count": 12,
   "metadata": {},
   "outputs": [],
   "source": [
    "c = Matrix(2,2)\n",
    "c[0,0] = 1\n",
    "c[1,0] = 0\n",
    "c[0,1] = 0\n",
    "c[1,1] = 2\n"
   ]
  },
  {
   "cell_type": "code",
   "execution_count": 13,
   "metadata": {},
   "outputs": [
    {
     "output_type": "execute_result",
     "data": {
      "text/plain": "2.0"
     },
     "metadata": {},
     "execution_count": 13
    }
   ],
   "source": [
    "c.Det()"
   ]
  },
  {
   "cell_type": "code",
   "execution_count": 14,
   "metadata": {},
   "outputs": [
    {
     "output_type": "stream",
     "name": "stdout",
     "text": "|\t1.000\t0.000\t|\n|\t0.000\t0.500\t|\n\n"
    }
   ],
   "source": [
    "print(c.Inverse())"
   ]
  },
  {
   "cell_type": "code",
   "execution_count": 15,
   "metadata": {},
   "outputs": [],
   "source": [
    "d = Matrix(4,4)\n",
    "d.data = [1,2,0,-1, -1,1,2,0, 2,0,1,1, 1,-2,-1,1]"
   ]
  },
  {
   "cell_type": "code",
   "execution_count": 16,
   "metadata": {},
   "outputs": [
    {
     "output_type": "stream",
     "name": "stdout",
     "text": "|\t1.000\t-0.667\t0.364\t3.000\t|\n|\t0.000\t0.333\t-0.182\t-7.000\t|\n|\t0.000\t0.000\t0.273\t5.000\t|\n|\t-0.000\t-0.000\t-0.000\t-11.000\t|\n\n"
    }
   ],
   "source": [
    "print(d.Inverse())"
   ]
  },
  {
   "cell_type": "code",
   "execution_count": null,
   "metadata": {},
   "outputs": [],
   "source": []
  }
 ],
 "metadata": {
  "language_info": {
   "codemirror_mode": {
    "name": "ipython",
    "version": 3
   },
   "file_extension": ".py",
   "mimetype": "text/x-python",
   "name": "python",
   "nbconvert_exporter": "python",
   "pygments_lexer": "ipython3",
   "version": "3.6.4-final"
  },
  "orig_nbformat": 2,
  "kernelspec": {
   "name": "python3",
   "display_name": "Python 3"
  }
 },
 "nbformat": 4,
 "nbformat_minor": 2
}