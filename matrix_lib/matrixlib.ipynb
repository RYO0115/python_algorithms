{
 "cells": [
  {
   "cell_type": "code",
   "execution_count": 1,
   "metadata": {},
   "outputs": [],
   "source": []
  },
  {
   "cell_type": "code",
   "execution_count": 39,
   "metadata": {},
   "outputs": [],
   "source": [
    "import math\n",
    "import copy\n",
    "class Matrix:\n",
    "    def __init__(self, row, col):\n",
    "        self.row = row\n",
    "        self.col = col\n",
    "        self.data = [ 0 for i in range(row * col)]\n",
    "        self.error = False\n",
    "\n",
    "    def InitializeWithIdentity(self):\n",
    "        for row in range(self.row):\n",
    "            for col in range(self.col):\n",
    "                if row == col:\n",
    "                    self.data[row * self.col + col] = 1\n",
    "                else:\n",
    "                    self.data[row * self.col + col] = 0\n",
    "    \n",
    "    def __add__(self, other):\n",
    "        ans = Matrix(self.row, self.col)\n",
    "        if self.row != other.row or self.col != other.col:\n",
    "            ans.error = True\n",
    "            return(ans)\n",
    "        \n",
    "        for row in range(self.row):\n",
    "            for col in range(self.col):\n",
    "                ans[row, col] = self[row, col] + other[row, col]\n",
    "        return(ans)\n",
    "    \n",
    "    def __sub__(self, other):\n",
    "        ans = Matrix(self.row, self.col)\n",
    "        if self.row != other.row or self.col != other.col:\n",
    "            ans.error = True\n",
    "            return(ans)\n",
    "        \n",
    "        for row in range(self.row):\n",
    "            for col in range(self.col):\n",
    "                ans[row, col] = self[row, col] - other[row, col]\n",
    "        return(ans)\n",
    "    \n",
    "    def __mul__(self, other):\n",
    "        ans = Matrix(self.row, other.col)\n",
    "        if self.col != other.row:\n",
    "            ans.error = True\n",
    "            return(ans)\n",
    "        \n",
    "        for row in range(self.row):\n",
    "            for col in range(other.col):\n",
    "                for other_row in range(other.row):\n",
    "                    ans[row,col] += self[row,other_row] * other[other_row,col]\n",
    "        return(ans)\n",
    "\n",
    "    def __str__(self):\n",
    "        if self.error == True:\n",
    "            return(\"No Matrix\")\n",
    "\n",
    "        s = \"\"\n",
    "        for row in range(self.row):\n",
    "            s += \"|\"\n",
    "            for col in range(self.col):\n",
    "                s += \"\\t\" + str(self.data[row * self.col + col])\n",
    "            s += \"\\t|\\n\"\n",
    "        return(s)\n",
    "\n",
    "    def __setitem__(self, key, value):\n",
    "        if len(key) == 2:\n",
    "            row = key[0]\n",
    "            col = key[1]\n",
    "        elif len(key) == 1:\n",
    "            row = 0\n",
    "            col = key[0]\n",
    "        else:\n",
    "            return(None)\n",
    "        if row>=self.row or row < 0 or col >= self.col or col < 0:\n",
    "            return(None)\n",
    "        \n",
    "        self.data[row * self.col + col ] = value\n",
    "        \n",
    "\n",
    "    def __getitem__(self, key):\n",
    "        if len(key) == 2:\n",
    "            row = key[0]\n",
    "            col = key[1]\n",
    "        elif len(key) == 1:\n",
    "            row = 0\n",
    "            col = key[0]\n",
    "        else:\n",
    "            return(None)\n",
    "        if row>=self.row or row < 0 or col >= self.col or col < 0:\n",
    "            return(None)\n",
    "\n",
    "        #print(\"row:\",row,\" col:\",col)\n",
    "        return(self.data[row*self.col + col])\n",
    "\n",
    "    def Inverse(self, inv_type=\"GaussJordan\"):\n",
    "        if inv_type == \"GaussJordan\":\n",
    "            return(self.GaussJordanInverse)\n",
    "\n",
    "\n",
    "    def GaussJordanInverse(self):\n",
    "        ans     = Matrix(self.row, self.col)\n",
    "        temp    = copy.deepcopy(self)\n",
    "        ans.InitializeWithIdentity()\n",
    "\n",
    "        for row in range(self.row):\n",
    "            max_num = math.fabs()\n",
    "\n",
    "\n",
    "    "
   ]
  },
  {
   "cell_type": "code",
   "execution_count": 40,
   "metadata": {},
   "outputs": [],
   "source": [
    "a = Matrix(3,3)\n",
    "b = Matrix(3,2)"
   ]
  },
  {
   "cell_type": "code",
   "execution_count": 41,
   "metadata": {},
   "outputs": [],
   "source": [
    "a.data = [1,2,3,4,5,6,7,8,9]\n",
    "b.data = [1,2,3,4,5,6]\n"
   ]
  },
  {
   "cell_type": "code",
   "execution_count": 42,
   "metadata": {
    "tags": []
   },
   "outputs": [],
   "source": [
    "ans = a * b"
   ]
  },
  {
   "cell_type": "code",
   "execution_count": 43,
   "metadata": {},
   "outputs": [
    {
     "output_type": "execute_result",
     "data": {
      "text/plain": "[22, 28, 49, 64, 76, 100]"
     },
     "metadata": {},
     "execution_count": 43
    }
   ],
   "source": [
    "ans.data"
   ]
  },
  {
   "cell_type": "code",
   "execution_count": 44,
   "metadata": {
    "tags": []
   },
   "outputs": [
    {
     "output_type": "stream",
     "name": "stdout",
     "text": "|\t22\t28\t|\n|\t49\t64\t|\n|\t76\t100\t|\n\n"
    }
   ],
   "source": [
    "print(ans)"
   ]
  },
  {
   "cell_type": "code",
   "execution_count": 45,
   "metadata": {
    "tags": []
   },
   "outputs": [
    {
     "output_type": "execute_result",
     "data": {
      "text/plain": "28"
     },
     "metadata": {},
     "execution_count": 45
    }
   ],
   "source": [
    "ans[0,1]"
   ]
  }
 ],
 "metadata": {
  "language_info": {
   "codemirror_mode": {
    "name": "ipython",
    "version": 3
   },
   "file_extension": ".py",
   "mimetype": "text/x-python",
   "name": "python",
   "nbconvert_exporter": "python",
   "pygments_lexer": "ipython3",
   "version": "3.7.3-final"
  },
  "orig_nbformat": 2,
  "kernelspec": {
   "name": "python3",
   "display_name": "Python 3"
  }
 },
 "nbformat": 4,
 "nbformat_minor": 2
}